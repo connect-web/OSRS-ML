{
 "cells": [
  {
   "cell_type": "code",
   "execution_count": 4,
   "id": "initial_id",
   "metadata": {
    "collapsed": true,
    "ExecuteTime": {
     "end_time": "2024-05-29T11:58:11.005856500Z",
     "start_time": "2024-05-29T11:58:10.589695600Z"
    }
   },
   "outputs": [
    {
     "name": "stdout",
     "output_type": "stream",
     "text": [
      "fetching minigame!\n"
     ]
    },
    {
     "data": {
      "text/plain": "         pid  Banned  updates  activescrapes  inactivescrapes  \\\n0    2391383    True       45             42                3   \n1      89918   False       71             61               10   \n2      48955   False       60             49               11   \n3    6427123   False       11             11                0   \n4    6427062   False       11             11                0   \n..       ...     ...      ...            ...              ...   \n995    55409   False       65             51               14   \n996   118738   False       60             36               24   \n997   236142   False       31             13               18   \n998  1089372   False       65             25               40   \n999  2702474   False       69             69                0   \n\n     shortestinactivity  shortestactivity  longestinactivity  longestactivity  \\\n0                     3                 0                  3                0   \n1                     1                 1                  3               31   \n2                    11                 0                 11                0   \n3                     0                11                  0               11   \n4                     0                11                  0               11   \n..                  ...               ...                ...              ...   \n995                   1                 1                  4               20   \n996                   1                 1                 10                7   \n997                   1                 1                 14                3   \n998                   1                 1                  9                6   \n999                   0                69                  0               69   \n\n     Overall_live  ...  Vardorvis_aggregate  Venenatis_aggregate  \\\n0        36437448  ...                  0.0                  0.0   \n1       312782864  ...                  0.0                  0.0   \n2       356838797  ...                  0.0                  0.0   \n3        20680465  ...                  0.0                  0.0   \n4        20520433  ...                  0.0                  0.0   \n..            ...  ...                  ...                  ...   \n995     322192726  ...                  0.0                 28.0   \n996     491520367  ...                  0.0                  0.0   \n997     236165505  ...                  0.0                  0.0   \n998      26619535  ...                  0.0                  0.0   \n999      44584144  ...                  0.0                  0.0   \n\n     Vet'ion_aggregate  Vorkath_aggregate  Wintertodt_aggregate  \\\n0                  0.0                0.0                   0.0   \n1                  0.0                0.0                   0.0   \n2                  0.0                0.0                   0.0   \n3                  0.0                0.0                   0.0   \n4                  0.0                0.0                   0.0   \n..                 ...                ...                   ...   \n995                0.0              149.0                   8.0   \n996                0.0                0.0                   0.0   \n997                0.0                0.0                   0.0   \n998                0.0                0.0                   0.0   \n999                0.0                0.0                 229.0   \n\n     Zalcano_aggregate  Zulrah_aggregate  Colosseum Glory_aggregate  \\\n0                  0.0               0.0                          0   \n1                  0.0              16.0                          0   \n2                  0.0               0.0                          0   \n3                  0.0               0.0                          0   \n4                  0.0               0.0                          0   \n..                 ...               ...                        ...   \n995                0.0               0.0                          0   \n996                0.0               0.0                          0   \n997                0.0             119.0                          0   \n998                0.0               0.0                          0   \n999                0.0               0.0                          0   \n\n     Deadman Points_aggregate  League Points_aggregate  \n0                           0                        0  \n1                           0                        0  \n2                           0                        0  \n3                           0                        0  \n4                           0                        0  \n..                        ...                      ...  \n995                         0                        0  \n996                         0                        0  \n997                         0                        0  \n998                         0                        0  \n999                         0                        0  \n\n[1000 rows x 209 columns]",
      "text/html": "<div>\n<style scoped>\n    .dataframe tbody tr th:only-of-type {\n        vertical-align: middle;\n    }\n\n    .dataframe tbody tr th {\n        vertical-align: top;\n    }\n\n    .dataframe thead th {\n        text-align: right;\n    }\n</style>\n<table border=\"1\" class=\"dataframe\">\n  <thead>\n    <tr style=\"text-align: right;\">\n      <th></th>\n      <th>pid</th>\n      <th>Banned</th>\n      <th>updates</th>\n      <th>activescrapes</th>\n      <th>inactivescrapes</th>\n      <th>shortestinactivity</th>\n      <th>shortestactivity</th>\n      <th>longestinactivity</th>\n      <th>longestactivity</th>\n      <th>Overall_live</th>\n      <th>...</th>\n      <th>Vardorvis_aggregate</th>\n      <th>Venenatis_aggregate</th>\n      <th>Vet'ion_aggregate</th>\n      <th>Vorkath_aggregate</th>\n      <th>Wintertodt_aggregate</th>\n      <th>Zalcano_aggregate</th>\n      <th>Zulrah_aggregate</th>\n      <th>Colosseum Glory_aggregate</th>\n      <th>Deadman Points_aggregate</th>\n      <th>League Points_aggregate</th>\n    </tr>\n  </thead>\n  <tbody>\n    <tr>\n      <th>0</th>\n      <td>2391383</td>\n      <td>True</td>\n      <td>45</td>\n      <td>42</td>\n      <td>3</td>\n      <td>3</td>\n      <td>0</td>\n      <td>3</td>\n      <td>0</td>\n      <td>36437448</td>\n      <td>...</td>\n      <td>0.0</td>\n      <td>0.0</td>\n      <td>0.0</td>\n      <td>0.0</td>\n      <td>0.0</td>\n      <td>0.0</td>\n      <td>0.0</td>\n      <td>0</td>\n      <td>0</td>\n      <td>0</td>\n    </tr>\n    <tr>\n      <th>1</th>\n      <td>89918</td>\n      <td>False</td>\n      <td>71</td>\n      <td>61</td>\n      <td>10</td>\n      <td>1</td>\n      <td>1</td>\n      <td>3</td>\n      <td>31</td>\n      <td>312782864</td>\n      <td>...</td>\n      <td>0.0</td>\n      <td>0.0</td>\n      <td>0.0</td>\n      <td>0.0</td>\n      <td>0.0</td>\n      <td>0.0</td>\n      <td>16.0</td>\n      <td>0</td>\n      <td>0</td>\n      <td>0</td>\n    </tr>\n    <tr>\n      <th>2</th>\n      <td>48955</td>\n      <td>False</td>\n      <td>60</td>\n      <td>49</td>\n      <td>11</td>\n      <td>11</td>\n      <td>0</td>\n      <td>11</td>\n      <td>0</td>\n      <td>356838797</td>\n      <td>...</td>\n      <td>0.0</td>\n      <td>0.0</td>\n      <td>0.0</td>\n      <td>0.0</td>\n      <td>0.0</td>\n      <td>0.0</td>\n      <td>0.0</td>\n      <td>0</td>\n      <td>0</td>\n      <td>0</td>\n    </tr>\n    <tr>\n      <th>3</th>\n      <td>6427123</td>\n      <td>False</td>\n      <td>11</td>\n      <td>11</td>\n      <td>0</td>\n      <td>0</td>\n      <td>11</td>\n      <td>0</td>\n      <td>11</td>\n      <td>20680465</td>\n      <td>...</td>\n      <td>0.0</td>\n      <td>0.0</td>\n      <td>0.0</td>\n      <td>0.0</td>\n      <td>0.0</td>\n      <td>0.0</td>\n      <td>0.0</td>\n      <td>0</td>\n      <td>0</td>\n      <td>0</td>\n    </tr>\n    <tr>\n      <th>4</th>\n      <td>6427062</td>\n      <td>False</td>\n      <td>11</td>\n      <td>11</td>\n      <td>0</td>\n      <td>0</td>\n      <td>11</td>\n      <td>0</td>\n      <td>11</td>\n      <td>20520433</td>\n      <td>...</td>\n      <td>0.0</td>\n      <td>0.0</td>\n      <td>0.0</td>\n      <td>0.0</td>\n      <td>0.0</td>\n      <td>0.0</td>\n      <td>0.0</td>\n      <td>0</td>\n      <td>0</td>\n      <td>0</td>\n    </tr>\n    <tr>\n      <th>...</th>\n      <td>...</td>\n      <td>...</td>\n      <td>...</td>\n      <td>...</td>\n      <td>...</td>\n      <td>...</td>\n      <td>...</td>\n      <td>...</td>\n      <td>...</td>\n      <td>...</td>\n      <td>...</td>\n      <td>...</td>\n      <td>...</td>\n      <td>...</td>\n      <td>...</td>\n      <td>...</td>\n      <td>...</td>\n      <td>...</td>\n      <td>...</td>\n      <td>...</td>\n      <td>...</td>\n    </tr>\n    <tr>\n      <th>995</th>\n      <td>55409</td>\n      <td>False</td>\n      <td>65</td>\n      <td>51</td>\n      <td>14</td>\n      <td>1</td>\n      <td>1</td>\n      <td>4</td>\n      <td>20</td>\n      <td>322192726</td>\n      <td>...</td>\n      <td>0.0</td>\n      <td>28.0</td>\n      <td>0.0</td>\n      <td>149.0</td>\n      <td>8.0</td>\n      <td>0.0</td>\n      <td>0.0</td>\n      <td>0</td>\n      <td>0</td>\n      <td>0</td>\n    </tr>\n    <tr>\n      <th>996</th>\n      <td>118738</td>\n      <td>False</td>\n      <td>60</td>\n      <td>36</td>\n      <td>24</td>\n      <td>1</td>\n      <td>1</td>\n      <td>10</td>\n      <td>7</td>\n      <td>491520367</td>\n      <td>...</td>\n      <td>0.0</td>\n      <td>0.0</td>\n      <td>0.0</td>\n      <td>0.0</td>\n      <td>0.0</td>\n      <td>0.0</td>\n      <td>0.0</td>\n      <td>0</td>\n      <td>0</td>\n      <td>0</td>\n    </tr>\n    <tr>\n      <th>997</th>\n      <td>236142</td>\n      <td>False</td>\n      <td>31</td>\n      <td>13</td>\n      <td>18</td>\n      <td>1</td>\n      <td>1</td>\n      <td>14</td>\n      <td>3</td>\n      <td>236165505</td>\n      <td>...</td>\n      <td>0.0</td>\n      <td>0.0</td>\n      <td>0.0</td>\n      <td>0.0</td>\n      <td>0.0</td>\n      <td>0.0</td>\n      <td>119.0</td>\n      <td>0</td>\n      <td>0</td>\n      <td>0</td>\n    </tr>\n    <tr>\n      <th>998</th>\n      <td>1089372</td>\n      <td>False</td>\n      <td>65</td>\n      <td>25</td>\n      <td>40</td>\n      <td>1</td>\n      <td>1</td>\n      <td>9</td>\n      <td>6</td>\n      <td>26619535</td>\n      <td>...</td>\n      <td>0.0</td>\n      <td>0.0</td>\n      <td>0.0</td>\n      <td>0.0</td>\n      <td>0.0</td>\n      <td>0.0</td>\n      <td>0.0</td>\n      <td>0</td>\n      <td>0</td>\n      <td>0</td>\n    </tr>\n    <tr>\n      <th>999</th>\n      <td>2702474</td>\n      <td>False</td>\n      <td>69</td>\n      <td>69</td>\n      <td>0</td>\n      <td>0</td>\n      <td>69</td>\n      <td>0</td>\n      <td>69</td>\n      <td>44584144</td>\n      <td>...</td>\n      <td>0.0</td>\n      <td>0.0</td>\n      <td>0.0</td>\n      <td>0.0</td>\n      <td>229.0</td>\n      <td>0.0</td>\n      <td>0.0</td>\n      <td>0</td>\n      <td>0</td>\n      <td>0</td>\n    </tr>\n  </tbody>\n</table>\n<p>1000 rows × 209 columns</p>\n</div>"
     },
     "execution_count": 4,
     "metadata": {},
     "output_type": "execute_result"
    }
   ],
   "source": [
    "from rs_data import get_dataframe\n",
    "from rs_data.database import Connection\n",
    "\n",
    "db = Connection(localhost=True)\n",
    "\n",
    "POSSIBLE_ERROR_REPORTING_IDS = [2005,\n",
    "                                266869,\n",
    "                                453844,\n",
    "                                498355,\n",
    "                                512432,\n",
    "                                657248,\n",
    "                                3661400,\n",
    "                                48629426,\n",
    "                                116362419,\n",
    "                                119509443]\n",
    "\n",
    "df, formatter = get_dataframe(activity='Barrows Chests', limit=1E3)\n",
    "\n",
    "df"
   ]
  },
  {
   "cell_type": "code",
   "outputs": [],
   "source": [
    "auc"
   ],
   "metadata": {
    "collapsed": false
   },
   "id": "e6371e82f1e6bb03"
  },
  {
   "cell_type": "code",
   "outputs": [
    {
     "data": {
      "text/plain": "'Loaded 1000 player_ids'"
     },
     "execution_count": 7,
     "metadata": {},
     "output_type": "execute_result"
    }
   ],
   "source": [
    "pids = df['pid'].tolist()\n",
    "f'Loaded {len(pids)} player_ids'"
   ],
   "metadata": {
    "collapsed": false,
    "ExecuteTime": {
     "end_time": "2024-05-29T11:58:58.596299500Z",
     "start_time": "2024-05-29T11:58:58.586265400Z"
    }
   },
   "id": "1a3d966673357e6b",
   "execution_count": 7
  },
  {
   "cell_type": "code",
   "outputs": [],
   "source": [
    "query = '''\n",
    "\n",
    "\n",
    "'''\n",
    "\n",
    "db.get(query)"
   ],
   "metadata": {
    "collapsed": false
   },
   "id": "50dee27d7a550fad"
  },
  {
   "cell_type": "markdown",
   "source": [
    "Possible Features\n",
    "\n",
    "# Reports\n",
    "- The COUNT of times you have been manually reported.\n",
    "\n",
    "# Worlds\n",
    "\n",
    "- All of the world numbers that you were in\n",
    "- [Mode world]\n",
    "- The COUNT of different worlds you visited.\n",
    "\n",
    "\n",
    "# Equipment\n",
    "\n",
    "- Your most active outfit\n",
    "\n",
    "- The number of unique items you have been seen wearing.\n",
    "- The number of unique outfits you have worn.\n",
    "- The number of unique weapons you have worn.\n",
    "\n",
    "If you have the level to use a better weapon / gear but you DON'T (and item is CHEAP)\n",
    "- Upgrades skipped [A list of item_id's] of the upgrades you didn't wear as BIS\n",
    "\n",
    "- Most expensive gear worn:\n",
    "- Comparing this value with their expected profit could be a useful feature\n",
    "\n",
    "## Active outfit ( Day ):\n",
    "- To generate a user's most common outfit you could get:\n",
    "- distinct outfits per-day\n",
    "- then over the time period what outfit appears in most of the days, different kinds of means can be useful.\n",
    "\n",
    "## Favorite item ( Day ):\n",
    "- An item you wear with most outfits\n",
    "\n",
    "# Region's\n",
    "- COUNT unique regions entered\n",
    "\n",
    "- Top 3 regions per day & run some statistics to figure an appropriate mean\n",
    "- Top 3 regions (total duration)\n",
    "- \n",
    "\n",
    "## Favorite Bank region?\n",
    "- This would be an interesting one\n",
    "\n",
    "## Home teleport regions\n",
    "- Some users teleport to house\n",
    "- Some users might also teleport to ferox for the pool\n",
    "\n",
    "## Bank Region's entered:\n",
    "e.g if user has entered the region it's True , Else False\n",
    "GE - TRUE\n",
    "ARDOUGE - TRUE\n",
    "VARROCK - TRUE\n",
    "FALADOR - FALSE\n",
    "\n",
    "The total bank region's used can be put into a single array... [T, T, T, F]\n",
    "\n",
    "# Active Hours\n",
    "\n",
    "## Hours of the day\n",
    "\n",
    "- Build an hours of the day that the user has been online at\n",
    "do they rotate throughout the 24 hour clock at every hour?\n",
    "\n",
    "\n",
    "Are they usually never online at X time?\n",
    "\n",
    "or instead of never use percentages to try and figure out:\n",
    "- When the user goes to sleep on a weekday\n",
    "- ... same for weekend.\n",
    "- \n",
    "https://explv.github.io/?centreX=1640&centreY=3503&centreZ=0&zoom=6\n",
    "\n"
   ],
   "metadata": {
    "collapsed": false
   },
   "id": "b70fa35601dc4e59"
  },
  {
   "cell_type": "code",
   "outputs": [],
   "source": [
    "BANKS_REGIONS = {\n",
    "    \n",
    "    \n",
    "    13613 : 'Nardah',\n",
    "    12588 : 'Tempeross',\n",
    "    \n",
    "    11051 : 'Ape Atoll',\n",
    "    14638 : 'Mos Le Harmless',\n",
    "    \n",
    "    9541 : 'Zanaris',\n",
    "    14936 : 'Motherlode Mine',\n",
    "    11310 : 'Shilo Village',\n",
    "    12895 : 'Prifddinas North',\n",
    "    13150 : 'Prifddinas South',\n",
    "    \n",
    "    \n",
    "    \n",
    "    \n",
    "    10293 : 'Fishing Guild',\n",
    "    9781 : 'Tree Gnome Stronghold',\n",
    "    9782 : 'Tree Gnome Stronghold Tree',\n",
    "    9300 : 'Tree Gnome Stronghold Floor 1',\n",
    "    8022 : 'Tree Gnome Stronghold Floor 2',\n",
    "    \n",
    "    \n",
    "    \n",
    "    10547 : 'Ardougne',\n",
    "    10292 : 'Ardougne North',\n",
    "    10545 : 'Fishing Trawler',\n",
    "    10288 : 'Yanille',\n",
    "    \n",
    "    10284 : 'Corsair Cove',\n",
    "    9772 : 'Myths Guild',\n",
    "    8748 : 'Soul Wars',\n",
    "    9531 : 'Jatizso',\n",
    "    \n",
    "    \n",
    "    7227 : 'Piscarilius',\n",
    "    6457 : 'Kourend Castle',\n",
    "    6968 : 'Hosidius',\n",
    "    6712 : 'Hosidius Kitchen',\n",
    "    11103 : 'Lletya',\n",
    "    6968 : 'Hisidius',\n",
    "    6968 : 'Hisidius',\n",
    "    \n",
    "    \n",
    "}\n",
    "\n",
    "BEST_BANKS = {\n",
    "    11571 : 'Crafting Guild',\n",
    "    9275 : 'Neitiznot',\n",
    "    9776 : 'Castle Wars',\n",
    "    12850 : 'Lumbridge',\n",
    "    12338 : 'Draynor',\n",
    "    8253 : 'Lunar Isle',\n",
    "    10537 : 'Pest Control',\n",
    "    4919 : 'COX',\n",
    "    12853 : 'Varrock East',\n",
    "    12597 : 'Varrock West',\n",
    "    12598 : 'Grand Exchange',\n",
    "    13105 : 'Al Kharid',\n",
    "    13104 : 'Shantay pass',\n",
    "    \n",
    "    13363 : 'Duel arena',\n",
    "    12084 : 'Falador East',\n",
    "    11828 : 'Falador West',\n",
    "    11061 : 'Catherby',\n",
    "    10804 : 'Legends Guild bank',\n",
    "    \n",
    "    10806 : 'Seers Village',\n",
    "    10039 : 'Barbarian Outpost',\n",
    "    12342 : 'Edgeville',\n",
    "    4922 : 'Farming guild',\n",
    "}"
   ],
   "metadata": {
    "collapsed": false
   },
   "id": "f8aa8f20fed0d162"
  }
 ],
 "metadata": {
  "kernelspec": {
   "display_name": "Python 3",
   "language": "python",
   "name": "python3"
  },
  "language_info": {
   "codemirror_mode": {
    "name": "ipython",
    "version": 2
   },
   "file_extension": ".py",
   "mimetype": "text/x-python",
   "name": "python",
   "nbconvert_exporter": "python",
   "pygments_lexer": "ipython2",
   "version": "2.7.6"
  }
 },
 "nbformat": 4,
 "nbformat_minor": 5
}
