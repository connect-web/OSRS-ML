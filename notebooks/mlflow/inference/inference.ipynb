{
 "cells": [
  {
   "cell_type": "code",
   "execution_count": 7,
   "id": "initial_id",
   "metadata": {
    "collapsed": true,
    "ExecuteTime": {
     "end_time": "2024-05-19T12:09:50.430701200Z",
     "start_time": "2024-05-19T12:09:50.419960Z"
    }
   },
   "outputs": [],
   "source": [
    "from notebooks.mlflow.inference.evaluate import (get_model, get_data)\n",
    "import pandas as pd\n",
    "from rs_data.database.rs_processing import Leaderboards\n"
   ]
  },
  {
   "cell_type": "code",
   "outputs": [],
   "source": [
    "activities = Leaderboards.get_skill_names(keep_overall=True)\n",
    "\n",
    "#for activity in activities:\n",
    "activity = activities[1]\n",
    "\n",
    "X, y, pids = get_data(activity)\n",
    "model = get_model(activity)\n",
    "y_pred = model.predict(X)"
   ],
   "metadata": {
    "collapsed": false,
    "ExecuteTime": {
     "end_time": "2024-05-19T12:09:53.360750700Z",
     "start_time": "2024-05-19T12:09:50.424843Z"
    }
   },
   "id": "87839f53eb5d8b3f",
   "execution_count": 8
  },
  {
   "cell_type": "code",
   "outputs": [
    {
     "data": {
      "text/plain": "'You have 803 users already banned matching prediction & 788 users that should be banned.'"
     },
     "execution_count": 9,
     "metadata": {},
     "output_type": "execute_result"
    }
   ],
   "source": [
    "y_pred = pd.DataFrame(y_pred, columns=['Ban Prediction'])\n",
    "df_pred = pd.concat([y,y_pred, pids],axis=1)\n",
    "\n",
    "bot_users = df_pred[(df_pred['Banned'] == False) & (df_pred['Ban Prediction'] == True)]\n",
    "banned_bot_users = df_pred[(df_pred['Banned'] == True) & (df_pred['Ban Prediction'] == True)]\n",
    "\n",
    "f'You have {len(banned_bot_users)} users already banned matching prediction & {len(bot_users)} users that should be banned.'"
   ],
   "metadata": {
    "collapsed": false,
    "ExecuteTime": {
     "end_time": "2024-05-19T12:09:53.371494800Z",
     "start_time": "2024-05-19T12:09:53.360750700Z"
    }
   },
   "id": "10678731d5472b34",
   "execution_count": 9
  },
  {
   "cell_type": "markdown",
   "source": [],
   "metadata": {
    "collapsed": false
   },
   "id": "1408909a26839781"
  },
  {
   "cell_type": "code",
   "outputs": [
    {
     "name": "stdout",
     "output_type": "stream",
     "text": [
      "Writing 788 usernames to Top 10K Users Q1 2024\n"
     ]
    }
   ],
   "source": [
    "from rs_data import get_players, export_usernames\n",
    "pids = bot_users['pid'].tolist()\n",
    "players_df = get_players(pids)\n",
    "\n",
    "\n",
    "export_usernames(activity=activity, \n",
    "                 filename=\"Top 10K Users Q1 2024\", \n",
    "                 usernames=players_df['Name'].tolist(),\n",
    "                 directory=\"../../../\"\n",
    "                 )"
   ],
   "metadata": {
    "collapsed": false,
    "ExecuteTime": {
     "end_time": "2024-05-19T12:09:53.520962400Z",
     "start_time": "2024-05-19T12:09:53.374006600Z"
    }
   },
   "id": "64ff5a4130555a55",
   "execution_count": 10
  },
  {
   "cell_type": "code",
   "outputs": [
    {
     "name": "stdout",
     "output_type": "stream",
     "text": [
      "Writing 666 usernames to Top 10K Users Q1 2024\n",
      "Writing 771 usernames to Top 10K Users Q1 2024\n",
      "Writing 240 usernames to Top 10K Users Q1 2024\n",
      "Writing 684 usernames to Top 10K Users Q1 2024\n",
      "Writing 645 usernames to Top 10K Users Q1 2024\n",
      "Writing 378 usernames to Top 10K Users Q1 2024\n",
      "Writing 1347 usernames to Top 10K Users Q1 2024\n",
      "Writing 935 usernames to Top 10K Users Q1 2024\n",
      "Writing 1038 usernames to Top 10K Users Q1 2024\n",
      "Writing 901 usernames to Top 10K Users Q1 2024\n",
      "Writing 636 usernames to Top 10K Users Q1 2024\n",
      "Writing 1304 usernames to Top 10K Users Q1 2024\n",
      "Writing 1195 usernames to Top 10K Users Q1 2024\n",
      "Writing 665 usernames to Top 10K Users Q1 2024\n",
      "Writing 491 usernames to Top 10K Users Q1 2024\n",
      "Writing 922 usernames to Top 10K Users Q1 2024\n",
      "Writing 1092 usernames to Top 10K Users Q1 2024\n",
      "Writing 1550 usernames to Top 10K Users Q1 2024\n",
      "Writing 450 usernames to Top 10K Users Q1 2024\n",
      "Writing 721 usernames to Top 10K Users Q1 2024\n",
      "Writing 670 usernames to Top 10K Users Q1 2024\n",
      "Writing 492 usernames to Top 10K Users Q1 2024\n",
      "Writing 949 usernames to Top 10K Users Q1 2024\n",
      "Writing 1340 usernames to Top 10K Users Q1 2024\n"
     ]
    }
   ],
   "source": [
    "from notebooks.mlflow.inference.evaluate import find_and_save_results\n",
    "\n",
    "activities = Leaderboards.get_skill_names(keep_overall=True)\n",
    "\n",
    "results = [find_and_save_results(activity) for activity in activities]"
   ],
   "metadata": {
    "collapsed": false,
    "ExecuteTime": {
     "end_time": "2024-05-19T12:11:14.444154700Z",
     "start_time": "2024-05-19T12:09:53.519012300Z"
    }
   },
   "id": "2f88dde6ce3e5f2a",
   "execution_count": 11
  },
  {
   "cell_type": "code",
   "outputs": [
    {
     "data": {
      "text/plain": "        Activity  Unbanned  Banned\n0        Overall       666     903\n1         Attack       771     802\n2        Defence       240     661\n3       Strength       684     795\n4      Hitpoints       645    1106\n5         Ranged       378     833\n6         Prayer      1347     409\n7          Magic       935     962\n8        Cooking      1038     406\n9    Woodcutting       901     282\n10     Fletching       636     341\n11       Fishing      1304     450\n12    Firemaking      1195     420\n13      Crafting       665     406\n14      Smithing       491     340\n15        Mining       922     382\n16      Herblore      1092     341\n17       Agility      1550     452\n18      Thieving       450     445\n19        Slayer       721     359\n20       Farming       670     339\n21     Runecraft       492     815\n22        Hunter       949     397\n23  Construction      1340     513",
      "text/html": "<div>\n<style scoped>\n    .dataframe tbody tr th:only-of-type {\n        vertical-align: middle;\n    }\n\n    .dataframe tbody tr th {\n        vertical-align: top;\n    }\n\n    .dataframe thead th {\n        text-align: right;\n    }\n</style>\n<table border=\"1\" class=\"dataframe\">\n  <thead>\n    <tr style=\"text-align: right;\">\n      <th></th>\n      <th>Activity</th>\n      <th>Unbanned</th>\n      <th>Banned</th>\n    </tr>\n  </thead>\n  <tbody>\n    <tr>\n      <th>0</th>\n      <td>Overall</td>\n      <td>666</td>\n      <td>903</td>\n    </tr>\n    <tr>\n      <th>1</th>\n      <td>Attack</td>\n      <td>771</td>\n      <td>802</td>\n    </tr>\n    <tr>\n      <th>2</th>\n      <td>Defence</td>\n      <td>240</td>\n      <td>661</td>\n    </tr>\n    <tr>\n      <th>3</th>\n      <td>Strength</td>\n      <td>684</td>\n      <td>795</td>\n    </tr>\n    <tr>\n      <th>4</th>\n      <td>Hitpoints</td>\n      <td>645</td>\n      <td>1106</td>\n    </tr>\n    <tr>\n      <th>5</th>\n      <td>Ranged</td>\n      <td>378</td>\n      <td>833</td>\n    </tr>\n    <tr>\n      <th>6</th>\n      <td>Prayer</td>\n      <td>1347</td>\n      <td>409</td>\n    </tr>\n    <tr>\n      <th>7</th>\n      <td>Magic</td>\n      <td>935</td>\n      <td>962</td>\n    </tr>\n    <tr>\n      <th>8</th>\n      <td>Cooking</td>\n      <td>1038</td>\n      <td>406</td>\n    </tr>\n    <tr>\n      <th>9</th>\n      <td>Woodcutting</td>\n      <td>901</td>\n      <td>282</td>\n    </tr>\n    <tr>\n      <th>10</th>\n      <td>Fletching</td>\n      <td>636</td>\n      <td>341</td>\n    </tr>\n    <tr>\n      <th>11</th>\n      <td>Fishing</td>\n      <td>1304</td>\n      <td>450</td>\n    </tr>\n    <tr>\n      <th>12</th>\n      <td>Firemaking</td>\n      <td>1195</td>\n      <td>420</td>\n    </tr>\n    <tr>\n      <th>13</th>\n      <td>Crafting</td>\n      <td>665</td>\n      <td>406</td>\n    </tr>\n    <tr>\n      <th>14</th>\n      <td>Smithing</td>\n      <td>491</td>\n      <td>340</td>\n    </tr>\n    <tr>\n      <th>15</th>\n      <td>Mining</td>\n      <td>922</td>\n      <td>382</td>\n    </tr>\n    <tr>\n      <th>16</th>\n      <td>Herblore</td>\n      <td>1092</td>\n      <td>341</td>\n    </tr>\n    <tr>\n      <th>17</th>\n      <td>Agility</td>\n      <td>1550</td>\n      <td>452</td>\n    </tr>\n    <tr>\n      <th>18</th>\n      <td>Thieving</td>\n      <td>450</td>\n      <td>445</td>\n    </tr>\n    <tr>\n      <th>19</th>\n      <td>Slayer</td>\n      <td>721</td>\n      <td>359</td>\n    </tr>\n    <tr>\n      <th>20</th>\n      <td>Farming</td>\n      <td>670</td>\n      <td>339</td>\n    </tr>\n    <tr>\n      <th>21</th>\n      <td>Runecraft</td>\n      <td>492</td>\n      <td>815</td>\n    </tr>\n    <tr>\n      <th>22</th>\n      <td>Hunter</td>\n      <td>949</td>\n      <td>397</td>\n    </tr>\n    <tr>\n      <th>23</th>\n      <td>Construction</td>\n      <td>1340</td>\n      <td>513</td>\n    </tr>\n  </tbody>\n</table>\n</div>"
     },
     "execution_count": 13,
     "metadata": {},
     "output_type": "execute_result"
    }
   ],
   "source": [
    "results_df = pd.DataFrame(results)\n",
    "\n",
    "results_df"
   ],
   "metadata": {
    "collapsed": false,
    "ExecuteTime": {
     "end_time": "2024-05-19T12:16:18.270657600Z",
     "start_time": "2024-05-19T12:16:18.255032900Z"
    }
   },
   "id": "283612e5fe2a8bd6",
   "execution_count": 13
  },
  {
   "cell_type": "code",
   "outputs": [
    {
     "data": {
      "text/plain": "20082"
     },
     "execution_count": 14,
     "metadata": {},
     "output_type": "execute_result"
    }
   ],
   "source": [
    "sum(results_df['Unbanned'])"
   ],
   "metadata": {
    "collapsed": false,
    "ExecuteTime": {
     "end_time": "2024-05-19T12:16:29.403312700Z",
     "start_time": "2024-05-19T12:16:29.396479800Z"
    }
   },
   "id": "c010ac0bb08d5854",
   "execution_count": 14
  }
 ],
 "metadata": {
  "kernelspec": {
   "display_name": "Python 3",
   "language": "python",
   "name": "python3"
  },
  "language_info": {
   "codemirror_mode": {
    "name": "ipython",
    "version": 2
   },
   "file_extension": ".py",
   "mimetype": "text/x-python",
   "name": "python",
   "nbconvert_exporter": "python",
   "pygments_lexer": "ipython2",
   "version": "2.7.6"
  }
 },
 "nbformat": 4,
 "nbformat_minor": 5
}
