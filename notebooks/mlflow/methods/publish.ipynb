{
 "cells": [
  {
   "cell_type": "code",
   "execution_count": 1,
   "id": "initial_id",
   "metadata": {
    "collapsed": true,
    "ExecuteTime": {
     "end_time": "2024-05-22T12:21:29.306099300Z",
     "start_time": "2024-05-22T12:20:59.156647300Z"
    }
   },
   "outputs": [
    {
     "name": "stderr",
     "output_type": "stream",
     "text": [
      "Successfully registered model 'prod.Zulrah'.\n",
      "2024/05/22 13:21:14 INFO mlflow.store.model_registry.abstract_store: Waiting up to 300 seconds for model version to finish creation. Model name: prod.Zulrah, version 1\n"
     ]
    },
    {
     "name": "stdout",
     "output_type": "stream",
     "text": [
      "You have 77 valid experiments & 25 invalid experiments & 1 metrics were missing.\n"
     ]
    },
    {
     "name": "stderr",
     "output_type": "stream",
     "text": [
      "Created version '1' of model 'prod.Zulrah'.\n",
      "Successfully registered model 'prod.Zalcano'.\n",
      "2024/05/22 13:21:14 INFO mlflow.store.model_registry.abstract_store: Waiting up to 300 seconds for model version to finish creation. Model name: prod.Zalcano, version 1\n"
     ]
    },
    {
     "name": "stdout",
     "output_type": "stream",
     "text": [
      "Model registered in prod environment and assigned alias 'prod_champion'; version: 1\n"
     ]
    },
    {
     "name": "stderr",
     "output_type": "stream",
     "text": [
      "Created version '1' of model 'prod.Zalcano'.\n",
      "Successfully registered model 'prod.Wintertodt'.\n",
      "2024/05/22 13:21:15 INFO mlflow.store.model_registry.abstract_store: Waiting up to 300 seconds for model version to finish creation. Model name: prod.Wintertodt, version 1\n"
     ]
    },
    {
     "name": "stdout",
     "output_type": "stream",
     "text": [
      "Model registered in prod environment and assigned alias 'prod_champion'; version: 1\n"
     ]
    },
    {
     "name": "stderr",
     "output_type": "stream",
     "text": [
      "Created version '1' of model 'prod.Wintertodt'.\n",
      "Successfully registered model 'prod.Vorkath'.\n",
      "2024/05/22 13:21:15 INFO mlflow.store.model_registry.abstract_store: Waiting up to 300 seconds for model version to finish creation. Model name: prod.Vorkath, version 1\n",
      "Created version '1' of model 'prod.Vorkath'.\n"
     ]
    },
    {
     "name": "stdout",
     "output_type": "stream",
     "text": [
      "Model registered in prod environment and assigned alias 'prod_champion'; version: 1\n",
      "Model registered in prod environment and assigned alias 'prod_champion'; version: 1\n"
     ]
    },
    {
     "name": "stderr",
     "output_type": "stream",
     "text": [
      "Successfully registered model 'prod.Vetion'.\n",
      "2024/05/22 13:21:15 INFO mlflow.store.model_registry.abstract_store: Waiting up to 300 seconds for model version to finish creation. Model name: prod.Vetion, version 1\n",
      "Created version '1' of model 'prod.Vetion'.\n",
      "Successfully registered model 'prod.Venenatis'.\n",
      "2024/05/22 13:21:15 INFO mlflow.store.model_registry.abstract_store: Waiting up to 300 seconds for model version to finish creation. Model name: prod.Venenatis, version 1\n",
      "Created version '1' of model 'prod.Venenatis'.\n"
     ]
    },
    {
     "name": "stdout",
     "output_type": "stream",
     "text": [
      "Model registered in prod environment and assigned alias 'prod_champion'; version: 1\n",
      "Model registered in prod environment and assigned alias 'prod_champion'; version: 1\n"
     ]
    },
    {
     "name": "stderr",
     "output_type": "stream",
     "text": [
      "Successfully registered model 'prod.Theatre of Blood: Hard Mode'.\n",
      "2024/05/22 13:21:15 INFO mlflow.store.model_registry.abstract_store: Waiting up to 300 seconds for model version to finish creation. Model name: prod.Theatre of Blood: Hard Mode, version 1\n",
      "Created version '1' of model 'prod.Theatre of Blood: Hard Mode'.\n",
      "Successfully registered model 'prod.Theatre of Blood'.\n",
      "2024/05/22 13:21:16 INFO mlflow.store.model_registry.abstract_store: Waiting up to 300 seconds for model version to finish creation. Model name: prod.Theatre of Blood, version 1\n",
      "Created version '1' of model 'prod.Theatre of Blood'.\n"
     ]
    },
    {
     "name": "stdout",
     "output_type": "stream",
     "text": [
      "Model registered in prod environment and assigned alias 'prod_champion'; version: 1\n",
      "Model registered in prod environment and assigned alias 'prod_champion'; version: 1\n"
     ]
    },
    {
     "name": "stderr",
     "output_type": "stream",
     "text": [
      "Successfully registered model 'prod.Tempoross'.\n",
      "2024/05/22 13:21:16 INFO mlflow.store.model_registry.abstract_store: Waiting up to 300 seconds for model version to finish creation. Model name: prod.Tempoross, version 1\n",
      "Created version '1' of model 'prod.Tempoross'.\n",
      "Successfully registered model 'prod.Spindel'.\n",
      "2024/05/22 13:21:16 INFO mlflow.store.model_registry.abstract_store: Waiting up to 300 seconds for model version to finish creation. Model name: prod.Spindel, version 1\n",
      "Created version '1' of model 'prod.Spindel'.\n"
     ]
    },
    {
     "name": "stdout",
     "output_type": "stream",
     "text": [
      "Model registered in prod environment and assigned alias 'prod_champion'; version: 1\n",
      "Model registered in prod environment and assigned alias 'prod_champion'; version: 1\n"
     ]
    },
    {
     "name": "stderr",
     "output_type": "stream",
     "text": [
      "Successfully registered model 'prod.Skotizo'.\n",
      "2024/05/22 13:21:16 INFO mlflow.store.model_registry.abstract_store: Waiting up to 300 seconds for model version to finish creation. Model name: prod.Skotizo, version 1\n",
      "Created version '1' of model 'prod.Skotizo'.\n",
      "Successfully registered model 'prod.Scorpia'.\n",
      "2024/05/22 13:21:16 INFO mlflow.store.model_registry.abstract_store: Waiting up to 300 seconds for model version to finish creation. Model name: prod.Scorpia, version 1\n",
      "Created version '1' of model 'prod.Scorpia'.\n"
     ]
    },
    {
     "name": "stdout",
     "output_type": "stream",
     "text": [
      "Model registered in prod environment and assigned alias 'prod_champion'; version: 1\n",
      "Model registered in prod environment and assigned alias 'prod_champion'; version: 1\n"
     ]
    },
    {
     "name": "stderr",
     "output_type": "stream",
     "text": [
      "Successfully registered model 'prod.Phantom Muspah'.\n",
      "2024/05/22 13:21:17 INFO mlflow.store.model_registry.abstract_store: Waiting up to 300 seconds for model version to finish creation. Model name: prod.Phantom Muspah, version 1\n",
      "Created version '1' of model 'prod.Phantom Muspah'.\n",
      "Successfully registered model 'prod.Phosanis Nightmare'.\n",
      "2024/05/22 13:21:17 INFO mlflow.store.model_registry.abstract_store: Waiting up to 300 seconds for model version to finish creation. Model name: prod.Phosanis Nightmare, version 1\n",
      "Created version '1' of model 'prod.Phosanis Nightmare'.\n"
     ]
    },
    {
     "name": "stdout",
     "output_type": "stream",
     "text": [
      "Model registered in prod environment and assigned alias 'prod_champion'; version: 1\n",
      "Model registered in prod environment and assigned alias 'prod_champion'; version: 1\n"
     ]
    },
    {
     "name": "stderr",
     "output_type": "stream",
     "text": [
      "Successfully registered model 'prod.Nightmare'.\n",
      "2024/05/22 13:21:17 INFO mlflow.store.model_registry.abstract_store: Waiting up to 300 seconds for model version to finish creation. Model name: prod.Nightmare, version 1\n",
      "Created version '1' of model 'prod.Nightmare'.\n",
      "Successfully registered model 'prod.Nex'.\n",
      "2024/05/22 13:21:17 INFO mlflow.store.model_registry.abstract_store: Waiting up to 300 seconds for model version to finish creation. Model name: prod.Nex, version 1\n",
      "Created version '1' of model 'prod.Nex'.\n"
     ]
    },
    {
     "name": "stdout",
     "output_type": "stream",
     "text": [
      "Model registered in prod environment and assigned alias 'prod_champion'; version: 1\n",
      "Model registered in prod environment and assigned alias 'prod_champion'; version: 1\n"
     ]
    },
    {
     "name": "stderr",
     "output_type": "stream",
     "text": [
      "Successfully registered model 'prod.Mimic'.\n",
      "2024/05/22 13:21:17 INFO mlflow.store.model_registry.abstract_store: Waiting up to 300 seconds for model version to finish creation. Model name: prod.Mimic, version 1\n",
      "Created version '1' of model 'prod.Mimic'.\n",
      "Successfully registered model 'prod.Kril Tsutsaroth'.\n",
      "2024/05/22 13:21:17 INFO mlflow.store.model_registry.abstract_store: Waiting up to 300 seconds for model version to finish creation. Model name: prod.Kril Tsutsaroth, version 1\n",
      "Created version '1' of model 'prod.Kril Tsutsaroth'.\n"
     ]
    },
    {
     "name": "stdout",
     "output_type": "stream",
     "text": [
      "Model registered in prod environment and assigned alias 'prod_champion'; version: 1\n",
      "Model registered in prod environment and assigned alias 'prod_champion'; version: 1\n"
     ]
    },
    {
     "name": "stderr",
     "output_type": "stream",
     "text": [
      "Successfully registered model 'prod.KreeArra'.\n",
      "2024/05/22 13:21:18 INFO mlflow.store.model_registry.abstract_store: Waiting up to 300 seconds for model version to finish creation. Model name: prod.KreeArra, version 1\n",
      "Created version '1' of model 'prod.KreeArra'.\n",
      "Successfully registered model 'prod.King Black Dragon'.\n",
      "2024/05/22 13:21:18 INFO mlflow.store.model_registry.abstract_store: Waiting up to 300 seconds for model version to finish creation. Model name: prod.King Black Dragon, version 1\n",
      "Created version '1' of model 'prod.King Black Dragon'.\n"
     ]
    },
    {
     "name": "stdout",
     "output_type": "stream",
     "text": [
      "Model registered in prod environment and assigned alias 'prod_champion'; version: 1\n",
      "Model registered in prod environment and assigned alias 'prod_champion'; version: 1\n"
     ]
    },
    {
     "name": "stderr",
     "output_type": "stream",
     "text": [
      "Successfully registered model 'prod.Kalphite Queen'.\n",
      "2024/05/22 13:21:18 INFO mlflow.store.model_registry.abstract_store: Waiting up to 300 seconds for model version to finish creation. Model name: prod.Kalphite Queen, version 1\n",
      "Created version '1' of model 'prod.Kalphite Queen'.\n",
      "Successfully registered model 'prod.Hespori'.\n",
      "2024/05/22 13:21:18 INFO mlflow.store.model_registry.abstract_store: Waiting up to 300 seconds for model version to finish creation. Model name: prod.Hespori, version 1\n",
      "Created version '1' of model 'prod.Hespori'.\n"
     ]
    },
    {
     "name": "stdout",
     "output_type": "stream",
     "text": [
      "Model registered in prod environment and assigned alias 'prod_champion'; version: 1\n",
      "Model registered in prod environment and assigned alias 'prod_champion'; version: 1\n"
     ]
    },
    {
     "name": "stderr",
     "output_type": "stream",
     "text": [
      "Registered model 'prod.Hespori' already exists. Creating a new version of this model...\n",
      "2024/05/22 13:21:18 INFO mlflow.store.model_registry.abstract_store: Waiting up to 300 seconds for model version to finish creation. Model name: prod.Hespori, version 2\n",
      "Created version '2' of model 'prod.Hespori'.\n",
      "Registered model 'prod.Hespori' already exists. Creating a new version of this model...\n",
      "2024/05/22 13:21:19 INFO mlflow.store.model_registry.abstract_store: Waiting up to 300 seconds for model version to finish creation. Model name: prod.Hespori, version 3\n",
      "Created version '3' of model 'prod.Hespori'.\n"
     ]
    },
    {
     "name": "stdout",
     "output_type": "stream",
     "text": [
      "Model registered in prod environment and assigned alias 'prod_champion'; version: 2\n",
      "Model registered in prod environment and assigned alias 'prod_champion'; version: 3\n"
     ]
    },
    {
     "name": "stderr",
     "output_type": "stream",
     "text": [
      "Successfully registered model 'prod.Giant Mole'.\n",
      "2024/05/22 13:21:19 INFO mlflow.store.model_registry.abstract_store: Waiting up to 300 seconds for model version to finish creation. Model name: prod.Giant Mole, version 1\n",
      "Created version '1' of model 'prod.Giant Mole'.\n",
      "Successfully registered model 'prod.General Graardor'.\n",
      "2024/05/22 13:21:19 INFO mlflow.store.model_registry.abstract_store: Waiting up to 300 seconds for model version to finish creation. Model name: prod.General Graardor, version 1\n"
     ]
    },
    {
     "name": "stdout",
     "output_type": "stream",
     "text": [
      "Model registered in prod environment and assigned alias 'prod_champion'; version: 1\n",
      "Model registered in prod environment and assigned alias 'prod_champion'; version: 1\n"
     ]
    },
    {
     "name": "stderr",
     "output_type": "stream",
     "text": [
      "Created version '1' of model 'prod.General Graardor'.\n",
      "Successfully registered model 'prod.Duke Sucellus'.\n",
      "2024/05/22 13:21:19 INFO mlflow.store.model_registry.abstract_store: Waiting up to 300 seconds for model version to finish creation. Model name: prod.Duke Sucellus, version 1\n",
      "Created version '1' of model 'prod.Duke Sucellus'.\n",
      "Successfully registered model 'prod.Deranged Archaeologist'.\n",
      "2024/05/22 13:21:19 INFO mlflow.store.model_registry.abstract_store: Waiting up to 300 seconds for model version to finish creation. Model name: prod.Deranged Archaeologist, version 1\n",
      "Created version '1' of model 'prod.Deranged Archaeologist'.\n"
     ]
    },
    {
     "name": "stdout",
     "output_type": "stream",
     "text": [
      "Model registered in prod environment and assigned alias 'prod_champion'; version: 1\n",
      "Model registered in prod environment and assigned alias 'prod_champion'; version: 1\n"
     ]
    },
    {
     "name": "stderr",
     "output_type": "stream",
     "text": [
      "Successfully registered model 'prod.Dagannoth Supreme'.\n",
      "2024/05/22 13:21:20 INFO mlflow.store.model_registry.abstract_store: Waiting up to 300 seconds for model version to finish creation. Model name: prod.Dagannoth Supreme, version 1\n",
      "Created version '1' of model 'prod.Dagannoth Supreme'.\n",
      "Successfully registered model 'prod.Dagannoth Rex'.\n",
      "2024/05/22 13:21:20 INFO mlflow.store.model_registry.abstract_store: Waiting up to 300 seconds for model version to finish creation. Model name: prod.Dagannoth Rex, version 1\n",
      "Created version '1' of model 'prod.Dagannoth Rex'.\n"
     ]
    },
    {
     "name": "stdout",
     "output_type": "stream",
     "text": [
      "Model registered in prod environment and assigned alias 'prod_champion'; version: 1\n",
      "Model registered in prod environment and assigned alias 'prod_champion'; version: 1\n"
     ]
    },
    {
     "name": "stderr",
     "output_type": "stream",
     "text": [
      "Successfully registered model 'prod.Dagannoth Prime'.\n",
      "2024/05/22 13:21:20 INFO mlflow.store.model_registry.abstract_store: Waiting up to 300 seconds for model version to finish creation. Model name: prod.Dagannoth Prime, version 1\n",
      "Created version '1' of model 'prod.Dagannoth Prime'.\n",
      "Successfully registered model 'prod.Crazy Archaeologist'.\n",
      "2024/05/22 13:21:20 INFO mlflow.store.model_registry.abstract_store: Waiting up to 300 seconds for model version to finish creation. Model name: prod.Crazy Archaeologist, version 1\n",
      "Created version '1' of model 'prod.Crazy Archaeologist'.\n"
     ]
    },
    {
     "name": "stdout",
     "output_type": "stream",
     "text": [
      "Model registered in prod environment and assigned alias 'prod_champion'; version: 1\n",
      "Model registered in prod environment and assigned alias 'prod_champion'; version: 1\n"
     ]
    },
    {
     "name": "stderr",
     "output_type": "stream",
     "text": [
      "Successfully registered model 'prod.Corporeal Beast'.\n",
      "2024/05/22 13:21:20 INFO mlflow.store.model_registry.abstract_store: Waiting up to 300 seconds for model version to finish creation. Model name: prod.Corporeal Beast, version 1\n",
      "Created version '1' of model 'prod.Corporeal Beast'.\n",
      "Successfully registered model 'prod.Commander Zilyana'.\n",
      "2024/05/22 13:21:21 INFO mlflow.store.model_registry.abstract_store: Waiting up to 300 seconds for model version to finish creation. Model name: prod.Commander Zilyana, version 1\n",
      "Created version '1' of model 'prod.Commander Zilyana'.\n"
     ]
    },
    {
     "name": "stdout",
     "output_type": "stream",
     "text": [
      "Model registered in prod environment and assigned alias 'prod_champion'; version: 1\n",
      "Model registered in prod environment and assigned alias 'prod_champion'; version: 1\n"
     ]
    },
    {
     "name": "stderr",
     "output_type": "stream",
     "text": [
      "Successfully registered model 'prod.Chaos Fanatic'.\n",
      "2024/05/22 13:21:21 INFO mlflow.store.model_registry.abstract_store: Waiting up to 300 seconds for model version to finish creation. Model name: prod.Chaos Fanatic, version 1\n",
      "Created version '1' of model 'prod.Chaos Fanatic'.\n",
      "Successfully registered model 'prod.Chaos Elemental'.\n",
      "2024/05/22 13:21:21 INFO mlflow.store.model_registry.abstract_store: Waiting up to 300 seconds for model version to finish creation. Model name: prod.Chaos Elemental, version 1\n",
      "Created version '1' of model 'prod.Chaos Elemental'.\n"
     ]
    },
    {
     "name": "stdout",
     "output_type": "stream",
     "text": [
      "Model registered in prod environment and assigned alias 'prod_champion'; version: 1\n",
      "Model registered in prod environment and assigned alias 'prod_champion'; version: 1\n"
     ]
    },
    {
     "name": "stderr",
     "output_type": "stream",
     "text": [
      "Successfully registered model 'prod.Chambers of Xeric: Challenge Mode'.\n",
      "2024/05/22 13:21:21 INFO mlflow.store.model_registry.abstract_store: Waiting up to 300 seconds for model version to finish creation. Model name: prod.Chambers of Xeric: Challenge Mode, version 1\n",
      "Created version '1' of model 'prod.Chambers of Xeric: Challenge Mode'.\n",
      "Successfully registered model 'prod.Chambers of Xeric'.\n",
      "2024/05/22 13:21:21 INFO mlflow.store.model_registry.abstract_store: Waiting up to 300 seconds for model version to finish creation. Model name: prod.Chambers of Xeric, version 1\n",
      "Created version '1' of model 'prod.Chambers of Xeric'.\n"
     ]
    },
    {
     "name": "stdout",
     "output_type": "stream",
     "text": [
      "Model registered in prod environment and assigned alias 'prod_champion'; version: 1\n",
      "Model registered in prod environment and assigned alias 'prod_champion'; version: 1\n"
     ]
    },
    {
     "name": "stderr",
     "output_type": "stream",
     "text": [
      "Successfully registered model 'prod.Calvarion'.\n",
      "2024/05/22 13:21:21 INFO mlflow.store.model_registry.abstract_store: Waiting up to 300 seconds for model version to finish creation. Model name: prod.Calvarion, version 1\n",
      "Created version '1' of model 'prod.Calvarion'.\n",
      "Successfully registered model 'prod.Callisto'.\n",
      "2024/05/22 13:21:22 INFO mlflow.store.model_registry.abstract_store: Waiting up to 300 seconds for model version to finish creation. Model name: prod.Callisto, version 1\n",
      "Created version '1' of model 'prod.Callisto'.\n"
     ]
    },
    {
     "name": "stdout",
     "output_type": "stream",
     "text": [
      "Model registered in prod environment and assigned alias 'prod_champion'; version: 1\n",
      "Model registered in prod environment and assigned alias 'prod_champion'; version: 1\n"
     ]
    },
    {
     "name": "stderr",
     "output_type": "stream",
     "text": [
      "Successfully registered model 'prod.Barrows Chests'.\n",
      "2024/05/22 13:21:22 INFO mlflow.store.model_registry.abstract_store: Waiting up to 300 seconds for model version to finish creation. Model name: prod.Barrows Chests, version 1\n",
      "Created version '1' of model 'prod.Barrows Chests'.\n",
      "Successfully registered model 'prod.Artio'.\n",
      "2024/05/22 13:21:22 INFO mlflow.store.model_registry.abstract_store: Waiting up to 300 seconds for model version to finish creation. Model name: prod.Artio, version 1\n",
      "Created version '1' of model 'prod.Artio'.\n"
     ]
    },
    {
     "name": "stdout",
     "output_type": "stream",
     "text": [
      "Model registered in prod environment and assigned alias 'prod_champion'; version: 1\n",
      "Model registered in prod environment and assigned alias 'prod_champion'; version: 1\n"
     ]
    },
    {
     "name": "stderr",
     "output_type": "stream",
     "text": [
      "Successfully registered model 'prod.Rifts closed'.\n",
      "2024/05/22 13:21:22 INFO mlflow.store.model_registry.abstract_store: Waiting up to 300 seconds for model version to finish creation. Model name: prod.Rifts closed, version 1\n",
      "Created version '1' of model 'prod.Rifts closed'.\n",
      "Successfully registered model 'prod.Soul Wars Zeal'.\n",
      "2024/05/22 13:21:22 INFO mlflow.store.model_registry.abstract_store: Waiting up to 300 seconds for model version to finish creation. Model name: prod.Soul Wars Zeal, version 1\n"
     ]
    },
    {
     "name": "stdout",
     "output_type": "stream",
     "text": [
      "Model registered in prod environment and assigned alias 'prod_champion'; version: 1\n",
      "Model registered in prod environment and assigned alias 'prod_champion'; version: 1\n"
     ]
    },
    {
     "name": "stderr",
     "output_type": "stream",
     "text": [
      "Created version '1' of model 'prod.Soul Wars Zeal'.\n",
      "Successfully registered model 'prod.Clue Scrolls (elite)'.\n",
      "2024/05/22 13:21:23 INFO mlflow.store.model_registry.abstract_store: Waiting up to 300 seconds for model version to finish creation. Model name: prod.Clue Scrolls (elite), version 1\n",
      "Created version '1' of model 'prod.Clue Scrolls (elite)'.\n",
      "Successfully registered model 'prod.Clue Scrolls (hard)'.\n",
      "2024/05/22 13:21:23 INFO mlflow.store.model_registry.abstract_store: Waiting up to 300 seconds for model version to finish creation. Model name: prod.Clue Scrolls (hard), version 1\n",
      "Created version '1' of model 'prod.Clue Scrolls (hard)'.\n"
     ]
    },
    {
     "name": "stdout",
     "output_type": "stream",
     "text": [
      "Model registered in prod environment and assigned alias 'prod_champion'; version: 1\n",
      "Model registered in prod environment and assigned alias 'prod_champion'; version: 1\n"
     ]
    },
    {
     "name": "stderr",
     "output_type": "stream",
     "text": [
      "Successfully registered model 'prod.Clue Scrolls (medium)'.\n",
      "2024/05/22 13:21:23 INFO mlflow.store.model_registry.abstract_store: Waiting up to 300 seconds for model version to finish creation. Model name: prod.Clue Scrolls (medium), version 1\n",
      "Created version '1' of model 'prod.Clue Scrolls (medium)'.\n",
      "Successfully registered model 'prod.Clue Scrolls (easy)'.\n",
      "2024/05/22 13:21:23 INFO mlflow.store.model_registry.abstract_store: Waiting up to 300 seconds for model version to finish creation. Model name: prod.Clue Scrolls (easy), version 1\n",
      "Created version '1' of model 'prod.Clue Scrolls (easy)'.\n"
     ]
    },
    {
     "name": "stdout",
     "output_type": "stream",
     "text": [
      "Model registered in prod environment and assigned alias 'prod_champion'; version: 1\n",
      "Model registered in prod environment and assigned alias 'prod_champion'; version: 1\n"
     ]
    },
    {
     "name": "stderr",
     "output_type": "stream",
     "text": [
      "Successfully registered model 'prod.Clue Scrolls (beginner)'.\n",
      "2024/05/22 13:21:23 INFO mlflow.store.model_registry.abstract_store: Waiting up to 300 seconds for model version to finish creation. Model name: prod.Clue Scrolls (beginner), version 1\n",
      "Created version '1' of model 'prod.Clue Scrolls (beginner)'.\n",
      "Successfully registered model 'prod.Clue Scrolls (all)'.\n",
      "2024/05/22 13:21:24 INFO mlflow.store.model_registry.abstract_store: Waiting up to 300 seconds for model version to finish creation. Model name: prod.Clue Scrolls (all), version 1\n",
      "Created version '1' of model 'prod.Clue Scrolls (all)'.\n"
     ]
    },
    {
     "name": "stdout",
     "output_type": "stream",
     "text": [
      "Model registered in prod environment and assigned alias 'prod_champion'; version: 1\n",
      "Model registered in prod environment and assigned alias 'prod_champion'; version: 1\n"
     ]
    },
    {
     "name": "stderr",
     "output_type": "stream",
     "text": [
      "Successfully registered model 'prod.Bounty Hunter - Rogue'.\n",
      "2024/05/22 13:21:24 INFO mlflow.store.model_registry.abstract_store: Waiting up to 300 seconds for model version to finish creation. Model name: prod.Bounty Hunter - Rogue, version 1\n",
      "Created version '1' of model 'prod.Bounty Hunter - Rogue'.\n",
      "Registered model 'prod.Bounty Hunter - Rogue' already exists. Creating a new version of this model...\n",
      "2024/05/22 13:21:24 INFO mlflow.store.model_registry.abstract_store: Waiting up to 300 seconds for model version to finish creation. Model name: prod.Bounty Hunter - Rogue, version 2\n",
      "Created version '2' of model 'prod.Bounty Hunter - Rogue'.\n"
     ]
    },
    {
     "name": "stdout",
     "output_type": "stream",
     "text": [
      "Model registered in prod environment and assigned alias 'prod_champion'; version: 1\n",
      "Model registered in prod environment and assigned alias 'prod_champion'; version: 2\n"
     ]
    },
    {
     "name": "stderr",
     "output_type": "stream",
     "text": [
      "Successfully registered model 'prod.Bounty Hunter - Hunter'.\n",
      "2024/05/22 13:21:24 INFO mlflow.store.model_registry.abstract_store: Waiting up to 300 seconds for model version to finish creation. Model name: prod.Bounty Hunter - Hunter, version 1\n",
      "Created version '1' of model 'prod.Bounty Hunter - Hunter'.\n",
      "Successfully registered model 'prod.Firemaking'.\n",
      "2024/05/22 13:21:24 INFO mlflow.store.model_registry.abstract_store: Waiting up to 300 seconds for model version to finish creation. Model name: prod.Firemaking, version 1\n",
      "Created version '1' of model 'prod.Firemaking'.\n"
     ]
    },
    {
     "name": "stdout",
     "output_type": "stream",
     "text": [
      "Model registered in prod environment and assigned alias 'prod_champion'; version: 1\n",
      "Model registered in prod environment and assigned alias 'prod_champion'; version: 1\n"
     ]
    },
    {
     "name": "stderr",
     "output_type": "stream",
     "text": [
      "Successfully registered model 'prod.Construction'.\n",
      "2024/05/22 13:21:25 INFO mlflow.store.model_registry.abstract_store: Waiting up to 300 seconds for model version to finish creation. Model name: prod.Construction, version 1\n",
      "Created version '1' of model 'prod.Construction'.\n",
      "Successfully registered model 'prod.Hunter'.\n",
      "2024/05/22 13:21:25 INFO mlflow.store.model_registry.abstract_store: Waiting up to 300 seconds for model version to finish creation. Model name: prod.Hunter, version 1\n",
      "Created version '1' of model 'prod.Hunter'.\n"
     ]
    },
    {
     "name": "stdout",
     "output_type": "stream",
     "text": [
      "Model registered in prod environment and assigned alias 'prod_champion'; version: 1\n",
      "Model registered in prod environment and assigned alias 'prod_champion'; version: 1\n"
     ]
    },
    {
     "name": "stderr",
     "output_type": "stream",
     "text": [
      "Successfully registered model 'prod.Runecraft'.\n",
      "2024/05/22 13:21:25 INFO mlflow.store.model_registry.abstract_store: Waiting up to 300 seconds for model version to finish creation. Model name: prod.Runecraft, version 1\n",
      "Created version '1' of model 'prod.Runecraft'.\n",
      "Successfully registered model 'prod.Farming'.\n",
      "2024/05/22 13:21:25 INFO mlflow.store.model_registry.abstract_store: Waiting up to 300 seconds for model version to finish creation. Model name: prod.Farming, version 1\n",
      "Created version '1' of model 'prod.Farming'.\n"
     ]
    },
    {
     "name": "stdout",
     "output_type": "stream",
     "text": [
      "Model registered in prod environment and assigned alias 'prod_champion'; version: 1\n",
      "Model registered in prod environment and assigned alias 'prod_champion'; version: 1\n"
     ]
    },
    {
     "name": "stderr",
     "output_type": "stream",
     "text": [
      "Successfully registered model 'prod.Slayer'.\n",
      "2024/05/22 13:21:25 INFO mlflow.store.model_registry.abstract_store: Waiting up to 300 seconds for model version to finish creation. Model name: prod.Slayer, version 1\n",
      "Created version '1' of model 'prod.Slayer'.\n",
      "Successfully registered model 'prod.Thieving'.\n",
      "2024/05/22 13:21:26 INFO mlflow.store.model_registry.abstract_store: Waiting up to 300 seconds for model version to finish creation. Model name: prod.Thieving, version 1\n"
     ]
    },
    {
     "name": "stdout",
     "output_type": "stream",
     "text": [
      "Model registered in prod environment and assigned alias 'prod_champion'; version: 1\n"
     ]
    },
    {
     "name": "stderr",
     "output_type": "stream",
     "text": [
      "Created version '1' of model 'prod.Thieving'.\n",
      "Successfully registered model 'prod.Agility'.\n",
      "2024/05/22 13:21:26 INFO mlflow.store.model_registry.abstract_store: Waiting up to 300 seconds for model version to finish creation. Model name: prod.Agility, version 1\n",
      "Created version '1' of model 'prod.Agility'.\n"
     ]
    },
    {
     "name": "stdout",
     "output_type": "stream",
     "text": [
      "Model registered in prod environment and assigned alias 'prod_champion'; version: 1\n",
      "Model registered in prod environment and assigned alias 'prod_champion'; version: 1\n"
     ]
    },
    {
     "name": "stderr",
     "output_type": "stream",
     "text": [
      "Successfully registered model 'prod.Herblore'.\n",
      "2024/05/22 13:21:26 INFO mlflow.store.model_registry.abstract_store: Waiting up to 300 seconds for model version to finish creation. Model name: prod.Herblore, version 1\n",
      "Created version '1' of model 'prod.Herblore'.\n",
      "Successfully registered model 'prod.Mining'.\n",
      "2024/05/22 13:21:26 INFO mlflow.store.model_registry.abstract_store: Waiting up to 300 seconds for model version to finish creation. Model name: prod.Mining, version 1\n",
      "Created version '1' of model 'prod.Mining'.\n"
     ]
    },
    {
     "name": "stdout",
     "output_type": "stream",
     "text": [
      "Model registered in prod environment and assigned alias 'prod_champion'; version: 1\n",
      "Model registered in prod environment and assigned alias 'prod_champion'; version: 1\n"
     ]
    },
    {
     "name": "stderr",
     "output_type": "stream",
     "text": [
      "Successfully registered model 'prod.Smithing'.\n",
      "2024/05/22 13:21:26 INFO mlflow.store.model_registry.abstract_store: Waiting up to 300 seconds for model version to finish creation. Model name: prod.Smithing, version 1\n",
      "Created version '1' of model 'prod.Smithing'.\n",
      "Successfully registered model 'prod.Crafting'.\n",
      "2024/05/22 13:21:26 INFO mlflow.store.model_registry.abstract_store: Waiting up to 300 seconds for model version to finish creation. Model name: prod.Crafting, version 1\n",
      "Created version '1' of model 'prod.Crafting'.\n"
     ]
    },
    {
     "name": "stdout",
     "output_type": "stream",
     "text": [
      "Model registered in prod environment and assigned alias 'prod_champion'; version: 1\n",
      "Model registered in prod environment and assigned alias 'prod_champion'; version: 1\n"
     ]
    },
    {
     "name": "stderr",
     "output_type": "stream",
     "text": [
      "Successfully registered model 'prod.Fishing'.\n",
      "2024/05/22 13:21:27 INFO mlflow.store.model_registry.abstract_store: Waiting up to 300 seconds for model version to finish creation. Model name: prod.Fishing, version 1\n",
      "Created version '1' of model 'prod.Fishing'.\n",
      "Successfully registered model 'prod.Fletching'.\n",
      "2024/05/22 13:21:27 INFO mlflow.store.model_registry.abstract_store: Waiting up to 300 seconds for model version to finish creation. Model name: prod.Fletching, version 1\n",
      "Created version '1' of model 'prod.Fletching'.\n"
     ]
    },
    {
     "name": "stdout",
     "output_type": "stream",
     "text": [
      "Model registered in prod environment and assigned alias 'prod_champion'; version: 1\n",
      "Model registered in prod environment and assigned alias 'prod_champion'; version: 1\n"
     ]
    },
    {
     "name": "stderr",
     "output_type": "stream",
     "text": [
      "Successfully registered model 'prod.Woodcutting'.\n",
      "2024/05/22 13:21:27 INFO mlflow.store.model_registry.abstract_store: Waiting up to 300 seconds for model version to finish creation. Model name: prod.Woodcutting, version 1\n",
      "Created version '1' of model 'prod.Woodcutting'.\n",
      "Successfully registered model 'prod.Cooking'.\n",
      "2024/05/22 13:21:27 INFO mlflow.store.model_registry.abstract_store: Waiting up to 300 seconds for model version to finish creation. Model name: prod.Cooking, version 1\n",
      "Created version '1' of model 'prod.Cooking'.\n"
     ]
    },
    {
     "name": "stdout",
     "output_type": "stream",
     "text": [
      "Model registered in prod environment and assigned alias 'prod_champion'; version: 1\n",
      "Model registered in prod environment and assigned alias 'prod_champion'; version: 1\n"
     ]
    },
    {
     "name": "stderr",
     "output_type": "stream",
     "text": [
      "Successfully registered model 'prod.Magic'.\n",
      "2024/05/22 13:21:27 INFO mlflow.store.model_registry.abstract_store: Waiting up to 300 seconds for model version to finish creation. Model name: prod.Magic, version 1\n",
      "Created version '1' of model 'prod.Magic'.\n",
      "Successfully registered model 'prod.Prayer'.\n",
      "2024/05/22 13:21:28 INFO mlflow.store.model_registry.abstract_store: Waiting up to 300 seconds for model version to finish creation. Model name: prod.Prayer, version 1\n",
      "Created version '1' of model 'prod.Prayer'.\n"
     ]
    },
    {
     "name": "stdout",
     "output_type": "stream",
     "text": [
      "Model registered in prod environment and assigned alias 'prod_champion'; version: 1\n",
      "Model registered in prod environment and assigned alias 'prod_champion'; version: 1\n"
     ]
    },
    {
     "name": "stderr",
     "output_type": "stream",
     "text": [
      "Successfully registered model 'prod.Ranged'.\n",
      "2024/05/22 13:21:28 INFO mlflow.store.model_registry.abstract_store: Waiting up to 300 seconds for model version to finish creation. Model name: prod.Ranged, version 1\n",
      "Created version '1' of model 'prod.Ranged'.\n",
      "Successfully registered model 'prod.Hitpoints'.\n",
      "2024/05/22 13:21:28 INFO mlflow.store.model_registry.abstract_store: Waiting up to 300 seconds for model version to finish creation. Model name: prod.Hitpoints, version 1\n",
      "Created version '1' of model 'prod.Hitpoints'.\n"
     ]
    },
    {
     "name": "stdout",
     "output_type": "stream",
     "text": [
      "Model registered in prod environment and assigned alias 'prod_champion'; version: 1\n",
      "Model registered in prod environment and assigned alias 'prod_champion'; version: 1\n"
     ]
    },
    {
     "name": "stderr",
     "output_type": "stream",
     "text": [
      "Successfully registered model 'prod.Strength'.\n",
      "2024/05/22 13:21:28 INFO mlflow.store.model_registry.abstract_store: Waiting up to 300 seconds for model version to finish creation. Model name: prod.Strength, version 1\n",
      "Created version '1' of model 'prod.Strength'.\n",
      "Successfully registered model 'prod.Defence'.\n",
      "2024/05/22 13:21:28 INFO mlflow.store.model_registry.abstract_store: Waiting up to 300 seconds for model version to finish creation. Model name: prod.Defence, version 1\n",
      "Created version '1' of model 'prod.Defence'.\n"
     ]
    },
    {
     "name": "stdout",
     "output_type": "stream",
     "text": [
      "Model registered in prod environment and assigned alias 'prod_champion'; version: 1\n",
      "Model registered in prod environment and assigned alias 'prod_champion'; version: 1\n"
     ]
    },
    {
     "name": "stderr",
     "output_type": "stream",
     "text": [
      "Successfully registered model 'prod.Attack'.\n",
      "2024/05/22 13:21:29 INFO mlflow.store.model_registry.abstract_store: Waiting up to 300 seconds for model version to finish creation. Model name: prod.Attack, version 1\n",
      "Created version '1' of model 'prod.Attack'.\n",
      "Successfully registered model 'prod.Overall'.\n",
      "2024/05/22 13:21:29 INFO mlflow.store.model_registry.abstract_store: Waiting up to 300 seconds for model version to finish creation. Model name: prod.Overall, version 1\n",
      "Created version '1' of model 'prod.Overall'.\n"
     ]
    },
    {
     "name": "stdout",
     "output_type": "stream",
     "text": [
      "Model registered in prod environment and assigned alias 'prod_champion'; version: 1\n",
      "Model registered in prod environment and assigned alias 'prod_champion'; version: 1\n"
     ]
    }
   ],
   "source": [
    "from ml import (publish_best_experiments)\n",
    "\n",
    "VERSION_ALIAS = 'champion'\n",
    "\n",
    "publish_best_experiments(VERSION_ALIAS)"
   ]
  }
 ],
 "metadata": {
  "kernelspec": {
   "display_name": "Python 3",
   "language": "python",
   "name": "python3"
  },
  "language_info": {
   "codemirror_mode": {
    "name": "ipython",
    "version": 2
   },
   "file_extension": ".py",
   "mimetype": "text/x-python",
   "name": "python",
   "nbconvert_exporter": "python",
   "pygments_lexer": "ipython2",
   "version": "2.7.6"
  }
 },
 "nbformat": 4,
 "nbformat_minor": 5
}
