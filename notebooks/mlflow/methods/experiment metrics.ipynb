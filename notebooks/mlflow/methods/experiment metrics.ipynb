{
 "cells": [
  {
   "cell_type": "code",
   "execution_count": 1,
   "id": "initial_id",
   "metadata": {
    "collapsed": true,
    "ExecuteTime": {
     "end_time": "2024-05-27T11:48:49.906725800Z",
     "start_time": "2024-05-27T11:48:12.708681600Z"
    }
   },
   "outputs": [
    {
     "name": "stdout",
     "output_type": "stream",
     "text": [
      "You have 77 valid experiments & 25 invalid experiments & 1 metrics were missing.\n"
     ]
    }
   ],
   "source": [
    "from ml import (\n",
    "    GridSearchActivity,\n",
    "    get_best_roc_auc_experiments\n",
    ")\n",
    "\n",
    "experiments = get_best_roc_auc_experiments()"
   ]
  },
  {
   "cell_type": "code",
   "outputs": [],
   "source": [
    "activity_name = 'Dagannoth Prime'\n",
    "\n",
    "df = experiments[experiments['activity'] == activity_name]"
   ],
   "metadata": {
    "collapsed": false,
    "ExecuteTime": {
     "end_time": "2024-05-27T11:48:49.916720100Z",
     "start_time": "2024-05-27T11:48:49.906725800Z"
    }
   },
   "id": "7fcc1b67b08771a7",
   "execution_count": 2
  },
  {
   "cell_type": "code",
   "outputs": [
    {
     "data": {
      "text/plain": "                              run_id experiment_id    status  \\\n30  dd9eb7bd2b554e39a34d2e5c024fa76e            81  FINISHED   \n\n                                         artifact_uri  \\\n30  /mnt/c/Users/Lounge/PyCharmProjects/osrs/pca A...   \n\n                         start_time                         end_time  \\\n30 2024-05-19 23:28:33.146000+00:00 2024-05-19 23:28:43.808000+00:00   \n\n    metrics.Mean Accuracy  metrics.Accuracy Class 0  metrics.Recall Class 0  \\\n30                  0.858                     0.858                0.864198   \n\n    metrics.Accuracy Class 1  ...  params.Sampling   params.Classifier  \\\n30                     0.858  ...            SMOTE  LogisticRegression   \n\n                        tags.mlflow.log-model.history tags.mlflow.runName  \\\n30  [{\"run_id\": \"dd9eb7bd2b554e39a34d2e5c024fa76e\"...        bald-ant-195   \n\n   tags.mlflow.user             tags.mlflow.source.git.commit  \\\n30               ez  adf01c965de28b9ccf75451e73c6d5812f70f908   \n\n   tags.mlflow.source.type                            tags.mlflow.source.name  \\\n30                   LOCAL  /mnt/c/Users/Lounge/PyCharmProjects/osrs/pca A...   \n\n    experiment_name         activity  \n30  Dagannoth Prime  Dagannoth Prime  \n\n[1 rows x 23 columns]",
      "text/html": "<div>\n<style scoped>\n    .dataframe tbody tr th:only-of-type {\n        vertical-align: middle;\n    }\n\n    .dataframe tbody tr th {\n        vertical-align: top;\n    }\n\n    .dataframe thead th {\n        text-align: right;\n    }\n</style>\n<table border=\"1\" class=\"dataframe\">\n  <thead>\n    <tr style=\"text-align: right;\">\n      <th></th>\n      <th>run_id</th>\n      <th>experiment_id</th>\n      <th>status</th>\n      <th>artifact_uri</th>\n      <th>start_time</th>\n      <th>end_time</th>\n      <th>metrics.Mean Accuracy</th>\n      <th>metrics.Accuracy Class 0</th>\n      <th>metrics.Recall Class 0</th>\n      <th>metrics.Accuracy Class 1</th>\n      <th>...</th>\n      <th>params.Sampling</th>\n      <th>params.Classifier</th>\n      <th>tags.mlflow.log-model.history</th>\n      <th>tags.mlflow.runName</th>\n      <th>tags.mlflow.user</th>\n      <th>tags.mlflow.source.git.commit</th>\n      <th>tags.mlflow.source.type</th>\n      <th>tags.mlflow.source.name</th>\n      <th>experiment_name</th>\n      <th>activity</th>\n    </tr>\n  </thead>\n  <tbody>\n    <tr>\n      <th>30</th>\n      <td>dd9eb7bd2b554e39a34d2e5c024fa76e</td>\n      <td>81</td>\n      <td>FINISHED</td>\n      <td>/mnt/c/Users/Lounge/PyCharmProjects/osrs/pca A...</td>\n      <td>2024-05-19 23:28:33.146000+00:00</td>\n      <td>2024-05-19 23:28:43.808000+00:00</td>\n      <td>0.858</td>\n      <td>0.858</td>\n      <td>0.864198</td>\n      <td>0.858</td>\n      <td>...</td>\n      <td>SMOTE</td>\n      <td>LogisticRegression</td>\n      <td>[{\"run_id\": \"dd9eb7bd2b554e39a34d2e5c024fa76e\"...</td>\n      <td>bald-ant-195</td>\n      <td>ez</td>\n      <td>adf01c965de28b9ccf75451e73c6d5812f70f908</td>\n      <td>LOCAL</td>\n      <td>/mnt/c/Users/Lounge/PyCharmProjects/osrs/pca A...</td>\n      <td>Dagannoth Prime</td>\n      <td>Dagannoth Prime</td>\n    </tr>\n  </tbody>\n</table>\n<p>1 rows × 23 columns</p>\n</div>"
     },
     "execution_count": 3,
     "metadata": {},
     "output_type": "execute_result"
    }
   ],
   "source": [
    "df"
   ],
   "metadata": {
    "collapsed": false,
    "ExecuteTime": {
     "end_time": "2024-05-27T11:48:49.964721600Z",
     "start_time": "2024-05-27T11:48:49.915718700Z"
    }
   },
   "id": "70b4c1fe4dc31e89",
   "execution_count": 3
  },
  {
   "cell_type": "code",
   "outputs": [
    {
     "data": {
      "text/plain": "('LogisticRegression', 10)"
     },
     "execution_count": 4,
     "metadata": {},
     "output_type": "execute_result"
    }
   ],
   "source": [
    "df['params.Classifier'].iloc[0], df['params.PCA_n_components'].iloc[0], "
   ],
   "metadata": {
    "collapsed": false,
    "ExecuteTime": {
     "end_time": "2024-05-27T11:48:49.979721600Z",
     "start_time": "2024-05-27T11:48:49.962732300Z"
    }
   },
   "id": "682be638abbfd8cc",
   "execution_count": 4
  }
 ],
 "metadata": {
  "kernelspec": {
   "display_name": "Python 3",
   "language": "python",
   "name": "python3"
  },
  "language_info": {
   "codemirror_mode": {
    "name": "ipython",
    "version": 2
   },
   "file_extension": ".py",
   "mimetype": "text/x-python",
   "name": "python",
   "nbconvert_exporter": "python",
   "pygments_lexer": "ipython2",
   "version": "2.7.6"
  }
 },
 "nbformat": 4,
 "nbformat_minor": 5
}
