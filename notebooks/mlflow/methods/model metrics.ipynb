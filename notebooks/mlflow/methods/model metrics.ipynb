{
 "cells": [
  {
   "cell_type": "code",
   "execution_count": 1,
   "id": "initial_id",
   "metadata": {
    "collapsed": true,
    "ExecuteTime": {
     "end_time": "2024-05-23T18:00:46.610594500Z",
     "start_time": "2024-05-23T18:00:40.983827500Z"
    }
   },
   "outputs": [
    {
     "name": "stdout",
     "output_type": "stream",
     "text": [
      "You have 74 metrics & 0 were missing\n"
     ]
    },
    {
     "data": {
      "text/plain": "                        name version                            run_id  \\\n50       prod.Phantom Muspah       1  f157ce698a6144abafba4bf542650957   \n55            prod.Runecraft       1  c019ee5eb9ee497abaebaa2959edcdd8   \n1                 prod.Artio       1  2ecb8a0db4524552aafb9b4e233fb516   \n21      prod.Corporeal Beast       1  15be28d818e34e6ea58d888e2c5fc9bc   \n73               prod.Zulrah       1  7d143c283d5249d38db2839572a90cf7   \n..                       ...     ...                               ...   \n24      prod.Dagannoth Prime       1  dd9eb7bd2b554e39a34d2e5c024fa76e   \n16  prod.Clue Scrolls (hard)       1  7b6d308ed05249eba1e3610f6ef4fa5f   \n14  prod.Clue Scrolls (easy)       1  1627d970ef8e4d968e95d25700d26729   \n48            prod.Nightmare       1  3c5d2c158db440d39f3e9850ca3ca8e9   \n70           prod.Wintertodt       1  677324049381435db577fbd2398e2360   \n\n    Mean Accuracy   ROC-AUC  Recall Class 0  Recall Class 1  Accuracy Class 0  \\\n50          0.929  0.921394        0.947439        0.895349             0.934   \n55          0.934  0.919547        0.945026        0.894068             0.933   \n1           0.928  0.918723        0.933938        0.903509             0.927   \n21          0.924  0.915344        0.929699        0.900990             0.921   \n73          0.912  0.911517        0.958781        0.864253             0.917   \n..            ...       ...             ...             ...               ...   \n24          0.858  0.753527        0.864198        0.642857             0.858   \n16          0.833  0.738974        0.837949        0.640000             0.833   \n14          0.884  0.738166        0.888098        0.588235             0.883   \n48          0.866  0.736020        0.884739        0.587302             0.866   \n70          0.739  0.728103        0.745679        0.710526             0.739   \n\n    Accuracy Class 1  \n50             0.934  \n55             0.933  \n1              0.927  \n21             0.921  \n73             0.917  \n..               ...  \n24             0.858  \n16             0.833  \n14             0.883  \n48             0.866  \n70             0.739  \n\n[74 rows x 9 columns]",
      "text/html": "<div>\n<style scoped>\n    .dataframe tbody tr th:only-of-type {\n        vertical-align: middle;\n    }\n\n    .dataframe tbody tr th {\n        vertical-align: top;\n    }\n\n    .dataframe thead th {\n        text-align: right;\n    }\n</style>\n<table border=\"1\" class=\"dataframe\">\n  <thead>\n    <tr style=\"text-align: right;\">\n      <th></th>\n      <th>name</th>\n      <th>version</th>\n      <th>run_id</th>\n      <th>Mean Accuracy</th>\n      <th>ROC-AUC</th>\n      <th>Recall Class 0</th>\n      <th>Recall Class 1</th>\n      <th>Accuracy Class 0</th>\n      <th>Accuracy Class 1</th>\n    </tr>\n  </thead>\n  <tbody>\n    <tr>\n      <th>50</th>\n      <td>prod.Phantom Muspah</td>\n      <td>1</td>\n      <td>f157ce698a6144abafba4bf542650957</td>\n      <td>0.929</td>\n      <td>0.921394</td>\n      <td>0.947439</td>\n      <td>0.895349</td>\n      <td>0.934</td>\n      <td>0.934</td>\n    </tr>\n    <tr>\n      <th>55</th>\n      <td>prod.Runecraft</td>\n      <td>1</td>\n      <td>c019ee5eb9ee497abaebaa2959edcdd8</td>\n      <td>0.934</td>\n      <td>0.919547</td>\n      <td>0.945026</td>\n      <td>0.894068</td>\n      <td>0.933</td>\n      <td>0.933</td>\n    </tr>\n    <tr>\n      <th>1</th>\n      <td>prod.Artio</td>\n      <td>1</td>\n      <td>2ecb8a0db4524552aafb9b4e233fb516</td>\n      <td>0.928</td>\n      <td>0.918723</td>\n      <td>0.933938</td>\n      <td>0.903509</td>\n      <td>0.927</td>\n      <td>0.927</td>\n    </tr>\n    <tr>\n      <th>21</th>\n      <td>prod.Corporeal Beast</td>\n      <td>1</td>\n      <td>15be28d818e34e6ea58d888e2c5fc9bc</td>\n      <td>0.924</td>\n      <td>0.915344</td>\n      <td>0.929699</td>\n      <td>0.900990</td>\n      <td>0.921</td>\n      <td>0.921</td>\n    </tr>\n    <tr>\n      <th>73</th>\n      <td>prod.Zulrah</td>\n      <td>1</td>\n      <td>7d143c283d5249d38db2839572a90cf7</td>\n      <td>0.912</td>\n      <td>0.911517</td>\n      <td>0.958781</td>\n      <td>0.864253</td>\n      <td>0.917</td>\n      <td>0.917</td>\n    </tr>\n    <tr>\n      <th>...</th>\n      <td>...</td>\n      <td>...</td>\n      <td>...</td>\n      <td>...</td>\n      <td>...</td>\n      <td>...</td>\n      <td>...</td>\n      <td>...</td>\n      <td>...</td>\n    </tr>\n    <tr>\n      <th>24</th>\n      <td>prod.Dagannoth Prime</td>\n      <td>1</td>\n      <td>dd9eb7bd2b554e39a34d2e5c024fa76e</td>\n      <td>0.858</td>\n      <td>0.753527</td>\n      <td>0.864198</td>\n      <td>0.642857</td>\n      <td>0.858</td>\n      <td>0.858</td>\n    </tr>\n    <tr>\n      <th>16</th>\n      <td>prod.Clue Scrolls (hard)</td>\n      <td>1</td>\n      <td>7b6d308ed05249eba1e3610f6ef4fa5f</td>\n      <td>0.833</td>\n      <td>0.738974</td>\n      <td>0.837949</td>\n      <td>0.640000</td>\n      <td>0.833</td>\n      <td>0.833</td>\n    </tr>\n    <tr>\n      <th>14</th>\n      <td>prod.Clue Scrolls (easy)</td>\n      <td>1</td>\n      <td>1627d970ef8e4d968e95d25700d26729</td>\n      <td>0.884</td>\n      <td>0.738166</td>\n      <td>0.888098</td>\n      <td>0.588235</td>\n      <td>0.883</td>\n      <td>0.883</td>\n    </tr>\n    <tr>\n      <th>48</th>\n      <td>prod.Nightmare</td>\n      <td>1</td>\n      <td>3c5d2c158db440d39f3e9850ca3ca8e9</td>\n      <td>0.866</td>\n      <td>0.736020</td>\n      <td>0.884739</td>\n      <td>0.587302</td>\n      <td>0.866</td>\n      <td>0.866</td>\n    </tr>\n    <tr>\n      <th>70</th>\n      <td>prod.Wintertodt</td>\n      <td>1</td>\n      <td>677324049381435db577fbd2398e2360</td>\n      <td>0.739</td>\n      <td>0.728103</td>\n      <td>0.745679</td>\n      <td>0.710526</td>\n      <td>0.739</td>\n      <td>0.739</td>\n    </tr>\n  </tbody>\n</table>\n<p>74 rows × 9 columns</p>\n</div>"
     },
     "execution_count": 1,
     "metadata": {},
     "output_type": "execute_result"
    }
   ],
   "source": [
    "import pandas as pd\n",
    "\n",
    "from ml import (get_latest_models, get_model_metrics)\n",
    "\n",
    "models = get_latest_models()\n",
    "results = get_model_metrics(models)\n",
    "results = results.sort_values('ROC-AUC', ascending=False)\n",
    "results"
   ]
  },
  {
   "cell_type": "code",
   "outputs": [],
   "source": [
    "results.to_csv(\"model_metrics.csv\")"
   ],
   "metadata": {
    "collapsed": false,
    "ExecuteTime": {
     "end_time": "2024-05-23T18:00:49.196996900Z",
     "start_time": "2024-05-23T18:00:49.179999400Z"
    }
   },
   "id": "7fcc1b67b08771a7",
   "execution_count": 2
  }
 ],
 "metadata": {
  "kernelspec": {
   "display_name": "Python 3",
   "language": "python",
   "name": "python3"
  },
  "language_info": {
   "codemirror_mode": {
    "name": "ipython",
    "version": 2
   },
   "file_extension": ".py",
   "mimetype": "text/x-python",
   "name": "python",
   "nbconvert_exporter": "python",
   "pygments_lexer": "ipython2",
   "version": "2.7.6"
  }
 },
 "nbformat": 4,
 "nbformat_minor": 5
}
