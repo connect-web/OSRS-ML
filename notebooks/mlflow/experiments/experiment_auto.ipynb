{
 "cells": [
  {
   "cell_type": "code",
   "execution_count": 2,
   "id": "initial_id",
   "metadata": {
    "collapsed": true,
    "ExecuteTime": {
     "end_time": "2024-05-24T09:33:01.249741300Z",
     "start_time": "2024-05-24T09:33:01.183747900Z"
    }
   },
   "outputs": [
    {
     "data": {
      "text/plain": "[<Experiment: artifact_location='/mnt/c/Users/Lounge/PyCharmProjects/osrs/pca Analysis/mlruns/91', creation_time=1716125684000, experiment_id='91', last_update_time=1716376705167, lifecycle_stage='active', name='King Black Dragon', tags={}>]"
     },
     "execution_count": 2,
     "metadata": {},
     "output_type": "execute_result"
    }
   ],
   "source": [
    "import mlflow\n",
    "from mlflow.tracking import MlflowClient\n",
    "\n",
    "mlflow.set_tracking_uri(\"http://localhost:5000\")\n",
    "\n",
    "# Initialize MLflow client\n",
    "client = MlflowClient()\n",
    "\n",
    "activity = 'King Black Dragon'\n",
    "experiments = mlflow.search_experiments(filter_string=f\"name = '{activity}'\")\n",
    "\n",
    "experiments"
   ]
  },
  {
   "cell_type": "code",
   "outputs": [
    {
     "data": {
      "text/plain": "                              run_id experiment_id    status  \\\n0   53a6813bd86345f39b1199025884497e            91  FINISHED   \n1   28b2139ab9dd487abfd059c44ea925c0            91  FINISHED   \n2   b16cc619f4984564be1d15d9f62e27de            91  FINISHED   \n3   7f7d17e43cac43c398370b670c63a1ad            91  FINISHED   \n4   266a6e7080b44cb28f7a4772ed5dc05b            91  FINISHED   \n..                               ...           ...       ...   \n72  6869572d8c224b728779d2fb32af73a6            91  FINISHED   \n73  5d8b64d27b064ef7a30aa41382cc26ef            91  FINISHED   \n74  728a23cff5c548768f3649d7679246cb            91  FINISHED   \n75  7cc4d691d8a44b44b0d3cc587d44d076            91  FINISHED   \n76  3de33c9e158b4702988854f15c10c3bb            91  FINISHED   \n\n                                         artifact_uri  \\\n0   /mnt/c/Users/Lounge/PyCharmProjects/osrs/pca A...   \n1   /mnt/c/Users/Lounge/PyCharmProjects/osrs/pca A...   \n2   /mnt/c/Users/Lounge/PyCharmProjects/osrs/pca A...   \n3   /mnt/c/Users/Lounge/PyCharmProjects/osrs/pca A...   \n4   /mnt/c/Users/Lounge/PyCharmProjects/osrs/pca A...   \n..                                                ...   \n72  /mnt/c/Users/Lounge/PyCharmProjects/osrs/pca A...   \n73  /mnt/c/Users/Lounge/PyCharmProjects/osrs/pca A...   \n74  /mnt/c/Users/Lounge/PyCharmProjects/osrs/pca A...   \n75  /mnt/c/Users/Lounge/PyCharmProjects/osrs/pca A...   \n76  /mnt/c/Users/Lounge/PyCharmProjects/osrs/pca A...   \n\n                         start_time                         end_time  \\\n0  2024-05-20 04:02:49.373000+00:00 2024-05-20 04:03:06.576000+00:00   \n1  2024-05-20 04:02:30.931000+00:00 2024-05-20 04:02:49.282000+00:00   \n2  2024-05-20 04:02:09.142000+00:00 2024-05-20 04:02:30.839000+00:00   \n3  2024-05-20 04:01:52.626000+00:00 2024-05-20 04:02:09.051000+00:00   \n4  2024-05-20 04:00:47.945000+00:00 2024-05-20 04:01:52.533000+00:00   \n..                              ...                              ...   \n72 2024-05-19 18:33:57.411000+00:00 2024-05-19 18:34:09.612000+00:00   \n73 2024-05-19 18:33:44.875000+00:00 2024-05-19 18:33:57.298000+00:00   \n74 2024-05-19 18:33:30.785000+00:00 2024-05-19 18:33:44.763000+00:00   \n75 2024-05-19 18:33:17.791000+00:00 2024-05-19 18:33:30.675000+00:00   \n76 2024-05-19 18:33:03.627000+00:00 2024-05-19 18:33:17.677000+00:00   \n\n    metrics.Recall Class 0  metrics.Accuracy Class 0  metrics.Mean Accuracy  \\\n0                 0.983105                     0.951                  0.954   \n1                 0.985216                     0.950                  0.951   \n2                 0.938754                     0.921                  0.921   \n3                 0.959873                     0.942                  0.942   \n4                 0.979937                     0.952                  0.952   \n..                     ...                       ...                    ...   \n72                0.858501                     0.851                  0.852   \n73                0.881732                     0.874                  0.874   \n74                0.909187                     0.887                  0.889   \n75                0.938754                     0.914                  0.919   \n76                0.936642                     0.913                  0.915   \n\n    metrics.Recall Class 1  ...  metrics.ROC-AUC  params.PCA_n_components  \\\n0                 0.377358  ...         0.680232                      125   \n1                 0.320755  ...         0.652986                      125   \n2                 0.603774  ...         0.771264                      125   \n3                 0.622642  ...         0.791257                      125   \n4                 0.452830  ...         0.716383                      125   \n..                     ...  ...              ...                      ...   \n72                0.716981  ...         0.787741                        6   \n73                0.735849  ...         0.808790                        6   \n74                0.490566  ...         0.699876                        6   \n75                0.471698  ...         0.705226                        6   \n76                0.490566  ...         0.713604                        6   \n\n   params.Sampling   params.Classifier   tags.mlflow.runName  \\\n0            SMOTE       XGBClassifier     wistful-snipe-251   \n1            SMOTE      LGBMClassifier   luxuriant-smelt-710   \n2            SMOTE  LogisticRegression   handsome-grouse-898   \n3            SMOTE                 SVM  incongruous-rook-999   \n4            SMOTE    GradientBoosting    hilarious-kite-130   \n..             ...                 ...                   ...   \n72           SMOTE  LogisticRegression      luminous-hog-153   \n73           SMOTE                 SVM   overjoyed-snipe-901   \n74           SMOTE    GradientBoosting       delicate-kit-86   \n75           SMOTE          ExtraTrees     mercurial-hen-756   \n76           SMOTE        RandomForest     dazzling-foal-589   \n\n                              tags.mlflow.source.name  \\\n0   /mnt/c/Users/Lounge/PyCharmProjects/osrs/pca A...   \n1   /mnt/c/Users/Lounge/PyCharmProjects/osrs/pca A...   \n2   /mnt/c/Users/Lounge/PyCharmProjects/osrs/pca A...   \n3   /mnt/c/Users/Lounge/PyCharmProjects/osrs/pca A...   \n4   /mnt/c/Users/Lounge/PyCharmProjects/osrs/pca A...   \n..                                                ...   \n72  /mnt/c/Users/Lounge/PyCharmProjects/osrs/pca A...   \n73  /mnt/c/Users/Lounge/PyCharmProjects/osrs/pca A...   \n74  /mnt/c/Users/Lounge/PyCharmProjects/osrs/pca A...   \n75  /mnt/c/Users/Lounge/PyCharmProjects/osrs/pca A...   \n76  /mnt/c/Users/Lounge/PyCharmProjects/osrs/pca A...   \n\n               tags.mlflow.source.git.commit tags.mlflow.user  \\\n0   adf01c965de28b9ccf75451e73c6d5812f70f908               ez   \n1   adf01c965de28b9ccf75451e73c6d5812f70f908               ez   \n2   adf01c965de28b9ccf75451e73c6d5812f70f908               ez   \n3   adf01c965de28b9ccf75451e73c6d5812f70f908               ez   \n4   adf01c965de28b9ccf75451e73c6d5812f70f908               ez   \n..                                       ...              ...   \n72  adf01c965de28b9ccf75451e73c6d5812f70f908               ez   \n73  adf01c965de28b9ccf75451e73c6d5812f70f908               ez   \n74  adf01c965de28b9ccf75451e73c6d5812f70f908               ez   \n75  adf01c965de28b9ccf75451e73c6d5812f70f908               ez   \n76  adf01c965de28b9ccf75451e73c6d5812f70f908               ez   \n\n   tags.mlflow.source.type                      tags.mlflow.log-model.history  \n0                    LOCAL  [{\"run_id\": \"53a6813bd86345f39b1199025884497e\"...  \n1                    LOCAL  [{\"run_id\": \"28b2139ab9dd487abfd059c44ea925c0\"...  \n2                    LOCAL  [{\"run_id\": \"b16cc619f4984564be1d15d9f62e27de\"...  \n3                    LOCAL  [{\"run_id\": \"7f7d17e43cac43c398370b670c63a1ad\"...  \n4                    LOCAL  [{\"run_id\": \"266a6e7080b44cb28f7a4772ed5dc05b\"...  \n..                     ...                                                ...  \n72                   LOCAL  [{\"run_id\": \"6869572d8c224b728779d2fb32af73a6\"...  \n73                   LOCAL  [{\"run_id\": \"5d8b64d27b064ef7a30aa41382cc26ef\"...  \n74                   LOCAL  [{\"run_id\": \"728a23cff5c548768f3649d7679246cb\"...  \n75                   LOCAL  [{\"run_id\": \"7cc4d691d8a44b44b0d3cc587d44d076\"...  \n76                   LOCAL  [{\"run_id\": \"3de33c9e158b4702988854f15c10c3bb\"...  \n\n[77 rows x 21 columns]",
      "text/html": "<div>\n<style scoped>\n    .dataframe tbody tr th:only-of-type {\n        vertical-align: middle;\n    }\n\n    .dataframe tbody tr th {\n        vertical-align: top;\n    }\n\n    .dataframe thead th {\n        text-align: right;\n    }\n</style>\n<table border=\"1\" class=\"dataframe\">\n  <thead>\n    <tr style=\"text-align: right;\">\n      <th></th>\n      <th>run_id</th>\n      <th>experiment_id</th>\n      <th>status</th>\n      <th>artifact_uri</th>\n      <th>start_time</th>\n      <th>end_time</th>\n      <th>metrics.Recall Class 0</th>\n      <th>metrics.Accuracy Class 0</th>\n      <th>metrics.Mean Accuracy</th>\n      <th>metrics.Recall Class 1</th>\n      <th>...</th>\n      <th>metrics.ROC-AUC</th>\n      <th>params.PCA_n_components</th>\n      <th>params.Sampling</th>\n      <th>params.Classifier</th>\n      <th>tags.mlflow.runName</th>\n      <th>tags.mlflow.source.name</th>\n      <th>tags.mlflow.source.git.commit</th>\n      <th>tags.mlflow.user</th>\n      <th>tags.mlflow.source.type</th>\n      <th>tags.mlflow.log-model.history</th>\n    </tr>\n  </thead>\n  <tbody>\n    <tr>\n      <th>0</th>\n      <td>53a6813bd86345f39b1199025884497e</td>\n      <td>91</td>\n      <td>FINISHED</td>\n      <td>/mnt/c/Users/Lounge/PyCharmProjects/osrs/pca A...</td>\n      <td>2024-05-20 04:02:49.373000+00:00</td>\n      <td>2024-05-20 04:03:06.576000+00:00</td>\n      <td>0.983105</td>\n      <td>0.951</td>\n      <td>0.954</td>\n      <td>0.377358</td>\n      <td>...</td>\n      <td>0.680232</td>\n      <td>125</td>\n      <td>SMOTE</td>\n      <td>XGBClassifier</td>\n      <td>wistful-snipe-251</td>\n      <td>/mnt/c/Users/Lounge/PyCharmProjects/osrs/pca A...</td>\n      <td>adf01c965de28b9ccf75451e73c6d5812f70f908</td>\n      <td>ez</td>\n      <td>LOCAL</td>\n      <td>[{\"run_id\": \"53a6813bd86345f39b1199025884497e\"...</td>\n    </tr>\n    <tr>\n      <th>1</th>\n      <td>28b2139ab9dd487abfd059c44ea925c0</td>\n      <td>91</td>\n      <td>FINISHED</td>\n      <td>/mnt/c/Users/Lounge/PyCharmProjects/osrs/pca A...</td>\n      <td>2024-05-20 04:02:30.931000+00:00</td>\n      <td>2024-05-20 04:02:49.282000+00:00</td>\n      <td>0.985216</td>\n      <td>0.950</td>\n      <td>0.951</td>\n      <td>0.320755</td>\n      <td>...</td>\n      <td>0.652986</td>\n      <td>125</td>\n      <td>SMOTE</td>\n      <td>LGBMClassifier</td>\n      <td>luxuriant-smelt-710</td>\n      <td>/mnt/c/Users/Lounge/PyCharmProjects/osrs/pca A...</td>\n      <td>adf01c965de28b9ccf75451e73c6d5812f70f908</td>\n      <td>ez</td>\n      <td>LOCAL</td>\n      <td>[{\"run_id\": \"28b2139ab9dd487abfd059c44ea925c0\"...</td>\n    </tr>\n    <tr>\n      <th>2</th>\n      <td>b16cc619f4984564be1d15d9f62e27de</td>\n      <td>91</td>\n      <td>FINISHED</td>\n      <td>/mnt/c/Users/Lounge/PyCharmProjects/osrs/pca A...</td>\n      <td>2024-05-20 04:02:09.142000+00:00</td>\n      <td>2024-05-20 04:02:30.839000+00:00</td>\n      <td>0.938754</td>\n      <td>0.921</td>\n      <td>0.921</td>\n      <td>0.603774</td>\n      <td>...</td>\n      <td>0.771264</td>\n      <td>125</td>\n      <td>SMOTE</td>\n      <td>LogisticRegression</td>\n      <td>handsome-grouse-898</td>\n      <td>/mnt/c/Users/Lounge/PyCharmProjects/osrs/pca A...</td>\n      <td>adf01c965de28b9ccf75451e73c6d5812f70f908</td>\n      <td>ez</td>\n      <td>LOCAL</td>\n      <td>[{\"run_id\": \"b16cc619f4984564be1d15d9f62e27de\"...</td>\n    </tr>\n    <tr>\n      <th>3</th>\n      <td>7f7d17e43cac43c398370b670c63a1ad</td>\n      <td>91</td>\n      <td>FINISHED</td>\n      <td>/mnt/c/Users/Lounge/PyCharmProjects/osrs/pca A...</td>\n      <td>2024-05-20 04:01:52.626000+00:00</td>\n      <td>2024-05-20 04:02:09.051000+00:00</td>\n      <td>0.959873</td>\n      <td>0.942</td>\n      <td>0.942</td>\n      <td>0.622642</td>\n      <td>...</td>\n      <td>0.791257</td>\n      <td>125</td>\n      <td>SMOTE</td>\n      <td>SVM</td>\n      <td>incongruous-rook-999</td>\n      <td>/mnt/c/Users/Lounge/PyCharmProjects/osrs/pca A...</td>\n      <td>adf01c965de28b9ccf75451e73c6d5812f70f908</td>\n      <td>ez</td>\n      <td>LOCAL</td>\n      <td>[{\"run_id\": \"7f7d17e43cac43c398370b670c63a1ad\"...</td>\n    </tr>\n    <tr>\n      <th>4</th>\n      <td>266a6e7080b44cb28f7a4772ed5dc05b</td>\n      <td>91</td>\n      <td>FINISHED</td>\n      <td>/mnt/c/Users/Lounge/PyCharmProjects/osrs/pca A...</td>\n      <td>2024-05-20 04:00:47.945000+00:00</td>\n      <td>2024-05-20 04:01:52.533000+00:00</td>\n      <td>0.979937</td>\n      <td>0.952</td>\n      <td>0.952</td>\n      <td>0.452830</td>\n      <td>...</td>\n      <td>0.716383</td>\n      <td>125</td>\n      <td>SMOTE</td>\n      <td>GradientBoosting</td>\n      <td>hilarious-kite-130</td>\n      <td>/mnt/c/Users/Lounge/PyCharmProjects/osrs/pca A...</td>\n      <td>adf01c965de28b9ccf75451e73c6d5812f70f908</td>\n      <td>ez</td>\n      <td>LOCAL</td>\n      <td>[{\"run_id\": \"266a6e7080b44cb28f7a4772ed5dc05b\"...</td>\n    </tr>\n    <tr>\n      <th>...</th>\n      <td>...</td>\n      <td>...</td>\n      <td>...</td>\n      <td>...</td>\n      <td>...</td>\n      <td>...</td>\n      <td>...</td>\n      <td>...</td>\n      <td>...</td>\n      <td>...</td>\n      <td>...</td>\n      <td>...</td>\n      <td>...</td>\n      <td>...</td>\n      <td>...</td>\n      <td>...</td>\n      <td>...</td>\n      <td>...</td>\n      <td>...</td>\n      <td>...</td>\n      <td>...</td>\n    </tr>\n    <tr>\n      <th>72</th>\n      <td>6869572d8c224b728779d2fb32af73a6</td>\n      <td>91</td>\n      <td>FINISHED</td>\n      <td>/mnt/c/Users/Lounge/PyCharmProjects/osrs/pca A...</td>\n      <td>2024-05-19 18:33:57.411000+00:00</td>\n      <td>2024-05-19 18:34:09.612000+00:00</td>\n      <td>0.858501</td>\n      <td>0.851</td>\n      <td>0.852</td>\n      <td>0.716981</td>\n      <td>...</td>\n      <td>0.787741</td>\n      <td>6</td>\n      <td>SMOTE</td>\n      <td>LogisticRegression</td>\n      <td>luminous-hog-153</td>\n      <td>/mnt/c/Users/Lounge/PyCharmProjects/osrs/pca A...</td>\n      <td>adf01c965de28b9ccf75451e73c6d5812f70f908</td>\n      <td>ez</td>\n      <td>LOCAL</td>\n      <td>[{\"run_id\": \"6869572d8c224b728779d2fb32af73a6\"...</td>\n    </tr>\n    <tr>\n      <th>73</th>\n      <td>5d8b64d27b064ef7a30aa41382cc26ef</td>\n      <td>91</td>\n      <td>FINISHED</td>\n      <td>/mnt/c/Users/Lounge/PyCharmProjects/osrs/pca A...</td>\n      <td>2024-05-19 18:33:44.875000+00:00</td>\n      <td>2024-05-19 18:33:57.298000+00:00</td>\n      <td>0.881732</td>\n      <td>0.874</td>\n      <td>0.874</td>\n      <td>0.735849</td>\n      <td>...</td>\n      <td>0.808790</td>\n      <td>6</td>\n      <td>SMOTE</td>\n      <td>SVM</td>\n      <td>overjoyed-snipe-901</td>\n      <td>/mnt/c/Users/Lounge/PyCharmProjects/osrs/pca A...</td>\n      <td>adf01c965de28b9ccf75451e73c6d5812f70f908</td>\n      <td>ez</td>\n      <td>LOCAL</td>\n      <td>[{\"run_id\": \"5d8b64d27b064ef7a30aa41382cc26ef\"...</td>\n    </tr>\n    <tr>\n      <th>74</th>\n      <td>728a23cff5c548768f3649d7679246cb</td>\n      <td>91</td>\n      <td>FINISHED</td>\n      <td>/mnt/c/Users/Lounge/PyCharmProjects/osrs/pca A...</td>\n      <td>2024-05-19 18:33:30.785000+00:00</td>\n      <td>2024-05-19 18:33:44.763000+00:00</td>\n      <td>0.909187</td>\n      <td>0.887</td>\n      <td>0.889</td>\n      <td>0.490566</td>\n      <td>...</td>\n      <td>0.699876</td>\n      <td>6</td>\n      <td>SMOTE</td>\n      <td>GradientBoosting</td>\n      <td>delicate-kit-86</td>\n      <td>/mnt/c/Users/Lounge/PyCharmProjects/osrs/pca A...</td>\n      <td>adf01c965de28b9ccf75451e73c6d5812f70f908</td>\n      <td>ez</td>\n      <td>LOCAL</td>\n      <td>[{\"run_id\": \"728a23cff5c548768f3649d7679246cb\"...</td>\n    </tr>\n    <tr>\n      <th>75</th>\n      <td>7cc4d691d8a44b44b0d3cc587d44d076</td>\n      <td>91</td>\n      <td>FINISHED</td>\n      <td>/mnt/c/Users/Lounge/PyCharmProjects/osrs/pca A...</td>\n      <td>2024-05-19 18:33:17.791000+00:00</td>\n      <td>2024-05-19 18:33:30.675000+00:00</td>\n      <td>0.938754</td>\n      <td>0.914</td>\n      <td>0.919</td>\n      <td>0.471698</td>\n      <td>...</td>\n      <td>0.705226</td>\n      <td>6</td>\n      <td>SMOTE</td>\n      <td>ExtraTrees</td>\n      <td>mercurial-hen-756</td>\n      <td>/mnt/c/Users/Lounge/PyCharmProjects/osrs/pca A...</td>\n      <td>adf01c965de28b9ccf75451e73c6d5812f70f908</td>\n      <td>ez</td>\n      <td>LOCAL</td>\n      <td>[{\"run_id\": \"7cc4d691d8a44b44b0d3cc587d44d076\"...</td>\n    </tr>\n    <tr>\n      <th>76</th>\n      <td>3de33c9e158b4702988854f15c10c3bb</td>\n      <td>91</td>\n      <td>FINISHED</td>\n      <td>/mnt/c/Users/Lounge/PyCharmProjects/osrs/pca A...</td>\n      <td>2024-05-19 18:33:03.627000+00:00</td>\n      <td>2024-05-19 18:33:17.677000+00:00</td>\n      <td>0.936642</td>\n      <td>0.913</td>\n      <td>0.915</td>\n      <td>0.490566</td>\n      <td>...</td>\n      <td>0.713604</td>\n      <td>6</td>\n      <td>SMOTE</td>\n      <td>RandomForest</td>\n      <td>dazzling-foal-589</td>\n      <td>/mnt/c/Users/Lounge/PyCharmProjects/osrs/pca A...</td>\n      <td>adf01c965de28b9ccf75451e73c6d5812f70f908</td>\n      <td>ez</td>\n      <td>LOCAL</td>\n      <td>[{\"run_id\": \"3de33c9e158b4702988854f15c10c3bb\"...</td>\n    </tr>\n  </tbody>\n</table>\n<p>77 rows × 21 columns</p>\n</div>"
     },
     "execution_count": 6,
     "metadata": {},
     "output_type": "execute_result"
    }
   ],
   "source": [
    "experiment_id = experiments[0].experiment_id if experiments else None\n",
    "\n",
    "if experiment_id:\n",
    "    runs = mlflow.search_runs(experiment_ids=[experiment_id])\n",
    "runs if experiment_id else None"
   ],
   "metadata": {
    "collapsed": false,
    "ExecuteTime": {
     "end_time": "2024-05-24T09:37:19.006308500Z",
     "start_time": "2024-05-24T09:37:18.507322100Z"
    }
   },
   "id": "f2b726d83d901899",
   "execution_count": 6
  },
  {
   "cell_type": "code",
   "outputs": [
    {
     "data": {
      "text/plain": "run_id                                            4b1232f5181e435db67a1dee472688a8\nexperiment_id                                                                   91\nstatus                                                                    FINISHED\nartifact_uri                     /mnt/c/Users/Lounge/PyCharmProjects/osrs/pca A...\nstart_time                                        2024-05-20 03:45:15.059000+00:00\nend_time                                          2024-05-20 03:45:26.229000+00:00\nmetrics.Recall Class 0                                                    0.921859\nmetrics.Accuracy Class 0                                                     0.913\nmetrics.Mean Accuracy                                                        0.913\nmetrics.Recall Class 1                                                    0.754717\nmetrics.Accuracy Class 1                                                     0.913\nmetrics.ROC-AUC                                                           0.838288\nparams.PCA_n_components                                                         10\nparams.Sampling                                                              SMOTE\nparams.Classifier                                                              SVM\ntags.mlflow.runName                                            monumental-rook-431\ntags.mlflow.source.name          /mnt/c/Users/Lounge/PyCharmProjects/osrs/pca A...\ntags.mlflow.source.git.commit             adf01c965de28b9ccf75451e73c6d5812f70f908\ntags.mlflow.user                                                                ez\ntags.mlflow.source.type                                                      LOCAL\ntags.mlflow.log-model.history    [{\"run_id\": \"4b1232f5181e435db67a1dee472688a8\"...\nName: 59, dtype: object"
     },
     "execution_count": 8,
     "metadata": {},
     "output_type": "execute_result"
    }
   ],
   "source": [
    "runs = runs.sort_values(by=\"metrics.ROC-AUC\", ascending=False)\n",
    "best_model = runs.iloc[0]\n",
    "best_model"
   ],
   "metadata": {
    "collapsed": false,
    "ExecuteTime": {
     "end_time": "2024-05-24T09:41:11.980624400Z",
     "start_time": "2024-05-24T09:41:11.966631600Z"
    }
   },
   "id": "b3294a090dab7bfd",
   "execution_count": 8
  }
 ],
 "metadata": {
  "kernelspec": {
   "display_name": "Python 3",
   "language": "python",
   "name": "python3"
  },
  "language_info": {
   "codemirror_mode": {
    "name": "ipython",
    "version": 2
   },
   "file_extension": ".py",
   "mimetype": "text/x-python",
   "name": "python",
   "nbconvert_exporter": "python",
   "pygments_lexer": "ipython2",
   "version": "2.7.6"
  }
 },
 "nbformat": 4,
 "nbformat_minor": 5
}
