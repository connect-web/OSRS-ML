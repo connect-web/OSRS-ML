{
 "cells": [
  {
   "cell_type": "code",
   "execution_count": 16,
   "id": "e95185c4d9bcb203",
   "metadata": {
    "collapsed": false,
    "ExecuteTime": {
     "end_time": "2024-05-18T19:02:21.375153100Z",
     "start_time": "2024-05-18T19:02:21.343155700Z"
    }
   },
   "outputs": [
    {
     "data": {
      "text/plain": "{'Firemaking': '26',\n 'Construction': '25',\n 'Hunter': '24',\n 'Runecraft': '23',\n 'Farming': '22',\n 'Slayer': '21',\n 'Thieving': '20',\n 'Agility': '19',\n 'Herblore': '18',\n 'Mining': '17',\n 'Smithing': '16',\n 'Crafting': '15',\n 'Fishing': '14',\n 'Fletching': '13',\n 'Woodcutting': '12',\n 'Cooking': '11',\n 'Magic': '10',\n 'Prayer': '9',\n 'Ranged': '8',\n 'Hitpoints': '7',\n 'Strength': '6',\n 'Defence': '5',\n 'Attack': '4',\n 'Overall': '3'}"
     },
     "execution_count": 16,
     "metadata": {},
     "output_type": "execute_result"
    }
   ],
   "source": [
    "import mlflow\n",
    "import pandas as pd\n",
    "\n",
    "mlflow.set_tracking_uri(\"http://localhost:5000\")\n",
    "\n",
    "def list_all_experiments():\n",
    "    # List all experiments\n",
    "    experiments = mlflow.search_experiments()\n",
    "    \n",
    "    # Create a list of tuples (experiment_id, experiment_name)\n",
    "    experiment_list = [(exp.experiment_id, exp.name) for exp in experiments]\n",
    "    \n",
    "    return experiment_list\n",
    "\n",
    "experiment_skill_map = {}\n",
    "\n",
    "# Get and print all experiments\n",
    "all_experiments = list_all_experiments()\n",
    "for exp_id, exp_name in all_experiments:\n",
    "    if '2' in exp_name:\n",
    "        continue\n",
    "    skill = exp_name.split()[0]\n",
    "    experiment_skill_map[skill] = exp_id\n",
    "    \n",
    "experiment_skill_map"
   ]
  },
  {
   "cell_type": "code",
   "outputs": [],
   "source": [
    "def fetch_experiment_data(experiment_id):\n",
    "    # Fetch all runs from a specific experiment\n",
    "    runs = mlflow.search_runs(experiment_id)\n",
    "    \n",
    "    # Check if DataFrame is empty\n",
    "    if runs.empty:\n",
    "        print(\"No data found for experiment ID:\", experiment_id)\n",
    "        return None\n",
    "    \n",
    "    return runs\n",
    "\n",
    "def get_best_experiment(experiment_id):\n",
    "    experiment_data = fetch_experiment_data(experiment_id)\n",
    "    max_roc_auc_row = experiment_data.loc[experiment_data['metrics.ROC-AUC'] == experiment_data['metrics.ROC-AUC'].max()]\n",
    "    return max_roc_auc_row\n",
    "max_roc_auc_row = get_best_experiment('3')"
   ],
   "metadata": {
    "collapsed": true,
    "ExecuteTime": {
     "end_time": "2024-05-18T19:02:21.526734100Z",
     "start_time": "2024-05-18T19:02:21.379153200Z"
    }
   },
   "id": "initial_id",
   "execution_count": 17
  },
  {
   "cell_type": "code",
   "outputs": [],
   "source": [
    "\n",
    "from mlflow.tracking import MlflowClient\n",
    "\n",
    "# Initialize MLflow client\n",
    "client = MlflowClient()\n",
    "\n",
    "# Load the model from a specific run\n",
    "\n",
    "def finalize_experiement(run_id, skill_name):\n",
    "    artifact_path = \"model\"\n",
    "    print(run_id)\n",
    "    model_uri = f\"runs:/{run_id}/{artifact_path}\"\n",
    "    model = mlflow.pyfunc.load_model(model_uri)\n",
    "    \n",
    "    # Register the model in the Model Registry\n",
    "    model_name = f'{skill_name} + extra features'\n",
    "    model_details = mlflow.register_model(model_uri=model_uri, name=model_name)\n",
    "    \n",
    "    # Transition model to Production\n",
    "    version = model_details.version\n",
    "    client.transition_model_version_stage(\n",
    "        name=model_name,\n",
    "        version=version,\n",
    "        stage=\"Production\",\n",
    "        archive_existing_versions=True\n",
    "    )\n",
    "\n",
    "    print(f\"Model registered and transitioned to Production; version: {version}\")\n",
    "\n"
   ],
   "metadata": {
    "collapsed": false,
    "ExecuteTime": {
     "end_time": "2024-05-19T10:06:51.940642700Z",
     "start_time": "2024-05-19T10:06:51.900602100Z"
    }
   },
   "id": "cc0094750a505397",
   "execution_count": 43
  },
  {
   "cell_type": "code",
   "outputs": [
    {
     "name": "stdout",
     "output_type": "stream",
     "text": [
      "948320f56a034c05909d5f9e3029d119\n"
     ]
    },
    {
     "name": "stderr",
     "output_type": "stream",
     "text": [
      "Registered model 'Firemaking + extra features' already exists. Creating a new version of this model...\n",
      "2024/05/19 11:12:03 INFO mlflow.store.model_registry.abstract_store: Waiting up to 300 seconds for model version to finish creation. Model name: Firemaking + extra features, version 2\n",
      "Created version '2' of model 'Firemaking + extra features'.\n",
      "/tmp/ipykernel_564938/1537320839.py:20: FutureWarning: ``mlflow.tracking.client.MlflowClient.transition_model_version_stage`` is deprecated since 2.9.0. Model registry stages will be removed in a future major release. To learn more about the deprecation of model registry stages, see our migration guide here: https://mlflow.org/docs/2.12.2/model-registry.html#migrating-from-stages\n",
      "  client.transition_model_version_stage(\n"
     ]
    },
    {
     "name": "stdout",
     "output_type": "stream",
     "text": [
      "Model registered and transitioned to Production; version: 2\n",
      "ec3490077d344b7abcbcbb7959d80cb3\n"
     ]
    },
    {
     "name": "stderr",
     "output_type": "stream",
     "text": [
      "Registered model 'Construction + extra features' already exists. Creating a new version of this model...\n",
      "2024/05/19 11:12:03 INFO mlflow.store.model_registry.abstract_store: Waiting up to 300 seconds for model version to finish creation. Model name: Construction + extra features, version 2\n",
      "Created version '2' of model 'Construction + extra features'.\n",
      "/tmp/ipykernel_564938/1537320839.py:20: FutureWarning: ``mlflow.tracking.client.MlflowClient.transition_model_version_stage`` is deprecated since 2.9.0. Model registry stages will be removed in a future major release. To learn more about the deprecation of model registry stages, see our migration guide here: https://mlflow.org/docs/2.12.2/model-registry.html#migrating-from-stages\n",
      "  client.transition_model_version_stage(\n"
     ]
    },
    {
     "name": "stdout",
     "output_type": "stream",
     "text": [
      "Model registered and transitioned to Production; version: 2\n",
      "c3048cf610034e7b86b207ee48b58298\n"
     ]
    },
    {
     "name": "stderr",
     "output_type": "stream",
     "text": [
      "Registered model 'Hunter + extra features' already exists. Creating a new version of this model...\n",
      "2024/05/19 11:12:04 INFO mlflow.store.model_registry.abstract_store: Waiting up to 300 seconds for model version to finish creation. Model name: Hunter + extra features, version 2\n",
      "Created version '2' of model 'Hunter + extra features'.\n",
      "/tmp/ipykernel_564938/1537320839.py:20: FutureWarning: ``mlflow.tracking.client.MlflowClient.transition_model_version_stage`` is deprecated since 2.9.0. Model registry stages will be removed in a future major release. To learn more about the deprecation of model registry stages, see our migration guide here: https://mlflow.org/docs/2.12.2/model-registry.html#migrating-from-stages\n",
      "  client.transition_model_version_stage(\n"
     ]
    },
    {
     "name": "stdout",
     "output_type": "stream",
     "text": [
      "Model registered and transitioned to Production; version: 2\n",
      "c019ee5eb9ee497abaebaa2959edcdd8\n"
     ]
    },
    {
     "name": "stderr",
     "output_type": "stream",
     "text": [
      "Registered model 'Runecraft + extra features' already exists. Creating a new version of this model...\n",
      "2024/05/19 11:12:04 INFO mlflow.store.model_registry.abstract_store: Waiting up to 300 seconds for model version to finish creation. Model name: Runecraft + extra features, version 2\n",
      "Created version '2' of model 'Runecraft + extra features'.\n",
      "/tmp/ipykernel_564938/1537320839.py:20: FutureWarning: ``mlflow.tracking.client.MlflowClient.transition_model_version_stage`` is deprecated since 2.9.0. Model registry stages will be removed in a future major release. To learn more about the deprecation of model registry stages, see our migration guide here: https://mlflow.org/docs/2.12.2/model-registry.html#migrating-from-stages\n",
      "  client.transition_model_version_stage(\n"
     ]
    },
    {
     "name": "stdout",
     "output_type": "stream",
     "text": [
      "Model registered and transitioned to Production; version: 2\n",
      "b61ca5196d934120ab0e7bca39db1d36\n"
     ]
    },
    {
     "name": "stderr",
     "output_type": "stream",
     "text": [
      "Registered model 'Farming + extra features' already exists. Creating a new version of this model...\n",
      "2024/05/19 11:12:05 INFO mlflow.store.model_registry.abstract_store: Waiting up to 300 seconds for model version to finish creation. Model name: Farming + extra features, version 2\n",
      "Created version '2' of model 'Farming + extra features'.\n",
      "/tmp/ipykernel_564938/1537320839.py:20: FutureWarning: ``mlflow.tracking.client.MlflowClient.transition_model_version_stage`` is deprecated since 2.9.0. Model registry stages will be removed in a future major release. To learn more about the deprecation of model registry stages, see our migration guide here: https://mlflow.org/docs/2.12.2/model-registry.html#migrating-from-stages\n",
      "  client.transition_model_version_stage(\n"
     ]
    },
    {
     "name": "stdout",
     "output_type": "stream",
     "text": [
      "Model registered and transitioned to Production; version: 2\n",
      "79733173931e4fc7b9de03b90f6ddb67\n"
     ]
    },
    {
     "name": "stderr",
     "output_type": "stream",
     "text": [
      "Registered model 'Slayer + extra features' already exists. Creating a new version of this model...\n",
      "2024/05/19 11:12:05 INFO mlflow.store.model_registry.abstract_store: Waiting up to 300 seconds for model version to finish creation. Model name: Slayer + extra features, version 2\n",
      "Created version '2' of model 'Slayer + extra features'.\n",
      "/tmp/ipykernel_564938/1537320839.py:20: FutureWarning: ``mlflow.tracking.client.MlflowClient.transition_model_version_stage`` is deprecated since 2.9.0. Model registry stages will be removed in a future major release. To learn more about the deprecation of model registry stages, see our migration guide here: https://mlflow.org/docs/2.12.2/model-registry.html#migrating-from-stages\n",
      "  client.transition_model_version_stage(\n"
     ]
    },
    {
     "name": "stdout",
     "output_type": "stream",
     "text": [
      "Model registered and transitioned to Production; version: 2\n",
      "ca3a75e511034a4d8ae81e4cca0677b7\n"
     ]
    },
    {
     "name": "stderr",
     "output_type": "stream",
     "text": [
      "Registered model 'Thieving + extra features' already exists. Creating a new version of this model...\n",
      "2024/05/19 11:12:06 INFO mlflow.store.model_registry.abstract_store: Waiting up to 300 seconds for model version to finish creation. Model name: Thieving + extra features, version 2\n",
      "Created version '2' of model 'Thieving + extra features'.\n",
      "/tmp/ipykernel_564938/1537320839.py:20: FutureWarning: ``mlflow.tracking.client.MlflowClient.transition_model_version_stage`` is deprecated since 2.9.0. Model registry stages will be removed in a future major release. To learn more about the deprecation of model registry stages, see our migration guide here: https://mlflow.org/docs/2.12.2/model-registry.html#migrating-from-stages\n",
      "  client.transition_model_version_stage(\n"
     ]
    },
    {
     "name": "stdout",
     "output_type": "stream",
     "text": [
      "Model registered and transitioned to Production; version: 2\n",
      "902c45d9959d471ea1f6ee7568ec3972\n"
     ]
    },
    {
     "name": "stderr",
     "output_type": "stream",
     "text": [
      "Registered model 'Agility + extra features' already exists. Creating a new version of this model...\n",
      "2024/05/19 11:12:06 INFO mlflow.store.model_registry.abstract_store: Waiting up to 300 seconds for model version to finish creation. Model name: Agility + extra features, version 2\n",
      "Created version '2' of model 'Agility + extra features'.\n",
      "/tmp/ipykernel_564938/1537320839.py:20: FutureWarning: ``mlflow.tracking.client.MlflowClient.transition_model_version_stage`` is deprecated since 2.9.0. Model registry stages will be removed in a future major release. To learn more about the deprecation of model registry stages, see our migration guide here: https://mlflow.org/docs/2.12.2/model-registry.html#migrating-from-stages\n",
      "  client.transition_model_version_stage(\n"
     ]
    },
    {
     "name": "stdout",
     "output_type": "stream",
     "text": [
      "Model registered and transitioned to Production; version: 2\n",
      "4131655ae3b04bf1830670af0819f269\n"
     ]
    },
    {
     "name": "stderr",
     "output_type": "stream",
     "text": [
      "Registered model 'Herblore + extra features' already exists. Creating a new version of this model...\n",
      "2024/05/19 11:12:07 INFO mlflow.store.model_registry.abstract_store: Waiting up to 300 seconds for model version to finish creation. Model name: Herblore + extra features, version 2\n",
      "Created version '2' of model 'Herblore + extra features'.\n",
      "/tmp/ipykernel_564938/1537320839.py:20: FutureWarning: ``mlflow.tracking.client.MlflowClient.transition_model_version_stage`` is deprecated since 2.9.0. Model registry stages will be removed in a future major release. To learn more about the deprecation of model registry stages, see our migration guide here: https://mlflow.org/docs/2.12.2/model-registry.html#migrating-from-stages\n",
      "  client.transition_model_version_stage(\n"
     ]
    },
    {
     "name": "stdout",
     "output_type": "stream",
     "text": [
      "Model registered and transitioned to Production; version: 2\n",
      "297941a1dd224c59a97fa93e28eb1c84\n"
     ]
    },
    {
     "name": "stderr",
     "output_type": "stream",
     "text": [
      "Registered model 'Mining + extra features' already exists. Creating a new version of this model...\n",
      "2024/05/19 11:12:07 INFO mlflow.store.model_registry.abstract_store: Waiting up to 300 seconds for model version to finish creation. Model name: Mining + extra features, version 2\n",
      "Created version '2' of model 'Mining + extra features'.\n",
      "/tmp/ipykernel_564938/1537320839.py:20: FutureWarning: ``mlflow.tracking.client.MlflowClient.transition_model_version_stage`` is deprecated since 2.9.0. Model registry stages will be removed in a future major release. To learn more about the deprecation of model registry stages, see our migration guide here: https://mlflow.org/docs/2.12.2/model-registry.html#migrating-from-stages\n",
      "  client.transition_model_version_stage(\n"
     ]
    },
    {
     "name": "stdout",
     "output_type": "stream",
     "text": [
      "Model registered and transitioned to Production; version: 2\n",
      "8c5e9d396c9640ddada1895f1a42cd3d\n"
     ]
    },
    {
     "name": "stderr",
     "output_type": "stream",
     "text": [
      "Registered model 'Smithing + extra features' already exists. Creating a new version of this model...\n",
      "2024/05/19 11:12:08 INFO mlflow.store.model_registry.abstract_store: Waiting up to 300 seconds for model version to finish creation. Model name: Smithing + extra features, version 2\n",
      "Created version '2' of model 'Smithing + extra features'.\n",
      "/tmp/ipykernel_564938/1537320839.py:20: FutureWarning: ``mlflow.tracking.client.MlflowClient.transition_model_version_stage`` is deprecated since 2.9.0. Model registry stages will be removed in a future major release. To learn more about the deprecation of model registry stages, see our migration guide here: https://mlflow.org/docs/2.12.2/model-registry.html#migrating-from-stages\n",
      "  client.transition_model_version_stage(\n"
     ]
    },
    {
     "name": "stdout",
     "output_type": "stream",
     "text": [
      "Model registered and transitioned to Production; version: 2\n",
      "3af52d3de9a3404d8f8a6afaa442e70a\n"
     ]
    },
    {
     "name": "stderr",
     "output_type": "stream",
     "text": [
      "Registered model 'Crafting + extra features' already exists. Creating a new version of this model...\n",
      "2024/05/19 11:12:08 INFO mlflow.store.model_registry.abstract_store: Waiting up to 300 seconds for model version to finish creation. Model name: Crafting + extra features, version 2\n",
      "Created version '2' of model 'Crafting + extra features'.\n",
      "/tmp/ipykernel_564938/1537320839.py:20: FutureWarning: ``mlflow.tracking.client.MlflowClient.transition_model_version_stage`` is deprecated since 2.9.0. Model registry stages will be removed in a future major release. To learn more about the deprecation of model registry stages, see our migration guide here: https://mlflow.org/docs/2.12.2/model-registry.html#migrating-from-stages\n",
      "  client.transition_model_version_stage(\n"
     ]
    },
    {
     "name": "stdout",
     "output_type": "stream",
     "text": [
      "Model registered and transitioned to Production; version: 2\n",
      "e047dfbe81914771982e2e8fa5ca25fe\n"
     ]
    },
    {
     "name": "stderr",
     "output_type": "stream",
     "text": [
      "Registered model 'Fishing + extra features' already exists. Creating a new version of this model...\n",
      "2024/05/19 11:12:09 INFO mlflow.store.model_registry.abstract_store: Waiting up to 300 seconds for model version to finish creation. Model name: Fishing + extra features, version 2\n",
      "Created version '2' of model 'Fishing + extra features'.\n",
      "/tmp/ipykernel_564938/1537320839.py:20: FutureWarning: ``mlflow.tracking.client.MlflowClient.transition_model_version_stage`` is deprecated since 2.9.0. Model registry stages will be removed in a future major release. To learn more about the deprecation of model registry stages, see our migration guide here: https://mlflow.org/docs/2.12.2/model-registry.html#migrating-from-stages\n",
      "  client.transition_model_version_stage(\n"
     ]
    },
    {
     "name": "stdout",
     "output_type": "stream",
     "text": [
      "Model registered and transitioned to Production; version: 2\n",
      "78d8ce464bf049b78b7a86d48ac952b2\n"
     ]
    },
    {
     "name": "stderr",
     "output_type": "stream",
     "text": [
      "Registered model 'Fletching + extra features' already exists. Creating a new version of this model...\n",
      "2024/05/19 11:12:09 INFO mlflow.store.model_registry.abstract_store: Waiting up to 300 seconds for model version to finish creation. Model name: Fletching + extra features, version 2\n",
      "Created version '2' of model 'Fletching + extra features'.\n",
      "/tmp/ipykernel_564938/1537320839.py:20: FutureWarning: ``mlflow.tracking.client.MlflowClient.transition_model_version_stage`` is deprecated since 2.9.0. Model registry stages will be removed in a future major release. To learn more about the deprecation of model registry stages, see our migration guide here: https://mlflow.org/docs/2.12.2/model-registry.html#migrating-from-stages\n",
      "  client.transition_model_version_stage(\n"
     ]
    },
    {
     "name": "stdout",
     "output_type": "stream",
     "text": [
      "Model registered and transitioned to Production; version: 2\n",
      "67b4f9e5cab14097910b4362e5d52532\n"
     ]
    },
    {
     "name": "stderr",
     "output_type": "stream",
     "text": [
      "Registered model 'Woodcutting + extra features' already exists. Creating a new version of this model...\n",
      "2024/05/19 11:12:09 INFO mlflow.store.model_registry.abstract_store: Waiting up to 300 seconds for model version to finish creation. Model name: Woodcutting + extra features, version 2\n",
      "Created version '2' of model 'Woodcutting + extra features'.\n",
      "/tmp/ipykernel_564938/1537320839.py:20: FutureWarning: ``mlflow.tracking.client.MlflowClient.transition_model_version_stage`` is deprecated since 2.9.0. Model registry stages will be removed in a future major release. To learn more about the deprecation of model registry stages, see our migration guide here: https://mlflow.org/docs/2.12.2/model-registry.html#migrating-from-stages\n",
      "  client.transition_model_version_stage(\n"
     ]
    },
    {
     "name": "stdout",
     "output_type": "stream",
     "text": [
      "Model registered and transitioned to Production; version: 2\n",
      "9340619296e3488286b838dd28447cce\n"
     ]
    },
    {
     "name": "stderr",
     "output_type": "stream",
     "text": [
      "Registered model 'Cooking + extra features' already exists. Creating a new version of this model...\n",
      "2024/05/19 11:12:10 INFO mlflow.store.model_registry.abstract_store: Waiting up to 300 seconds for model version to finish creation. Model name: Cooking + extra features, version 2\n",
      "Created version '2' of model 'Cooking + extra features'.\n",
      "/tmp/ipykernel_564938/1537320839.py:20: FutureWarning: ``mlflow.tracking.client.MlflowClient.transition_model_version_stage`` is deprecated since 2.9.0. Model registry stages will be removed in a future major release. To learn more about the deprecation of model registry stages, see our migration guide here: https://mlflow.org/docs/2.12.2/model-registry.html#migrating-from-stages\n",
      "  client.transition_model_version_stage(\n"
     ]
    },
    {
     "name": "stdout",
     "output_type": "stream",
     "text": [
      "Model registered and transitioned to Production; version: 2\n",
      "e1e7b7978e5c4a0cb969b75258181d86\n"
     ]
    },
    {
     "name": "stderr",
     "output_type": "stream",
     "text": [
      "Registered model 'Magic + extra features' already exists. Creating a new version of this model...\n",
      "2024/05/19 11:12:10 INFO mlflow.store.model_registry.abstract_store: Waiting up to 300 seconds for model version to finish creation. Model name: Magic + extra features, version 2\n",
      "Created version '2' of model 'Magic + extra features'.\n",
      "/tmp/ipykernel_564938/1537320839.py:20: FutureWarning: ``mlflow.tracking.client.MlflowClient.transition_model_version_stage`` is deprecated since 2.9.0. Model registry stages will be removed in a future major release. To learn more about the deprecation of model registry stages, see our migration guide here: https://mlflow.org/docs/2.12.2/model-registry.html#migrating-from-stages\n",
      "  client.transition_model_version_stage(\n"
     ]
    },
    {
     "name": "stdout",
     "output_type": "stream",
     "text": [
      "Model registered and transitioned to Production; version: 2\n",
      "345c2b322cc14aef8635e7618dc768ac\n"
     ]
    },
    {
     "name": "stderr",
     "output_type": "stream",
     "text": [
      "Registered model 'Prayer + extra features' already exists. Creating a new version of this model...\n",
      "2024/05/19 11:12:11 INFO mlflow.store.model_registry.abstract_store: Waiting up to 300 seconds for model version to finish creation. Model name: Prayer + extra features, version 2\n",
      "Created version '2' of model 'Prayer + extra features'.\n",
      "/tmp/ipykernel_564938/1537320839.py:20: FutureWarning: ``mlflow.tracking.client.MlflowClient.transition_model_version_stage`` is deprecated since 2.9.0. Model registry stages will be removed in a future major release. To learn more about the deprecation of model registry stages, see our migration guide here: https://mlflow.org/docs/2.12.2/model-registry.html#migrating-from-stages\n",
      "  client.transition_model_version_stage(\n"
     ]
    },
    {
     "name": "stdout",
     "output_type": "stream",
     "text": [
      "Model registered and transitioned to Production; version: 2\n",
      "2188279ab921429ab1edc056e0c8749a\n"
     ]
    },
    {
     "name": "stderr",
     "output_type": "stream",
     "text": [
      "Registered model 'Ranged + extra features' already exists. Creating a new version of this model...\n",
      "2024/05/19 11:12:11 INFO mlflow.store.model_registry.abstract_store: Waiting up to 300 seconds for model version to finish creation. Model name: Ranged + extra features, version 2\n",
      "Created version '2' of model 'Ranged + extra features'.\n",
      "/tmp/ipykernel_564938/1537320839.py:20: FutureWarning: ``mlflow.tracking.client.MlflowClient.transition_model_version_stage`` is deprecated since 2.9.0. Model registry stages will be removed in a future major release. To learn more about the deprecation of model registry stages, see our migration guide here: https://mlflow.org/docs/2.12.2/model-registry.html#migrating-from-stages\n",
      "  client.transition_model_version_stage(\n"
     ]
    },
    {
     "name": "stdout",
     "output_type": "stream",
     "text": [
      "Model registered and transitioned to Production; version: 2\n",
      "95b78d041501413da42233dc1167f842\n"
     ]
    },
    {
     "name": "stderr",
     "output_type": "stream",
     "text": [
      "Registered model 'Hitpoints + extra features' already exists. Creating a new version of this model...\n",
      "2024/05/19 11:12:12 INFO mlflow.store.model_registry.abstract_store: Waiting up to 300 seconds for model version to finish creation. Model name: Hitpoints + extra features, version 2\n",
      "Created version '2' of model 'Hitpoints + extra features'.\n",
      "/tmp/ipykernel_564938/1537320839.py:20: FutureWarning: ``mlflow.tracking.client.MlflowClient.transition_model_version_stage`` is deprecated since 2.9.0. Model registry stages will be removed in a future major release. To learn more about the deprecation of model registry stages, see our migration guide here: https://mlflow.org/docs/2.12.2/model-registry.html#migrating-from-stages\n",
      "  client.transition_model_version_stage(\n"
     ]
    },
    {
     "name": "stdout",
     "output_type": "stream",
     "text": [
      "Model registered and transitioned to Production; version: 2\n",
      "606efc9425d14d5d84d31bc1e0a8bcbc\n"
     ]
    },
    {
     "name": "stderr",
     "output_type": "stream",
     "text": [
      "Registered model 'Strength + extra features' already exists. Creating a new version of this model...\n",
      "2024/05/19 11:12:13 INFO mlflow.store.model_registry.abstract_store: Waiting up to 300 seconds for model version to finish creation. Model name: Strength + extra features, version 2\n",
      "Created version '2' of model 'Strength + extra features'.\n",
      "/tmp/ipykernel_564938/1537320839.py:20: FutureWarning: ``mlflow.tracking.client.MlflowClient.transition_model_version_stage`` is deprecated since 2.9.0. Model registry stages will be removed in a future major release. To learn more about the deprecation of model registry stages, see our migration guide here: https://mlflow.org/docs/2.12.2/model-registry.html#migrating-from-stages\n",
      "  client.transition_model_version_stage(\n"
     ]
    },
    {
     "name": "stdout",
     "output_type": "stream",
     "text": [
      "Model registered and transitioned to Production; version: 2\n",
      "64ee6846bc164aa59df0bdd05402f60b\n"
     ]
    },
    {
     "name": "stderr",
     "output_type": "stream",
     "text": [
      "Registered model 'Defence + extra features' already exists. Creating a new version of this model...\n",
      "2024/05/19 11:12:13 INFO mlflow.store.model_registry.abstract_store: Waiting up to 300 seconds for model version to finish creation. Model name: Defence + extra features, version 2\n",
      "Created version '2' of model 'Defence + extra features'.\n",
      "/tmp/ipykernel_564938/1537320839.py:20: FutureWarning: ``mlflow.tracking.client.MlflowClient.transition_model_version_stage`` is deprecated since 2.9.0. Model registry stages will be removed in a future major release. To learn more about the deprecation of model registry stages, see our migration guide here: https://mlflow.org/docs/2.12.2/model-registry.html#migrating-from-stages\n",
      "  client.transition_model_version_stage(\n"
     ]
    },
    {
     "name": "stdout",
     "output_type": "stream",
     "text": [
      "Model registered and transitioned to Production; version: 2\n",
      "196f34a00f46459d8d54a319bfbe8762\n"
     ]
    },
    {
     "name": "stderr",
     "output_type": "stream",
     "text": [
      "Registered model 'Attack + extra features' already exists. Creating a new version of this model...\n",
      "2024/05/19 11:12:14 INFO mlflow.store.model_registry.abstract_store: Waiting up to 300 seconds for model version to finish creation. Model name: Attack + extra features, version 2\n",
      "Created version '2' of model 'Attack + extra features'.\n",
      "/tmp/ipykernel_564938/1537320839.py:20: FutureWarning: ``mlflow.tracking.client.MlflowClient.transition_model_version_stage`` is deprecated since 2.9.0. Model registry stages will be removed in a future major release. To learn more about the deprecation of model registry stages, see our migration guide here: https://mlflow.org/docs/2.12.2/model-registry.html#migrating-from-stages\n",
      "  client.transition_model_version_stage(\n"
     ]
    },
    {
     "name": "stdout",
     "output_type": "stream",
     "text": [
      "Model registered and transitioned to Production; version: 2\n",
      "827573cf39f2433788ac4a5d1a4fa7f3\n"
     ]
    },
    {
     "name": "stderr",
     "output_type": "stream",
     "text": [
      "Registered model 'Overall + extra features' already exists. Creating a new version of this model...\n",
      "2024/05/19 11:12:14 INFO mlflow.store.model_registry.abstract_store: Waiting up to 300 seconds for model version to finish creation. Model name: Overall + extra features, version 2\n"
     ]
    },
    {
     "name": "stdout",
     "output_type": "stream",
     "text": [
      "Model registered and transitioned to Production; version: 2\n"
     ]
    },
    {
     "name": "stderr",
     "output_type": "stream",
     "text": [
      "Created version '2' of model 'Overall + extra features'.\n",
      "/tmp/ipykernel_564938/1537320839.py:20: FutureWarning: ``mlflow.tracking.client.MlflowClient.transition_model_version_stage`` is deprecated since 2.9.0. Model registry stages will be removed in a future major release. To learn more about the deprecation of model registry stages, see our migration guide here: https://mlflow.org/docs/2.12.2/model-registry.html#migrating-from-stages\n",
      "  client.transition_model_version_stage(\n"
     ]
    }
   ],
   "source": [
    "columns = []\n",
    "rows = []\n",
    "for skill , experiment_id in experiment_skill_map.items():\n",
    "    max_roc_auc_row = get_best_experiment(experiment_id)\n",
    "    finalize_experiement(run_id=max_roc_auc_row['run_id'].tolist()[0], skill_name=skill)\n",
    "    max_roc_auc_row['skill'] = skill\n",
    "    rows.append(max_roc_auc_row)\n"
   ],
   "metadata": {
    "collapsed": false,
    "ExecuteTime": {
     "end_time": "2024-05-19T10:12:14.788972900Z",
     "start_time": "2024-05-19T10:12:02.762575400Z"
    }
   },
   "id": "bc0f637b0815875d",
   "execution_count": 46
  },
  {
   "cell_type": "code",
   "outputs": [
    {
     "data": {
      "text/plain": "     params.Classifier         skill  params.PCA_n_components  \\\n44  LogisticRegression    Firemaking                       30   \n37  LogisticRegression  Construction                       40   \n23  LogisticRegression        Hunter                       60   \n37  LogisticRegression     Runecraft                       40   \n59                 SVM       Farming                       10   \n67    GradientBoosting        Slayer                        6   \n24                 SVM      Thieving                       60   \n66                 SVM       Agility                        6   \n44  LogisticRegression      Herblore                       30   \n38                 SVM        Mining                       40   \n39    GradientBoosting      Smithing                       40   \n30  LogisticRegression      Crafting                       50   \n66                 SVM       Fishing                        6   \n2   LogisticRegression     Fletching                      150   \n67    GradientBoosting   Woodcutting                        6   \n37  LogisticRegression       Cooking                       40   \n23  LogisticRegression         Magic                       60   \n44  LogisticRegression        Prayer                       30   \n17                 SVM        Ranged                       80   \n9   LogisticRegression     Hitpoints                      100   \n24                 SVM      Strength                       60   \n4     GradientBoosting       Defence                      150   \n23  LogisticRegression        Attack                       60   \n37  LogisticRegression       Overall                       40   \n\n    metrics.Mean Accuracy  metrics.ROC-AUC  metrics.Recall Class 1  \\\n44                  0.750         0.754613                0.758621   \n37                  0.876         0.805712                0.718447   \n23                  0.893         0.831542                0.755102   \n37                  0.934         0.919547                0.894068   \n59                  0.919         0.795160                0.659574   \n67                  0.896         0.830887                0.759494   \n24                  0.902         0.842876                0.754717   \n66                  0.877         0.833213                0.776786   \n44                  0.885         0.815568                0.733333   \n38                  0.913         0.839758                0.750000   \n39                  0.902         0.799981                0.663366   \n30                  0.872         0.820670                0.757282   \n66                  0.899         0.847885                0.783019   \n2                   0.870         0.781645                0.674157   \n67                  0.931         0.872794                0.810345   \n37                  0.876         0.815397                0.741176   \n23                  0.880         0.849008                0.803279   \n44                  0.881         0.811239                0.726190   \n17                  0.885         0.877232                0.852174   \n9                   0.876         0.865763                0.838095   \n24                  0.886         0.883996                0.879562   \n4                   0.907         0.862875                0.765152   \n23                  0.874         0.864186                0.843972   \n37                  0.900         0.864480                0.822785   \n\n    metrics.Recall Class 0  metrics.Accuracy Class 1  metrics.Accuracy Class 0  \n44                0.750605                     0.752                     0.752  \n37                0.892977                     0.875                     0.875  \n23                0.907982                     0.893                     0.893  \n37                0.945026                     0.933                     0.933  \n59                0.930745                     0.918                     0.918  \n67                0.902280                     0.891                     0.891  \n24                0.931034                     0.903                     0.903  \n66                0.889640                     0.877                     0.877  \n44                0.897802                     0.883                     0.883  \n38                0.929515                     0.913                     0.913  \n39                0.936596                     0.909                     0.909  \n30                0.884058                     0.871                     0.871  \n66                0.912752                     0.899                     0.899  \n2                 0.889133                     0.870                     0.870  \n67                0.935244                     0.928                     0.928  \n37                0.889617                     0.877                     0.877  \n23                0.894737                     0.878                     0.878  \n44                0.896288                     0.882                     0.882  \n17                0.902290                     0.885                     0.885  \n9                 0.893431                     0.876                     0.876  \n24                0.888430                     0.886                     0.886  \n4                 0.960598                     0.909                     0.909  \n23                0.884401                     0.873                     0.873  \n37                0.906176                     0.893                     0.893  ",
      "text/html": "<div>\n<style scoped>\n    .dataframe tbody tr th:only-of-type {\n        vertical-align: middle;\n    }\n\n    .dataframe tbody tr th {\n        vertical-align: top;\n    }\n\n    .dataframe thead th {\n        text-align: right;\n    }\n</style>\n<table border=\"1\" class=\"dataframe\">\n  <thead>\n    <tr style=\"text-align: right;\">\n      <th></th>\n      <th>params.Classifier</th>\n      <th>skill</th>\n      <th>params.PCA_n_components</th>\n      <th>metrics.Mean Accuracy</th>\n      <th>metrics.ROC-AUC</th>\n      <th>metrics.Recall Class 1</th>\n      <th>metrics.Recall Class 0</th>\n      <th>metrics.Accuracy Class 1</th>\n      <th>metrics.Accuracy Class 0</th>\n    </tr>\n  </thead>\n  <tbody>\n    <tr>\n      <th>44</th>\n      <td>LogisticRegression</td>\n      <td>Firemaking</td>\n      <td>30</td>\n      <td>0.750</td>\n      <td>0.754613</td>\n      <td>0.758621</td>\n      <td>0.750605</td>\n      <td>0.752</td>\n      <td>0.752</td>\n    </tr>\n    <tr>\n      <th>37</th>\n      <td>LogisticRegression</td>\n      <td>Construction</td>\n      <td>40</td>\n      <td>0.876</td>\n      <td>0.805712</td>\n      <td>0.718447</td>\n      <td>0.892977</td>\n      <td>0.875</td>\n      <td>0.875</td>\n    </tr>\n    <tr>\n      <th>23</th>\n      <td>LogisticRegression</td>\n      <td>Hunter</td>\n      <td>60</td>\n      <td>0.893</td>\n      <td>0.831542</td>\n      <td>0.755102</td>\n      <td>0.907982</td>\n      <td>0.893</td>\n      <td>0.893</td>\n    </tr>\n    <tr>\n      <th>37</th>\n      <td>LogisticRegression</td>\n      <td>Runecraft</td>\n      <td>40</td>\n      <td>0.934</td>\n      <td>0.919547</td>\n      <td>0.894068</td>\n      <td>0.945026</td>\n      <td>0.933</td>\n      <td>0.933</td>\n    </tr>\n    <tr>\n      <th>59</th>\n      <td>SVM</td>\n      <td>Farming</td>\n      <td>10</td>\n      <td>0.919</td>\n      <td>0.795160</td>\n      <td>0.659574</td>\n      <td>0.930745</td>\n      <td>0.918</td>\n      <td>0.918</td>\n    </tr>\n    <tr>\n      <th>67</th>\n      <td>GradientBoosting</td>\n      <td>Slayer</td>\n      <td>6</td>\n      <td>0.896</td>\n      <td>0.830887</td>\n      <td>0.759494</td>\n      <td>0.902280</td>\n      <td>0.891</td>\n      <td>0.891</td>\n    </tr>\n    <tr>\n      <th>24</th>\n      <td>SVM</td>\n      <td>Thieving</td>\n      <td>60</td>\n      <td>0.902</td>\n      <td>0.842876</td>\n      <td>0.754717</td>\n      <td>0.931034</td>\n      <td>0.903</td>\n      <td>0.903</td>\n    </tr>\n    <tr>\n      <th>66</th>\n      <td>SVM</td>\n      <td>Agility</td>\n      <td>6</td>\n      <td>0.877</td>\n      <td>0.833213</td>\n      <td>0.776786</td>\n      <td>0.889640</td>\n      <td>0.877</td>\n      <td>0.877</td>\n    </tr>\n    <tr>\n      <th>44</th>\n      <td>LogisticRegression</td>\n      <td>Herblore</td>\n      <td>30</td>\n      <td>0.885</td>\n      <td>0.815568</td>\n      <td>0.733333</td>\n      <td>0.897802</td>\n      <td>0.883</td>\n      <td>0.883</td>\n    </tr>\n    <tr>\n      <th>38</th>\n      <td>SVM</td>\n      <td>Mining</td>\n      <td>40</td>\n      <td>0.913</td>\n      <td>0.839758</td>\n      <td>0.750000</td>\n      <td>0.929515</td>\n      <td>0.913</td>\n      <td>0.913</td>\n    </tr>\n    <tr>\n      <th>39</th>\n      <td>GradientBoosting</td>\n      <td>Smithing</td>\n      <td>40</td>\n      <td>0.902</td>\n      <td>0.799981</td>\n      <td>0.663366</td>\n      <td>0.936596</td>\n      <td>0.909</td>\n      <td>0.909</td>\n    </tr>\n    <tr>\n      <th>30</th>\n      <td>LogisticRegression</td>\n      <td>Crafting</td>\n      <td>50</td>\n      <td>0.872</td>\n      <td>0.820670</td>\n      <td>0.757282</td>\n      <td>0.884058</td>\n      <td>0.871</td>\n      <td>0.871</td>\n    </tr>\n    <tr>\n      <th>66</th>\n      <td>SVM</td>\n      <td>Fishing</td>\n      <td>6</td>\n      <td>0.899</td>\n      <td>0.847885</td>\n      <td>0.783019</td>\n      <td>0.912752</td>\n      <td>0.899</td>\n      <td>0.899</td>\n    </tr>\n    <tr>\n      <th>2</th>\n      <td>LogisticRegression</td>\n      <td>Fletching</td>\n      <td>150</td>\n      <td>0.870</td>\n      <td>0.781645</td>\n      <td>0.674157</td>\n      <td>0.889133</td>\n      <td>0.870</td>\n      <td>0.870</td>\n    </tr>\n    <tr>\n      <th>67</th>\n      <td>GradientBoosting</td>\n      <td>Woodcutting</td>\n      <td>6</td>\n      <td>0.931</td>\n      <td>0.872794</td>\n      <td>0.810345</td>\n      <td>0.935244</td>\n      <td>0.928</td>\n      <td>0.928</td>\n    </tr>\n    <tr>\n      <th>37</th>\n      <td>LogisticRegression</td>\n      <td>Cooking</td>\n      <td>40</td>\n      <td>0.876</td>\n      <td>0.815397</td>\n      <td>0.741176</td>\n      <td>0.889617</td>\n      <td>0.877</td>\n      <td>0.877</td>\n    </tr>\n    <tr>\n      <th>23</th>\n      <td>LogisticRegression</td>\n      <td>Magic</td>\n      <td>60</td>\n      <td>0.880</td>\n      <td>0.849008</td>\n      <td>0.803279</td>\n      <td>0.894737</td>\n      <td>0.878</td>\n      <td>0.878</td>\n    </tr>\n    <tr>\n      <th>44</th>\n      <td>LogisticRegression</td>\n      <td>Prayer</td>\n      <td>30</td>\n      <td>0.881</td>\n      <td>0.811239</td>\n      <td>0.726190</td>\n      <td>0.896288</td>\n      <td>0.882</td>\n      <td>0.882</td>\n    </tr>\n    <tr>\n      <th>17</th>\n      <td>SVM</td>\n      <td>Ranged</td>\n      <td>80</td>\n      <td>0.885</td>\n      <td>0.877232</td>\n      <td>0.852174</td>\n      <td>0.902290</td>\n      <td>0.885</td>\n      <td>0.885</td>\n    </tr>\n    <tr>\n      <th>9</th>\n      <td>LogisticRegression</td>\n      <td>Hitpoints</td>\n      <td>100</td>\n      <td>0.876</td>\n      <td>0.865763</td>\n      <td>0.838095</td>\n      <td>0.893431</td>\n      <td>0.876</td>\n      <td>0.876</td>\n    </tr>\n    <tr>\n      <th>24</th>\n      <td>SVM</td>\n      <td>Strength</td>\n      <td>60</td>\n      <td>0.886</td>\n      <td>0.883996</td>\n      <td>0.879562</td>\n      <td>0.888430</td>\n      <td>0.886</td>\n      <td>0.886</td>\n    </tr>\n    <tr>\n      <th>4</th>\n      <td>GradientBoosting</td>\n      <td>Defence</td>\n      <td>150</td>\n      <td>0.907</td>\n      <td>0.862875</td>\n      <td>0.765152</td>\n      <td>0.960598</td>\n      <td>0.909</td>\n      <td>0.909</td>\n    </tr>\n    <tr>\n      <th>23</th>\n      <td>LogisticRegression</td>\n      <td>Attack</td>\n      <td>60</td>\n      <td>0.874</td>\n      <td>0.864186</td>\n      <td>0.843972</td>\n      <td>0.884401</td>\n      <td>0.873</td>\n      <td>0.873</td>\n    </tr>\n    <tr>\n      <th>37</th>\n      <td>LogisticRegression</td>\n      <td>Overall</td>\n      <td>40</td>\n      <td>0.900</td>\n      <td>0.864480</td>\n      <td>0.822785</td>\n      <td>0.906176</td>\n      <td>0.893</td>\n      <td>0.893</td>\n    </tr>\n  </tbody>\n</table>\n</div>"
     },
     "execution_count": 56,
     "metadata": {},
     "output_type": "execute_result"
    }
   ],
   "source": [
    "df = pd.concat(rows)\n",
    "\n",
    "columns = ['params.Classifier','skill','params.PCA_n_components','metrics.Mean Accuracy','metrics.ROC-AUC', 'metrics.Recall Class 1','metrics.Recall Class 0','metrics.Accuracy Class 1','metrics.Accuracy Class 0']\n",
    "\n",
    "df = df[columns]\n",
    "\n",
    "int_columns = ['params.PCA_n_components']\n",
    "float_columns = ['metrics.Mean Accuracy','metrics.ROC-AUC','metrics.Recall Class 1','metrics.Recall Class 0','metrics.Accuracy Class 1','metrics.Accuracy Class 0']\n",
    "\n",
    "float_columns = [col for col in float_columns if col in columns]\n",
    "int_columns = [col for col in int_columns if col in columns]\n",
    "\n",
    "\n",
    "df[int_columns] = df[int_columns].astype(int)\n",
    "df[float_columns] = df[float_columns].astype(float)\n",
    "df"
   ],
   "metadata": {
    "collapsed": false,
    "ExecuteTime": {
     "end_time": "2024-05-19T10:17:37.517244600Z",
     "start_time": "2024-05-19T10:17:37.462560500Z"
    }
   },
   "id": "d156135fa9c501fa",
   "execution_count": 56
  },
  {
   "cell_type": "code",
   "outputs": [
    {
     "data": {
      "text/plain": "           skill  metrics.Mean Accuracy  metrics.Accuracy Class 1  \\\n44    Firemaking                  0.750                     0.752   \n37  Construction                  0.876                     0.875   \n23        Hunter                  0.893                     0.893   \n37     Runecraft                  0.934                     0.933   \n59       Farming                  0.919                     0.918   \n67        Slayer                  0.896                     0.891   \n24      Thieving                  0.902                     0.903   \n66       Agility                  0.877                     0.877   \n44      Herblore                  0.885                     0.883   \n38        Mining                  0.913                     0.913   \n39      Smithing                  0.902                     0.909   \n30      Crafting                  0.872                     0.871   \n66       Fishing                  0.899                     0.899   \n2      Fletching                  0.870                     0.870   \n67   Woodcutting                  0.931                     0.928   \n37       Cooking                  0.876                     0.877   \n23         Magic                  0.880                     0.878   \n44        Prayer                  0.881                     0.882   \n17        Ranged                  0.885                     0.885   \n9      Hitpoints                  0.876                     0.876   \n24      Strength                  0.886                     0.886   \n4        Defence                  0.907                     0.909   \n23        Attack                  0.874                     0.873   \n37       Overall                  0.900                     0.893   \n\n    metrics.Accuracy Class 0  \n44                     0.752  \n37                     0.875  \n23                     0.893  \n37                     0.933  \n59                     0.918  \n67                     0.891  \n24                     0.903  \n66                     0.877  \n44                     0.883  \n38                     0.913  \n39                     0.909  \n30                     0.871  \n66                     0.899  \n2                      0.870  \n67                     0.928  \n37                     0.877  \n23                     0.878  \n44                     0.882  \n17                     0.885  \n9                      0.876  \n24                     0.886  \n4                      0.909  \n23                     0.873  \n37                     0.893  ",
      "text/html": "<div>\n<style scoped>\n    .dataframe tbody tr th:only-of-type {\n        vertical-align: middle;\n    }\n\n    .dataframe tbody tr th {\n        vertical-align: top;\n    }\n\n    .dataframe thead th {\n        text-align: right;\n    }\n</style>\n<table border=\"1\" class=\"dataframe\">\n  <thead>\n    <tr style=\"text-align: right;\">\n      <th></th>\n      <th>skill</th>\n      <th>metrics.Mean Accuracy</th>\n      <th>metrics.Accuracy Class 1</th>\n      <th>metrics.Accuracy Class 0</th>\n    </tr>\n  </thead>\n  <tbody>\n    <tr>\n      <th>44</th>\n      <td>Firemaking</td>\n      <td>0.750</td>\n      <td>0.752</td>\n      <td>0.752</td>\n    </tr>\n    <tr>\n      <th>37</th>\n      <td>Construction</td>\n      <td>0.876</td>\n      <td>0.875</td>\n      <td>0.875</td>\n    </tr>\n    <tr>\n      <th>23</th>\n      <td>Hunter</td>\n      <td>0.893</td>\n      <td>0.893</td>\n      <td>0.893</td>\n    </tr>\n    <tr>\n      <th>37</th>\n      <td>Runecraft</td>\n      <td>0.934</td>\n      <td>0.933</td>\n      <td>0.933</td>\n    </tr>\n    <tr>\n      <th>59</th>\n      <td>Farming</td>\n      <td>0.919</td>\n      <td>0.918</td>\n      <td>0.918</td>\n    </tr>\n    <tr>\n      <th>67</th>\n      <td>Slayer</td>\n      <td>0.896</td>\n      <td>0.891</td>\n      <td>0.891</td>\n    </tr>\n    <tr>\n      <th>24</th>\n      <td>Thieving</td>\n      <td>0.902</td>\n      <td>0.903</td>\n      <td>0.903</td>\n    </tr>\n    <tr>\n      <th>66</th>\n      <td>Agility</td>\n      <td>0.877</td>\n      <td>0.877</td>\n      <td>0.877</td>\n    </tr>\n    <tr>\n      <th>44</th>\n      <td>Herblore</td>\n      <td>0.885</td>\n      <td>0.883</td>\n      <td>0.883</td>\n    </tr>\n    <tr>\n      <th>38</th>\n      <td>Mining</td>\n      <td>0.913</td>\n      <td>0.913</td>\n      <td>0.913</td>\n    </tr>\n    <tr>\n      <th>39</th>\n      <td>Smithing</td>\n      <td>0.902</td>\n      <td>0.909</td>\n      <td>0.909</td>\n    </tr>\n    <tr>\n      <th>30</th>\n      <td>Crafting</td>\n      <td>0.872</td>\n      <td>0.871</td>\n      <td>0.871</td>\n    </tr>\n    <tr>\n      <th>66</th>\n      <td>Fishing</td>\n      <td>0.899</td>\n      <td>0.899</td>\n      <td>0.899</td>\n    </tr>\n    <tr>\n      <th>2</th>\n      <td>Fletching</td>\n      <td>0.870</td>\n      <td>0.870</td>\n      <td>0.870</td>\n    </tr>\n    <tr>\n      <th>67</th>\n      <td>Woodcutting</td>\n      <td>0.931</td>\n      <td>0.928</td>\n      <td>0.928</td>\n    </tr>\n    <tr>\n      <th>37</th>\n      <td>Cooking</td>\n      <td>0.876</td>\n      <td>0.877</td>\n      <td>0.877</td>\n    </tr>\n    <tr>\n      <th>23</th>\n      <td>Magic</td>\n      <td>0.880</td>\n      <td>0.878</td>\n      <td>0.878</td>\n    </tr>\n    <tr>\n      <th>44</th>\n      <td>Prayer</td>\n      <td>0.881</td>\n      <td>0.882</td>\n      <td>0.882</td>\n    </tr>\n    <tr>\n      <th>17</th>\n      <td>Ranged</td>\n      <td>0.885</td>\n      <td>0.885</td>\n      <td>0.885</td>\n    </tr>\n    <tr>\n      <th>9</th>\n      <td>Hitpoints</td>\n      <td>0.876</td>\n      <td>0.876</td>\n      <td>0.876</td>\n    </tr>\n    <tr>\n      <th>24</th>\n      <td>Strength</td>\n      <td>0.886</td>\n      <td>0.886</td>\n      <td>0.886</td>\n    </tr>\n    <tr>\n      <th>4</th>\n      <td>Defence</td>\n      <td>0.907</td>\n      <td>0.909</td>\n      <td>0.909</td>\n    </tr>\n    <tr>\n      <th>23</th>\n      <td>Attack</td>\n      <td>0.874</td>\n      <td>0.873</td>\n      <td>0.873</td>\n    </tr>\n    <tr>\n      <th>37</th>\n      <td>Overall</td>\n      <td>0.900</td>\n      <td>0.893</td>\n      <td>0.893</td>\n    </tr>\n  </tbody>\n</table>\n</div>"
     },
     "execution_count": 57,
     "metadata": {},
     "output_type": "execute_result"
    }
   ],
   "source": [
    "df[['skill', 'metrics.Mean Accuracy', 'metrics.Accuracy Class 1','metrics.Accuracy Class 0']]"
   ],
   "metadata": {
    "collapsed": false,
    "ExecuteTime": {
     "end_time": "2024-05-19T10:20:44.738115Z",
     "start_time": "2024-05-19T10:20:44.724447200Z"
    }
   },
   "id": "a804f80f1c2d21c6",
   "execution_count": 57
  }
 ],
 "metadata": {
  "kernelspec": {
   "display_name": "Python 3",
   "language": "python",
   "name": "python3"
  },
  "language_info": {
   "codemirror_mode": {
    "name": "ipython",
    "version": 2
   },
   "file_extension": ".py",
   "mimetype": "text/x-python",
   "name": "python",
   "nbconvert_exporter": "python",
   "pygments_lexer": "ipython2",
   "version": "2.7.6"
  }
 },
 "nbformat": 4,
 "nbformat_minor": 5
}
