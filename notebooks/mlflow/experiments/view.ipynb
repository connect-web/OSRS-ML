{
 "cells": [
  {
   "cell_type": "code",
   "execution_count": 1,
   "id": "e95185c4d9bcb203",
   "metadata": {
    "collapsed": false,
    "ExecuteTime": {
     "end_time": "2024-05-22T10:34:25.281748200Z",
     "start_time": "2024-05-22T10:34:08.987894800Z"
    }
   },
   "outputs": [
    {
     "name": "stdout",
     "output_type": "stream",
     "text": [
      "You have 101 valid experiments & 25 invalid experiments & 1 metrics were missing.\n"
     ]
    },
    {
     "data": {
      "text/plain": "                               run_id experiment_id    status  \\\n0    7d143c283d5249d38db2839572a90cf7           123  FINISHED   \n1    eb549f9f65684131bc21fe1d2992f547           122  FINISHED   \n2    677324049381435db577fbd2398e2360           121  FINISHED   \n3    056c62aacedf4a9cb39c22f1e2e65eca           120  FINISHED   \n4    85e9dca781f44c6294a059bdaa7bda04           119  FINISHED   \n..                                ...           ...       ...   \n96   95b78d041501413da42233dc1167f842             7  FINISHED   \n97   606efc9425d14d5d84d31bc1e0a8bcbc             6  FINISHED   \n98   64ee6846bc164aa59df0bdd05402f60b             5  FINISHED   \n99   196f34a00f46459d8d54a319bfbe8762             4  FINISHED   \n100  827573cf39f2433788ac4a5d1a4fa7f3             3  FINISHED   \n\n                                          artifact_uri  \\\n0    /mnt/c/Users/Lounge/PyCharmProjects/osrs/pca A...   \n1    /mnt/c/Users/Lounge/PyCharmProjects/osrs/pca A...   \n2    /mnt/c/Users/Lounge/PyCharmProjects/osrs/pca A...   \n3    /mnt/c/Users/Lounge/PyCharmProjects/osrs/pca A...   \n4    /mnt/c/Users/Lounge/PyCharmProjects/osrs/pca A...   \n..                                                 ...   \n96   /mnt/c/Users/Lounge/PyCharmProjects/osrs/pca A...   \n97   /mnt/c/Users/Lounge/PyCharmProjects/osrs/pca A...   \n98   /mnt/c/Users/Lounge/PyCharmProjects/osrs/pca A...   \n99   /mnt/c/Users/Lounge/PyCharmProjects/osrs/pca A...   \n100  /mnt/c/Users/Lounge/PyCharmProjects/osrs/pca A...   \n\n                          start_time                         end_time  \\\n0   2024-05-19 20:05:43.765000+00:00 2024-05-19 20:06:01.348000+00:00   \n1   2024-05-19 20:01:15.242000+00:00 2024-05-19 20:01:33.230000+00:00   \n2   2024-05-19 19:56:56.647000+00:00 2024-05-19 19:57:15.103000+00:00   \n3   2024-05-19 19:52:53.458000+00:00 2024-05-19 19:53:14.275000+00:00   \n4   2024-05-19 19:48:43.983000+00:00 2024-05-19 19:49:00.917000+00:00   \n..                               ...                              ...   \n96  2024-05-18 19:24:34.910000+00:00 2024-05-18 19:24:48.323000+00:00   \n97  2024-05-18 19:10:37.313000+00:00 2024-05-18 19:10:48.808000+00:00   \n98  2024-05-18 19:07:23.958000+00:00 2024-05-18 19:08:24.574000+00:00   \n99  2024-05-18 18:51:45.600000+00:00 2024-05-18 18:52:01.056000+00:00   \n100 2024-05-18 14:25:37.237000+00:00 2024-05-18 14:25:48.598000+00:00   \n\n     metrics.Accuracy Class 0  metrics.Mean Accuracy  metrics.Recall Class 0  \\\n0                       0.917                  0.912                0.958781   \n1                       0.873                  0.873                0.892344   \n2                       0.739                  0.739                0.745679   \n3                       0.869                  0.870                0.877647   \n4                       0.899                  0.899                0.923833   \n..                        ...                    ...                     ...   \n96                      0.876                  0.876                0.893431   \n97                      0.886                  0.886                0.888430   \n98                      0.909                  0.907                0.960598   \n99                      0.873                  0.874                0.884401   \n100                     0.893                  0.900                0.906176   \n\n     metrics.Recall Class 1  ...  params.PCA_n_components  params.Sampling  \\\n0                  0.864253  ...                      150            SMOTE   \n1                  0.774390  ...                      150            SMOTE   \n2                  0.710526  ...                      150            SMOTE   \n3                  0.862609  ...                      150            SMOTE   \n4                  0.790323  ...                      150            SMOTE   \n..                      ...  ...                      ...              ...   \n96                 0.838095  ...                      100            SMOTE   \n97                 0.879562  ...                       60            SMOTE   \n98                 0.765152  ...                      150            SMOTE   \n99                 0.843972  ...                       60            SMOTE   \n100                0.822785  ...                       40            SMOTE   \n\n      params.Classifier tags.mlflow.source.type  \\\n0        LGBMClassifier                   LOCAL   \n1                   SVM                   LOCAL   \n2                   SVM                   LOCAL   \n3    LogisticRegression                   LOCAL   \n4                   SVM                   LOCAL   \n..                  ...                     ...   \n96   LogisticRegression                   LOCAL   \n97                  SVM                   LOCAL   \n98     GradientBoosting                   LOCAL   \n99   LogisticRegression                   LOCAL   \n100  LogisticRegression                   LOCAL   \n\n                         tags.mlflow.log-model.history  \\\n0    [{\"run_id\": \"7d143c283d5249d38db2839572a90cf7\"...   \n1    [{\"run_id\": \"eb549f9f65684131bc21fe1d2992f547\"...   \n2    [{\"run_id\": \"677324049381435db577fbd2398e2360\"...   \n3    [{\"run_id\": \"056c62aacedf4a9cb39c22f1e2e65eca\"...   \n4    [{\"run_id\": \"85e9dca781f44c6294a059bdaa7bda04\"...   \n..                                                 ...   \n96   [{\"run_id\": \"95b78d041501413da42233dc1167f842\"...   \n97   [{\"run_id\": \"606efc9425d14d5d84d31bc1e0a8bcbc\"...   \n98   [{\"run_id\": \"64ee6846bc164aa59df0bdd05402f60b\"...   \n99   [{\"run_id\": \"196f34a00f46459d8d54a319bfbe8762\"...   \n100  [{\"run_id\": \"827573cf39f2433788ac4a5d1a4fa7f3\"...   \n\n                               tags.mlflow.source.name  \\\n0    /mnt/c/Users/Lounge/PyCharmProjects/osrs/pca A...   \n1    /mnt/c/Users/Lounge/PyCharmProjects/osrs/pca A...   \n2    /mnt/c/Users/Lounge/PyCharmProjects/osrs/pca A...   \n3    /mnt/c/Users/Lounge/PyCharmProjects/osrs/pca A...   \n4    /mnt/c/Users/Lounge/PyCharmProjects/osrs/pca A...   \n..                                                 ...   \n96   /mnt/c/Users/Lounge/PyCharmProjects/osrs/pca A...   \n97   /mnt/c/Users/Lounge/PyCharmProjects/osrs/pca A...   \n98   /mnt/c/Users/Lounge/PyCharmProjects/osrs/pca A...   \n99   /mnt/c/Users/Lounge/PyCharmProjects/osrs/pca A...   \n100  /mnt/c/Users/Lounge/PyCharmProjects/osrs/pca A...   \n\n                tags.mlflow.source.git.commit   tags.mlflow.runName  \\\n0    adf01c965de28b9ccf75451e73c6d5812f70f908     abrasive-mole-846   \n1    adf01c965de28b9ccf75451e73c6d5812f70f908     legendary-toad-32   \n2    adf01c965de28b9ccf75451e73c6d5812f70f908        rare-stoat-906   \n3    adf01c965de28b9ccf75451e73c6d5812f70f908  enchanting-crane-244   \n4    adf01c965de28b9ccf75451e73c6d5812f70f908     intrigued-fawn-13   \n..                                        ...                   ...   \n96   afe3434b6267eab2cb50688a4c30a95a0ff55907       silent-newt-822   \n97   afe3434b6267eab2cb50688a4c30a95a0ff55907        merciful-ox-55   \n98   afe3434b6267eab2cb50688a4c30a95a0ff55907        gaudy-carp-919   \n99   afe3434b6267eab2cb50688a4c30a95a0ff55907      gentle-robin-385   \n100  afe3434b6267eab2cb50688a4c30a95a0ff55907        sneaky-cow-188   \n\n    tags.mlflow.user                                    experiment_name  \n0                 ez  Zulrah Experience Model comparison for 1000 users  \n1                 ez  Zalcano Experience Model comparison for 1000 u...  \n2                 ez  Wintertodt Experience Model comparison for 100...  \n3                 ez  Vorkath Experience Model comparison for 1000 u...  \n4                 ez  Vet'ion Experience Model comparison for 1000 u...  \n..               ...                                                ...  \n96                ez  Hitpoints Experience Model comparison for 1000...  \n97                ez  Strength Experience Model comparison for 1000 ...  \n98                ez  Defence Experience Model comparison for 1000 u...  \n99                ez  Attack Experience Model comparison for 1000 users  \n100               ez  Overall Experience Model comparison for 1000 u...  \n\n[101 rows x 22 columns]",
      "text/html": "<div>\n<style scoped>\n    .dataframe tbody tr th:only-of-type {\n        vertical-align: middle;\n    }\n\n    .dataframe tbody tr th {\n        vertical-align: top;\n    }\n\n    .dataframe thead th {\n        text-align: right;\n    }\n</style>\n<table border=\"1\" class=\"dataframe\">\n  <thead>\n    <tr style=\"text-align: right;\">\n      <th></th>\n      <th>run_id</th>\n      <th>experiment_id</th>\n      <th>status</th>\n      <th>artifact_uri</th>\n      <th>start_time</th>\n      <th>end_time</th>\n      <th>metrics.Accuracy Class 0</th>\n      <th>metrics.Mean Accuracy</th>\n      <th>metrics.Recall Class 0</th>\n      <th>metrics.Recall Class 1</th>\n      <th>...</th>\n      <th>params.PCA_n_components</th>\n      <th>params.Sampling</th>\n      <th>params.Classifier</th>\n      <th>tags.mlflow.source.type</th>\n      <th>tags.mlflow.log-model.history</th>\n      <th>tags.mlflow.source.name</th>\n      <th>tags.mlflow.source.git.commit</th>\n      <th>tags.mlflow.runName</th>\n      <th>tags.mlflow.user</th>\n      <th>experiment_name</th>\n    </tr>\n  </thead>\n  <tbody>\n    <tr>\n      <th>0</th>\n      <td>7d143c283d5249d38db2839572a90cf7</td>\n      <td>123</td>\n      <td>FINISHED</td>\n      <td>/mnt/c/Users/Lounge/PyCharmProjects/osrs/pca A...</td>\n      <td>2024-05-19 20:05:43.765000+00:00</td>\n      <td>2024-05-19 20:06:01.348000+00:00</td>\n      <td>0.917</td>\n      <td>0.912</td>\n      <td>0.958781</td>\n      <td>0.864253</td>\n      <td>...</td>\n      <td>150</td>\n      <td>SMOTE</td>\n      <td>LGBMClassifier</td>\n      <td>LOCAL</td>\n      <td>[{\"run_id\": \"7d143c283d5249d38db2839572a90cf7\"...</td>\n      <td>/mnt/c/Users/Lounge/PyCharmProjects/osrs/pca A...</td>\n      <td>adf01c965de28b9ccf75451e73c6d5812f70f908</td>\n      <td>abrasive-mole-846</td>\n      <td>ez</td>\n      <td>Zulrah Experience Model comparison for 1000 users</td>\n    </tr>\n    <tr>\n      <th>1</th>\n      <td>eb549f9f65684131bc21fe1d2992f547</td>\n      <td>122</td>\n      <td>FINISHED</td>\n      <td>/mnt/c/Users/Lounge/PyCharmProjects/osrs/pca A...</td>\n      <td>2024-05-19 20:01:15.242000+00:00</td>\n      <td>2024-05-19 20:01:33.230000+00:00</td>\n      <td>0.873</td>\n      <td>0.873</td>\n      <td>0.892344</td>\n      <td>0.774390</td>\n      <td>...</td>\n      <td>150</td>\n      <td>SMOTE</td>\n      <td>SVM</td>\n      <td>LOCAL</td>\n      <td>[{\"run_id\": \"eb549f9f65684131bc21fe1d2992f547\"...</td>\n      <td>/mnt/c/Users/Lounge/PyCharmProjects/osrs/pca A...</td>\n      <td>adf01c965de28b9ccf75451e73c6d5812f70f908</td>\n      <td>legendary-toad-32</td>\n      <td>ez</td>\n      <td>Zalcano Experience Model comparison for 1000 u...</td>\n    </tr>\n    <tr>\n      <th>2</th>\n      <td>677324049381435db577fbd2398e2360</td>\n      <td>121</td>\n      <td>FINISHED</td>\n      <td>/mnt/c/Users/Lounge/PyCharmProjects/osrs/pca A...</td>\n      <td>2024-05-19 19:56:56.647000+00:00</td>\n      <td>2024-05-19 19:57:15.103000+00:00</td>\n      <td>0.739</td>\n      <td>0.739</td>\n      <td>0.745679</td>\n      <td>0.710526</td>\n      <td>...</td>\n      <td>150</td>\n      <td>SMOTE</td>\n      <td>SVM</td>\n      <td>LOCAL</td>\n      <td>[{\"run_id\": \"677324049381435db577fbd2398e2360\"...</td>\n      <td>/mnt/c/Users/Lounge/PyCharmProjects/osrs/pca A...</td>\n      <td>adf01c965de28b9ccf75451e73c6d5812f70f908</td>\n      <td>rare-stoat-906</td>\n      <td>ez</td>\n      <td>Wintertodt Experience Model comparison for 100...</td>\n    </tr>\n    <tr>\n      <th>3</th>\n      <td>056c62aacedf4a9cb39c22f1e2e65eca</td>\n      <td>120</td>\n      <td>FINISHED</td>\n      <td>/mnt/c/Users/Lounge/PyCharmProjects/osrs/pca A...</td>\n      <td>2024-05-19 19:52:53.458000+00:00</td>\n      <td>2024-05-19 19:53:14.275000+00:00</td>\n      <td>0.869</td>\n      <td>0.870</td>\n      <td>0.877647</td>\n      <td>0.862609</td>\n      <td>...</td>\n      <td>150</td>\n      <td>SMOTE</td>\n      <td>LogisticRegression</td>\n      <td>LOCAL</td>\n      <td>[{\"run_id\": \"056c62aacedf4a9cb39c22f1e2e65eca\"...</td>\n      <td>/mnt/c/Users/Lounge/PyCharmProjects/osrs/pca A...</td>\n      <td>adf01c965de28b9ccf75451e73c6d5812f70f908</td>\n      <td>enchanting-crane-244</td>\n      <td>ez</td>\n      <td>Vorkath Experience Model comparison for 1000 u...</td>\n    </tr>\n    <tr>\n      <th>4</th>\n      <td>85e9dca781f44c6294a059bdaa7bda04</td>\n      <td>119</td>\n      <td>FINISHED</td>\n      <td>/mnt/c/Users/Lounge/PyCharmProjects/osrs/pca A...</td>\n      <td>2024-05-19 19:48:43.983000+00:00</td>\n      <td>2024-05-19 19:49:00.917000+00:00</td>\n      <td>0.899</td>\n      <td>0.899</td>\n      <td>0.923833</td>\n      <td>0.790323</td>\n      <td>...</td>\n      <td>150</td>\n      <td>SMOTE</td>\n      <td>SVM</td>\n      <td>LOCAL</td>\n      <td>[{\"run_id\": \"85e9dca781f44c6294a059bdaa7bda04\"...</td>\n      <td>/mnt/c/Users/Lounge/PyCharmProjects/osrs/pca A...</td>\n      <td>adf01c965de28b9ccf75451e73c6d5812f70f908</td>\n      <td>intrigued-fawn-13</td>\n      <td>ez</td>\n      <td>Vet'ion Experience Model comparison for 1000 u...</td>\n    </tr>\n    <tr>\n      <th>...</th>\n      <td>...</td>\n      <td>...</td>\n      <td>...</td>\n      <td>...</td>\n      <td>...</td>\n      <td>...</td>\n      <td>...</td>\n      <td>...</td>\n      <td>...</td>\n      <td>...</td>\n      <td>...</td>\n      <td>...</td>\n      <td>...</td>\n      <td>...</td>\n      <td>...</td>\n      <td>...</td>\n      <td>...</td>\n      <td>...</td>\n      <td>...</td>\n      <td>...</td>\n      <td>...</td>\n    </tr>\n    <tr>\n      <th>96</th>\n      <td>95b78d041501413da42233dc1167f842</td>\n      <td>7</td>\n      <td>FINISHED</td>\n      <td>/mnt/c/Users/Lounge/PyCharmProjects/osrs/pca A...</td>\n      <td>2024-05-18 19:24:34.910000+00:00</td>\n      <td>2024-05-18 19:24:48.323000+00:00</td>\n      <td>0.876</td>\n      <td>0.876</td>\n      <td>0.893431</td>\n      <td>0.838095</td>\n      <td>...</td>\n      <td>100</td>\n      <td>SMOTE</td>\n      <td>LogisticRegression</td>\n      <td>LOCAL</td>\n      <td>[{\"run_id\": \"95b78d041501413da42233dc1167f842\"...</td>\n      <td>/mnt/c/Users/Lounge/PyCharmProjects/osrs/pca A...</td>\n      <td>afe3434b6267eab2cb50688a4c30a95a0ff55907</td>\n      <td>silent-newt-822</td>\n      <td>ez</td>\n      <td>Hitpoints Experience Model comparison for 1000...</td>\n    </tr>\n    <tr>\n      <th>97</th>\n      <td>606efc9425d14d5d84d31bc1e0a8bcbc</td>\n      <td>6</td>\n      <td>FINISHED</td>\n      <td>/mnt/c/Users/Lounge/PyCharmProjects/osrs/pca A...</td>\n      <td>2024-05-18 19:10:37.313000+00:00</td>\n      <td>2024-05-18 19:10:48.808000+00:00</td>\n      <td>0.886</td>\n      <td>0.886</td>\n      <td>0.888430</td>\n      <td>0.879562</td>\n      <td>...</td>\n      <td>60</td>\n      <td>SMOTE</td>\n      <td>SVM</td>\n      <td>LOCAL</td>\n      <td>[{\"run_id\": \"606efc9425d14d5d84d31bc1e0a8bcbc\"...</td>\n      <td>/mnt/c/Users/Lounge/PyCharmProjects/osrs/pca A...</td>\n      <td>afe3434b6267eab2cb50688a4c30a95a0ff55907</td>\n      <td>merciful-ox-55</td>\n      <td>ez</td>\n      <td>Strength Experience Model comparison for 1000 ...</td>\n    </tr>\n    <tr>\n      <th>98</th>\n      <td>64ee6846bc164aa59df0bdd05402f60b</td>\n      <td>5</td>\n      <td>FINISHED</td>\n      <td>/mnt/c/Users/Lounge/PyCharmProjects/osrs/pca A...</td>\n      <td>2024-05-18 19:07:23.958000+00:00</td>\n      <td>2024-05-18 19:08:24.574000+00:00</td>\n      <td>0.909</td>\n      <td>0.907</td>\n      <td>0.960598</td>\n      <td>0.765152</td>\n      <td>...</td>\n      <td>150</td>\n      <td>SMOTE</td>\n      <td>GradientBoosting</td>\n      <td>LOCAL</td>\n      <td>[{\"run_id\": \"64ee6846bc164aa59df0bdd05402f60b\"...</td>\n      <td>/mnt/c/Users/Lounge/PyCharmProjects/osrs/pca A...</td>\n      <td>afe3434b6267eab2cb50688a4c30a95a0ff55907</td>\n      <td>gaudy-carp-919</td>\n      <td>ez</td>\n      <td>Defence Experience Model comparison for 1000 u...</td>\n    </tr>\n    <tr>\n      <th>99</th>\n      <td>196f34a00f46459d8d54a319bfbe8762</td>\n      <td>4</td>\n      <td>FINISHED</td>\n      <td>/mnt/c/Users/Lounge/PyCharmProjects/osrs/pca A...</td>\n      <td>2024-05-18 18:51:45.600000+00:00</td>\n      <td>2024-05-18 18:52:01.056000+00:00</td>\n      <td>0.873</td>\n      <td>0.874</td>\n      <td>0.884401</td>\n      <td>0.843972</td>\n      <td>...</td>\n      <td>60</td>\n      <td>SMOTE</td>\n      <td>LogisticRegression</td>\n      <td>LOCAL</td>\n      <td>[{\"run_id\": \"196f34a00f46459d8d54a319bfbe8762\"...</td>\n      <td>/mnt/c/Users/Lounge/PyCharmProjects/osrs/pca A...</td>\n      <td>afe3434b6267eab2cb50688a4c30a95a0ff55907</td>\n      <td>gentle-robin-385</td>\n      <td>ez</td>\n      <td>Attack Experience Model comparison for 1000 users</td>\n    </tr>\n    <tr>\n      <th>100</th>\n      <td>827573cf39f2433788ac4a5d1a4fa7f3</td>\n      <td>3</td>\n      <td>FINISHED</td>\n      <td>/mnt/c/Users/Lounge/PyCharmProjects/osrs/pca A...</td>\n      <td>2024-05-18 14:25:37.237000+00:00</td>\n      <td>2024-05-18 14:25:48.598000+00:00</td>\n      <td>0.893</td>\n      <td>0.900</td>\n      <td>0.906176</td>\n      <td>0.822785</td>\n      <td>...</td>\n      <td>40</td>\n      <td>SMOTE</td>\n      <td>LogisticRegression</td>\n      <td>LOCAL</td>\n      <td>[{\"run_id\": \"827573cf39f2433788ac4a5d1a4fa7f3\"...</td>\n      <td>/mnt/c/Users/Lounge/PyCharmProjects/osrs/pca A...</td>\n      <td>afe3434b6267eab2cb50688a4c30a95a0ff55907</td>\n      <td>sneaky-cow-188</td>\n      <td>ez</td>\n      <td>Overall Experience Model comparison for 1000 u...</td>\n    </tr>\n  </tbody>\n</table>\n<p>101 rows × 22 columns</p>\n</div>"
     },
     "execution_count": 1,
     "metadata": {},
     "output_type": "execute_result"
    }
   ],
   "source": [
    "import pandas as pd\n",
    "\n",
    "from ml import (list_all_experiments)\n",
    "\n",
    "\n",
    "\n",
    "\n",
    "experiment_skill_map = {}\n",
    "\n",
    "\n",
    "HIDE_SKILLS = True\n",
    "\n",
    "# Get and print all experiments\n",
    "all_experiments = list_all_experiments()\n",
    "for exp_id, exp_name in all_experiments:\n",
    "    if '2' in exp_name:\n",
    "        continue\n",
    "    if HIDE_SKILLS:\n",
    "        if int(exp_id) < 27:\n",
    "            continue\n",
    "    skill = exp_name.split('Experience Model')[0]\n",
    "    experiment_skill_map[skill] = exp_id\n",
    "    \n",
    "experiment_skill_map"
   ]
  },
  {
   "cell_type": "code",
   "outputs": [],
   "source": [
    "def fetch_experiment_data(experiment_id):\n",
    "    # Fetch all runs from a specific experiment\n",
    "    runs = mlflow.search_runs(experiment_id)\n",
    "    \n",
    "    # Check if DataFrame is empty\n",
    "    if runs.empty:\n",
    "        print(\"No data found for experiment ID:\", experiment_id)\n",
    "        return None\n",
    "    \n",
    "    return runs\n",
    "\n",
    "def get_best_experiment(experiment_id):\n",
    "    try:\n",
    "        experiment_data = fetch_experiment_data(str(experiment_id))\n",
    "        max_roc_auc_row = experiment_data.loc[experiment_data['metrics.ROC-AUC'] == experiment_data['metrics.ROC-AUC'].max()]\n",
    "        return max_roc_auc_row\n",
    "    except:\n",
    "        return None\n",
    "max_roc_auc_row = get_best_experiment('3')"
   ],
   "metadata": {
    "collapsed": false
   },
   "id": "aa5ca56ab5cda36f",
   "execution_count": 9
  },
  {
   "cell_type": "code",
   "outputs": [],
   "source": [
    "params = ['params.Classifier', 'params.Sampling', 'params.PCA_n_components']\n",
    "max_roc_auc_row"
   ],
   "metadata": {
    "collapsed": false
   },
   "id": "initial_id",
   "execution_count": 8
  },
  {
   "cell_type": "code",
   "outputs": [],
   "source": [
    "\n",
    "from mlflow.tracking import MlflowClient\n",
    "\n",
    "# Initialize MLflow client\n",
    "client = MlflowClient()\n",
    "\n",
    "# Load the model from a specific run\n",
    "\n",
    "def finalize_experiement(run_id, skill_name):\n",
    "    artifact_path = \"model\"\n",
    "    print(run_id)\n",
    "    model_uri = f\"runs:/{run_id}/{artifact_path}\"\n",
    "    model = mlflow.pyfunc.load_model(model_uri)\n",
    "    \n",
    "    # Register the model in the Model Registry\n",
    "    model_name = f'{skill_name} + extra features'\n",
    "    model_details = mlflow.register_model(model_uri=model_uri, name=model_name)\n",
    "    \n",
    "    # Transition model to Production\n",
    "    version = model_details.version\n",
    "    client.transition_model_version_stage(\n",
    "        name=model_name,\n",
    "        version=version,\n",
    "        stage=\"Production\",\n",
    "        archive_existing_versions=True\n",
    "    )\n",
    "\n",
    "    print(f\"Model registered and transitioned to Production; version: {version}\")\n",
    "\n"
   ],
   "metadata": {
    "collapsed": false
   },
   "id": "cc0094750a505397",
   "execution_count": 3
  },
  {
   "cell_type": "code",
   "outputs": [
    {
     "name": "stdout",
     "output_type": "stream",
     "text": [
      "No data found for experiment ID: 126\n",
      "No data found for experiment ID: 125\n",
      "No data found for experiment ID: 124\n",
      "7d143c283d5249d38db2839572a90cf7\n"
     ]
    },
    {
     "name": "stderr",
     "output_type": "stream",
     "text": [
      "Registered model 'Zulrah  + extra features' already exists. Creating a new version of this model...\n",
      "2024/05/22 11:22:11 INFO mlflow.store.model_registry.abstract_store: Waiting up to 300 seconds for model version to finish creation. Model name: Zulrah  + extra features, version 3\n",
      "Created version '3' of model 'Zulrah  + extra features'.\n",
      "/tmp/ipykernel_10868/1537320839.py:20: FutureWarning: ``mlflow.tracking.client.MlflowClient.transition_model_version_stage`` is deprecated since 2.9.0. Model registry stages will be removed in a future major release. To learn more about the deprecation of model registry stages, see our migration guide here: https://mlflow.org/docs/2.12.2/model-registry.html#migrating-from-stages\n",
      "  client.transition_model_version_stage(\n"
     ]
    },
    {
     "name": "stdout",
     "output_type": "stream",
     "text": [
      "Model registered and transitioned to Production; version: 3\n",
      "eb549f9f65684131bc21fe1d2992f547\n"
     ]
    },
    {
     "name": "stderr",
     "output_type": "stream",
     "text": [
      "Registered model 'Zalcano  + extra features' already exists. Creating a new version of this model...\n",
      "2024/05/22 11:22:11 INFO mlflow.store.model_registry.abstract_store: Waiting up to 300 seconds for model version to finish creation. Model name: Zalcano  + extra features, version 3\n",
      "Created version '3' of model 'Zalcano  + extra features'.\n",
      "/tmp/ipykernel_10868/1537320839.py:20: FutureWarning: ``mlflow.tracking.client.MlflowClient.transition_model_version_stage`` is deprecated since 2.9.0. Model registry stages will be removed in a future major release. To learn more about the deprecation of model registry stages, see our migration guide here: https://mlflow.org/docs/2.12.2/model-registry.html#migrating-from-stages\n",
      "  client.transition_model_version_stage(\n"
     ]
    },
    {
     "name": "stdout",
     "output_type": "stream",
     "text": [
      "Model registered and transitioned to Production; version: 3\n",
      "677324049381435db577fbd2398e2360\n"
     ]
    },
    {
     "name": "stderr",
     "output_type": "stream",
     "text": [
      "Registered model 'Wintertodt  + extra features' already exists. Creating a new version of this model...\n",
      "2024/05/22 11:22:11 INFO mlflow.store.model_registry.abstract_store: Waiting up to 300 seconds for model version to finish creation. Model name: Wintertodt  + extra features, version 3\n",
      "Created version '3' of model 'Wintertodt  + extra features'.\n",
      "/tmp/ipykernel_10868/1537320839.py:20: FutureWarning: ``mlflow.tracking.client.MlflowClient.transition_model_version_stage`` is deprecated since 2.9.0. Model registry stages will be removed in a future major release. To learn more about the deprecation of model registry stages, see our migration guide here: https://mlflow.org/docs/2.12.2/model-registry.html#migrating-from-stages\n",
      "  client.transition_model_version_stage(\n"
     ]
    },
    {
     "name": "stdout",
     "output_type": "stream",
     "text": [
      "Model registered and transitioned to Production; version: 3\n",
      "056c62aacedf4a9cb39c22f1e2e65eca\n"
     ]
    },
    {
     "name": "stderr",
     "output_type": "stream",
     "text": [
      "Registered model 'Vorkath  + extra features' already exists. Creating a new version of this model...\n",
      "2024/05/22 11:22:12 INFO mlflow.store.model_registry.abstract_store: Waiting up to 300 seconds for model version to finish creation. Model name: Vorkath  + extra features, version 3\n",
      "Created version '3' of model 'Vorkath  + extra features'.\n",
      "/tmp/ipykernel_10868/1537320839.py:20: FutureWarning: ``mlflow.tracking.client.MlflowClient.transition_model_version_stage`` is deprecated since 2.9.0. Model registry stages will be removed in a future major release. To learn more about the deprecation of model registry stages, see our migration guide here: https://mlflow.org/docs/2.12.2/model-registry.html#migrating-from-stages\n",
      "  client.transition_model_version_stage(\n"
     ]
    },
    {
     "name": "stdout",
     "output_type": "stream",
     "text": [
      "Model registered and transitioned to Production; version: 3\n",
      "85e9dca781f44c6294a059bdaa7bda04\n"
     ]
    },
    {
     "name": "stderr",
     "output_type": "stream",
     "text": [
      "Registered model 'Vet'ion  + extra features' already exists. Creating a new version of this model...\n",
      "2024/05/22 11:22:12 INFO mlflow.store.model_registry.abstract_store: Waiting up to 300 seconds for model version to finish creation. Model name: Vet'ion  + extra features, version 3\n",
      "Created version '3' of model 'Vet'ion  + extra features'.\n",
      "/tmp/ipykernel_10868/1537320839.py:20: FutureWarning: ``mlflow.tracking.client.MlflowClient.transition_model_version_stage`` is deprecated since 2.9.0. Model registry stages will be removed in a future major release. To learn more about the deprecation of model registry stages, see our migration guide here: https://mlflow.org/docs/2.12.2/model-registry.html#migrating-from-stages\n",
      "  client.transition_model_version_stage(\n"
     ]
    },
    {
     "name": "stdout",
     "output_type": "stream",
     "text": [
      "Model registered and transitioned to Production; version: 3\n",
      "fa35438b43404a7d90f337bcd14d652b\n"
     ]
    },
    {
     "name": "stderr",
     "output_type": "stream",
     "text": [
      "Registered model 'Venenatis  + extra features' already exists. Creating a new version of this model...\n",
      "2024/05/22 11:22:13 INFO mlflow.store.model_registry.abstract_store: Waiting up to 300 seconds for model version to finish creation. Model name: Venenatis  + extra features, version 3\n",
      "Created version '3' of model 'Venenatis  + extra features'.\n",
      "/tmp/ipykernel_10868/1537320839.py:20: FutureWarning: ``mlflow.tracking.client.MlflowClient.transition_model_version_stage`` is deprecated since 2.9.0. Model registry stages will be removed in a future major release. To learn more about the deprecation of model registry stages, see our migration guide here: https://mlflow.org/docs/2.12.2/model-registry.html#migrating-from-stages\n",
      "  client.transition_model_version_stage(\n"
     ]
    },
    {
     "name": "stdout",
     "output_type": "stream",
     "text": [
      "Model registered and transitioned to Production; version: 3\n",
      "No data found for experiment ID: 117\n",
      "No data found for experiment ID: 116\n",
      "No data found for experiment ID: 115\n",
      "No data found for experiment ID: 114\n",
      "No data found for experiment ID: 113\n",
      "No data found for experiment ID: 112\n",
      "9460812200b54ae6a82ee77e026a865b\n"
     ]
    },
    {
     "name": "stderr",
     "output_type": "stream",
     "text": [
      "Registered model 'Theatre of Blood: Hard Mode  + extra features' already exists. Creating a new version of this model...\n",
      "2024/05/22 11:22:13 INFO mlflow.store.model_registry.abstract_store: Waiting up to 300 seconds for model version to finish creation. Model name: Theatre of Blood: Hard Mode  + extra features, version 3\n",
      "Created version '3' of model 'Theatre of Blood: Hard Mode  + extra features'.\n",
      "/tmp/ipykernel_10868/1537320839.py:20: FutureWarning: ``mlflow.tracking.client.MlflowClient.transition_model_version_stage`` is deprecated since 2.9.0. Model registry stages will be removed in a future major release. To learn more about the deprecation of model registry stages, see our migration guide here: https://mlflow.org/docs/2.12.2/model-registry.html#migrating-from-stages\n",
      "  client.transition_model_version_stage(\n"
     ]
    },
    {
     "name": "stdout",
     "output_type": "stream",
     "text": [
      "Model registered and transitioned to Production; version: 3\n",
      "f04de6a613d946e3b65a4d7951258a6f\n"
     ]
    },
    {
     "name": "stderr",
     "output_type": "stream",
     "text": [
      "Registered model 'Theatre of Blood  + extra features' already exists. Creating a new version of this model...\n",
      "2024/05/22 11:22:14 INFO mlflow.store.model_registry.abstract_store: Waiting up to 300 seconds for model version to finish creation. Model name: Theatre of Blood  + extra features, version 3\n",
      "Created version '3' of model 'Theatre of Blood  + extra features'.\n",
      "/tmp/ipykernel_10868/1537320839.py:20: FutureWarning: ``mlflow.tracking.client.MlflowClient.transition_model_version_stage`` is deprecated since 2.9.0. Model registry stages will be removed in a future major release. To learn more about the deprecation of model registry stages, see our migration guide here: https://mlflow.org/docs/2.12.2/model-registry.html#migrating-from-stages\n",
      "  client.transition_model_version_stage(\n"
     ]
    },
    {
     "name": "stdout",
     "output_type": "stream",
     "text": [
      "Model registered and transitioned to Production; version: 3\n",
      "No data found for experiment ID: 109\n",
      "No data found for experiment ID: 108\n",
      "No data found for experiment ID: 107\n",
      "No data found for experiment ID: 106\n",
      "3e667521c8a742329cb5a23c32327b25\n"
     ]
    },
    {
     "name": "stderr",
     "output_type": "stream",
     "text": [
      "Registered model 'Tempoross  + extra features' already exists. Creating a new version of this model...\n",
      "2024/05/22 11:22:14 INFO mlflow.store.model_registry.abstract_store: Waiting up to 300 seconds for model version to finish creation. Model name: Tempoross  + extra features, version 3\n",
      "Created version '3' of model 'Tempoross  + extra features'.\n",
      "/tmp/ipykernel_10868/1537320839.py:20: FutureWarning: ``mlflow.tracking.client.MlflowClient.transition_model_version_stage`` is deprecated since 2.9.0. Model registry stages will be removed in a future major release. To learn more about the deprecation of model registry stages, see our migration guide here: https://mlflow.org/docs/2.12.2/model-registry.html#migrating-from-stages\n",
      "  client.transition_model_version_stage(\n"
     ]
    },
    {
     "name": "stdout",
     "output_type": "stream",
     "text": [
      "Model registered and transitioned to Production; version: 3\n",
      "bc43676e9f164bbe8b11461abd7598de\n"
     ]
    },
    {
     "name": "stderr",
     "output_type": "stream",
     "text": [
      "Registered model 'Spindel  + extra features' already exists. Creating a new version of this model...\n",
      "2024/05/22 11:22:15 INFO mlflow.store.model_registry.abstract_store: Waiting up to 300 seconds for model version to finish creation. Model name: Spindel  + extra features, version 3\n",
      "Created version '3' of model 'Spindel  + extra features'.\n",
      "/tmp/ipykernel_10868/1537320839.py:20: FutureWarning: ``mlflow.tracking.client.MlflowClient.transition_model_version_stage`` is deprecated since 2.9.0. Model registry stages will be removed in a future major release. To learn more about the deprecation of model registry stages, see our migration guide here: https://mlflow.org/docs/2.12.2/model-registry.html#migrating-from-stages\n",
      "  client.transition_model_version_stage(\n"
     ]
    },
    {
     "name": "stdout",
     "output_type": "stream",
     "text": [
      "Model registered and transitioned to Production; version: 3\n",
      "137d30776f0b4c57a6648b66b6f19cb0\n"
     ]
    },
    {
     "name": "stderr",
     "output_type": "stream",
     "text": [
      "Registered model 'Skotizo  + extra features' already exists. Creating a new version of this model...\n",
      "2024/05/22 11:22:15 INFO mlflow.store.model_registry.abstract_store: Waiting up to 300 seconds for model version to finish creation. Model name: Skotizo  + extra features, version 3\n",
      "Created version '3' of model 'Skotizo  + extra features'.\n",
      "/tmp/ipykernel_10868/1537320839.py:20: FutureWarning: ``mlflow.tracking.client.MlflowClient.transition_model_version_stage`` is deprecated since 2.9.0. Model registry stages will be removed in a future major release. To learn more about the deprecation of model registry stages, see our migration guide here: https://mlflow.org/docs/2.12.2/model-registry.html#migrating-from-stages\n",
      "  client.transition_model_version_stage(\n"
     ]
    },
    {
     "name": "stdout",
     "output_type": "stream",
     "text": [
      "Model registered and transitioned to Production; version: 3\n",
      "5eaf7af399e146ed9069f2dce2ac0e6f\n"
     ]
    },
    {
     "name": "stderr",
     "output_type": "stream",
     "text": [
      "Registered model 'Scorpia  + extra features' already exists. Creating a new version of this model...\n",
      "2024/05/22 11:22:16 INFO mlflow.store.model_registry.abstract_store: Waiting up to 300 seconds for model version to finish creation. Model name: Scorpia  + extra features, version 3\n",
      "Created version '3' of model 'Scorpia  + extra features'.\n",
      "/tmp/ipykernel_10868/1537320839.py:20: FutureWarning: ``mlflow.tracking.client.MlflowClient.transition_model_version_stage`` is deprecated since 2.9.0. Model registry stages will be removed in a future major release. To learn more about the deprecation of model registry stages, see our migration guide here: https://mlflow.org/docs/2.12.2/model-registry.html#migrating-from-stages\n",
      "  client.transition_model_version_stage(\n"
     ]
    },
    {
     "name": "stdout",
     "output_type": "stream",
     "text": [
      "Model registered and transitioned to Production; version: 3\n",
      "No data found for experiment ID: 101\n",
      "f157ce698a6144abafba4bf542650957\n"
     ]
    },
    {
     "name": "stderr",
     "output_type": "stream",
     "text": [
      "Registered model 'Phantom Muspah  + extra features' already exists. Creating a new version of this model...\n",
      "2024/05/22 11:22:16 INFO mlflow.store.model_registry.abstract_store: Waiting up to 300 seconds for model version to finish creation. Model name: Phantom Muspah  + extra features, version 3\n",
      "Created version '3' of model 'Phantom Muspah  + extra features'.\n",
      "/tmp/ipykernel_10868/1537320839.py:20: FutureWarning: ``mlflow.tracking.client.MlflowClient.transition_model_version_stage`` is deprecated since 2.9.0. Model registry stages will be removed in a future major release. To learn more about the deprecation of model registry stages, see our migration guide here: https://mlflow.org/docs/2.12.2/model-registry.html#migrating-from-stages\n",
      "  client.transition_model_version_stage(\n"
     ]
    },
    {
     "name": "stdout",
     "output_type": "stream",
     "text": [
      "Model registered and transitioned to Production; version: 3\n",
      "No data found for experiment ID: 99\n",
      "baf508df72bd477eafbf9c13e2ff5441\n"
     ]
    },
    {
     "name": "stderr",
     "output_type": "stream",
     "text": [
      "Registered model 'Phosani's Nightmare  + extra features' already exists. Creating a new version of this model...\n",
      "2024/05/22 11:22:17 INFO mlflow.store.model_registry.abstract_store: Waiting up to 300 seconds for model version to finish creation. Model name: Phosani's Nightmare  + extra features, version 3\n",
      "Created version '3' of model 'Phosani's Nightmare  + extra features'.\n",
      "/tmp/ipykernel_10868/1537320839.py:20: FutureWarning: ``mlflow.tracking.client.MlflowClient.transition_model_version_stage`` is deprecated since 2.9.0. Model registry stages will be removed in a future major release. To learn more about the deprecation of model registry stages, see our migration guide here: https://mlflow.org/docs/2.12.2/model-registry.html#migrating-from-stages\n",
      "  client.transition_model_version_stage(\n"
     ]
    },
    {
     "name": "stdout",
     "output_type": "stream",
     "text": [
      "Model registered and transitioned to Production; version: 3\n",
      "3c5d2c158db440d39f3e9850ca3ca8e9\n"
     ]
    },
    {
     "name": "stderr",
     "output_type": "stream",
     "text": [
      "Registered model 'Nightmare  + extra features' already exists. Creating a new version of this model...\n",
      "2024/05/22 11:22:17 INFO mlflow.store.model_registry.abstract_store: Waiting up to 300 seconds for model version to finish creation. Model name: Nightmare  + extra features, version 3\n",
      "Created version '3' of model 'Nightmare  + extra features'.\n",
      "/tmp/ipykernel_10868/1537320839.py:20: FutureWarning: ``mlflow.tracking.client.MlflowClient.transition_model_version_stage`` is deprecated since 2.9.0. Model registry stages will be removed in a future major release. To learn more about the deprecation of model registry stages, see our migration guide here: https://mlflow.org/docs/2.12.2/model-registry.html#migrating-from-stages\n",
      "  client.transition_model_version_stage(\n"
     ]
    },
    {
     "name": "stdout",
     "output_type": "stream",
     "text": [
      "Model registered and transitioned to Production; version: 3\n",
      "87a680b959b1483d9f3a87e19d794db7\n"
     ]
    },
    {
     "name": "stderr",
     "output_type": "stream",
     "text": [
      "Registered model 'Nex  + extra features' already exists. Creating a new version of this model...\n",
      "2024/05/22 11:22:18 INFO mlflow.store.model_registry.abstract_store: Waiting up to 300 seconds for model version to finish creation. Model name: Nex  + extra features, version 3\n",
      "Created version '3' of model 'Nex  + extra features'.\n",
      "/tmp/ipykernel_10868/1537320839.py:20: FutureWarning: ``mlflow.tracking.client.MlflowClient.transition_model_version_stage`` is deprecated since 2.9.0. Model registry stages will be removed in a future major release. To learn more about the deprecation of model registry stages, see our migration guide here: https://mlflow.org/docs/2.12.2/model-registry.html#migrating-from-stages\n",
      "  client.transition_model_version_stage(\n"
     ]
    },
    {
     "name": "stdout",
     "output_type": "stream",
     "text": [
      "Model registered and transitioned to Production; version: 3\n",
      "82a005556e844910916e3ae4cda46231\n"
     ]
    },
    {
     "name": "stderr",
     "output_type": "stream",
     "text": [
      "Registered model 'Mimic  + extra features' already exists. Creating a new version of this model...\n",
      "2024/05/22 11:22:18 INFO mlflow.store.model_registry.abstract_store: Waiting up to 300 seconds for model version to finish creation. Model name: Mimic  + extra features, version 3\n",
      "Created version '3' of model 'Mimic  + extra features'.\n",
      "/tmp/ipykernel_10868/1537320839.py:20: FutureWarning: ``mlflow.tracking.client.MlflowClient.transition_model_version_stage`` is deprecated since 2.9.0. Model registry stages will be removed in a future major release. To learn more about the deprecation of model registry stages, see our migration guide here: https://mlflow.org/docs/2.12.2/model-registry.html#migrating-from-stages\n",
      "  client.transition_model_version_stage(\n"
     ]
    },
    {
     "name": "stdout",
     "output_type": "stream",
     "text": [
      "Model registered and transitioned to Production; version: 3\n",
      "94ecae11dc4f4bedb47b94b6f08e63e8\n"
     ]
    },
    {
     "name": "stderr",
     "output_type": "stream",
     "text": [
      "Registered model 'K'ril Tsutsaroth  + extra features' already exists. Creating a new version of this model...\n",
      "2024/05/22 11:22:19 INFO mlflow.store.model_registry.abstract_store: Waiting up to 300 seconds for model version to finish creation. Model name: K'ril Tsutsaroth  + extra features, version 3\n",
      "Created version '3' of model 'K'ril Tsutsaroth  + extra features'.\n",
      "/tmp/ipykernel_10868/1537320839.py:20: FutureWarning: ``mlflow.tracking.client.MlflowClient.transition_model_version_stage`` is deprecated since 2.9.0. Model registry stages will be removed in a future major release. To learn more about the deprecation of model registry stages, see our migration guide here: https://mlflow.org/docs/2.12.2/model-registry.html#migrating-from-stages\n",
      "  client.transition_model_version_stage(\n"
     ]
    },
    {
     "name": "stdout",
     "output_type": "stream",
     "text": [
      "Model registered and transitioned to Production; version: 3\n",
      "5ba72e781b5a494285c154cdaa9596f5\n"
     ]
    },
    {
     "name": "stderr",
     "output_type": "stream",
     "text": [
      "Registered model 'Kree'Arra  + extra features' already exists. Creating a new version of this model...\n",
      "2024/05/22 11:22:19 INFO mlflow.store.model_registry.abstract_store: Waiting up to 300 seconds for model version to finish creation. Model name: Kree'Arra  + extra features, version 3\n",
      "Created version '3' of model 'Kree'Arra  + extra features'.\n",
      "/tmp/ipykernel_10868/1537320839.py:20: FutureWarning: ``mlflow.tracking.client.MlflowClient.transition_model_version_stage`` is deprecated since 2.9.0. Model registry stages will be removed in a future major release. To learn more about the deprecation of model registry stages, see our migration guide here: https://mlflow.org/docs/2.12.2/model-registry.html#migrating-from-stages\n",
      "  client.transition_model_version_stage(\n"
     ]
    },
    {
     "name": "stdout",
     "output_type": "stream",
     "text": [
      "Model registered and transitioned to Production; version: 3\n",
      "No data found for experiment ID: 92\n",
      "4b1232f5181e435db67a1dee472688a8\n"
     ]
    },
    {
     "name": "stderr",
     "output_type": "stream",
     "text": [
      "Registered model 'King Black Dragon  + extra features' already exists. Creating a new version of this model...\n",
      "2024/05/22 11:22:20 INFO mlflow.store.model_registry.abstract_store: Waiting up to 300 seconds for model version to finish creation. Model name: King Black Dragon  + extra features, version 3\n",
      "Created version '3' of model 'King Black Dragon  + extra features'.\n",
      "/tmp/ipykernel_10868/1537320839.py:20: FutureWarning: ``mlflow.tracking.client.MlflowClient.transition_model_version_stage`` is deprecated since 2.9.0. Model registry stages will be removed in a future major release. To learn more about the deprecation of model registry stages, see our migration guide here: https://mlflow.org/docs/2.12.2/model-registry.html#migrating-from-stages\n",
      "  client.transition_model_version_stage(\n"
     ]
    },
    {
     "name": "stdout",
     "output_type": "stream",
     "text": [
      "Model registered and transitioned to Production; version: 3\n",
      "bff30ab28f6b4355a271cdcfe1982ec6\n"
     ]
    },
    {
     "name": "stderr",
     "output_type": "stream",
     "text": [
      "Registered model 'Kalphite Queen  + extra features' already exists. Creating a new version of this model...\n",
      "2024/05/22 11:22:20 INFO mlflow.store.model_registry.abstract_store: Waiting up to 300 seconds for model version to finish creation. Model name: Kalphite Queen  + extra features, version 3\n",
      "Created version '3' of model 'Kalphite Queen  + extra features'.\n",
      "/tmp/ipykernel_10868/1537320839.py:20: FutureWarning: ``mlflow.tracking.client.MlflowClient.transition_model_version_stage`` is deprecated since 2.9.0. Model registry stages will be removed in a future major release. To learn more about the deprecation of model registry stages, see our migration guide here: https://mlflow.org/docs/2.12.2/model-registry.html#migrating-from-stages\n",
      "  client.transition_model_version_stage(\n"
     ]
    },
    {
     "name": "stdout",
     "output_type": "stream",
     "text": [
      "Model registered and transitioned to Production; version: 3\n",
      "0dda75d3c8ec4a3daebf84f53bcce9f8\n"
     ]
    },
    {
     "name": "stderr",
     "output_type": "stream",
     "text": [
      "Registered model 'Hespori  + extra features' already exists. Creating a new version of this model...\n",
      "2024/05/22 11:22:21 INFO mlflow.store.model_registry.abstract_store: Waiting up to 300 seconds for model version to finish creation. Model name: Hespori  + extra features, version 3\n",
      "Created version '3' of model 'Hespori  + extra features'.\n",
      "/tmp/ipykernel_10868/1537320839.py:20: FutureWarning: ``mlflow.tracking.client.MlflowClient.transition_model_version_stage`` is deprecated since 2.9.0. Model registry stages will be removed in a future major release. To learn more about the deprecation of model registry stages, see our migration guide here: https://mlflow.org/docs/2.12.2/model-registry.html#migrating-from-stages\n",
      "  client.transition_model_version_stage(\n"
     ]
    },
    {
     "name": "stdout",
     "output_type": "stream",
     "text": [
      "Model registered and transitioned to Production; version: 3\n",
      "No data found for experiment ID: 88\n",
      "f8481ee50e6a471aa8e0c2189e3d6266\n"
     ]
    },
    {
     "name": "stderr",
     "output_type": "stream",
     "text": [
      "Registered model 'Giant Mole  + extra features' already exists. Creating a new version of this model...\n",
      "2024/05/22 11:22:21 INFO mlflow.store.model_registry.abstract_store: Waiting up to 300 seconds for model version to finish creation. Model name: Giant Mole  + extra features, version 3\n",
      "Created version '3' of model 'Giant Mole  + extra features'.\n",
      "/tmp/ipykernel_10868/1537320839.py:20: FutureWarning: ``mlflow.tracking.client.MlflowClient.transition_model_version_stage`` is deprecated since 2.9.0. Model registry stages will be removed in a future major release. To learn more about the deprecation of model registry stages, see our migration guide here: https://mlflow.org/docs/2.12.2/model-registry.html#migrating-from-stages\n",
      "  client.transition_model_version_stage(\n"
     ]
    },
    {
     "name": "stdout",
     "output_type": "stream",
     "text": [
      "Model registered and transitioned to Production; version: 3\n",
      "d488ba7a2c4b4217829f2b1ed2241db7\n"
     ]
    },
    {
     "name": "stderr",
     "output_type": "stream",
     "text": [
      "Registered model 'General Graardor  + extra features' already exists. Creating a new version of this model...\n",
      "2024/05/22 11:22:22 INFO mlflow.store.model_registry.abstract_store: Waiting up to 300 seconds for model version to finish creation. Model name: General Graardor  + extra features, version 3\n",
      "Created version '3' of model 'General Graardor  + extra features'.\n",
      "/tmp/ipykernel_10868/1537320839.py:20: FutureWarning: ``mlflow.tracking.client.MlflowClient.transition_model_version_stage`` is deprecated since 2.9.0. Model registry stages will be removed in a future major release. To learn more about the deprecation of model registry stages, see our migration guide here: https://mlflow.org/docs/2.12.2/model-registry.html#migrating-from-stages\n",
      "  client.transition_model_version_stage(\n"
     ]
    },
    {
     "name": "stdout",
     "output_type": "stream",
     "text": [
      "Model registered and transitioned to Production; version: 3\n",
      "107d177d9aae4149823485c5a1748cc1\n"
     ]
    },
    {
     "name": "stderr",
     "output_type": "stream",
     "text": [
      "Registered model 'Duke Sucellus  + extra features' already exists. Creating a new version of this model...\n",
      "2024/05/22 11:22:22 INFO mlflow.store.model_registry.abstract_store: Waiting up to 300 seconds for model version to finish creation. Model name: Duke Sucellus  + extra features, version 3\n",
      "Created version '3' of model 'Duke Sucellus  + extra features'.\n",
      "/tmp/ipykernel_10868/1537320839.py:20: FutureWarning: ``mlflow.tracking.client.MlflowClient.transition_model_version_stage`` is deprecated since 2.9.0. Model registry stages will be removed in a future major release. To learn more about the deprecation of model registry stages, see our migration guide here: https://mlflow.org/docs/2.12.2/model-registry.html#migrating-from-stages\n",
      "  client.transition_model_version_stage(\n"
     ]
    },
    {
     "name": "stdout",
     "output_type": "stream",
     "text": [
      "Model registered and transitioned to Production; version: 3\n",
      "0914132504774c35a14b9c95b64a870c\n"
     ]
    },
    {
     "name": "stderr",
     "output_type": "stream",
     "text": [
      "Registered model 'Deranged Archaeologist  + extra features' already exists. Creating a new version of this model...\n",
      "2024/05/22 11:22:23 INFO mlflow.store.model_registry.abstract_store: Waiting up to 300 seconds for model version to finish creation. Model name: Deranged Archaeologist  + extra features, version 3\n",
      "Created version '3' of model 'Deranged Archaeologist  + extra features'.\n",
      "/tmp/ipykernel_10868/1537320839.py:20: FutureWarning: ``mlflow.tracking.client.MlflowClient.transition_model_version_stage`` is deprecated since 2.9.0. Model registry stages will be removed in a future major release. To learn more about the deprecation of model registry stages, see our migration guide here: https://mlflow.org/docs/2.12.2/model-registry.html#migrating-from-stages\n",
      "  client.transition_model_version_stage(\n"
     ]
    },
    {
     "name": "stdout",
     "output_type": "stream",
     "text": [
      "Model registered and transitioned to Production; version: 3\n",
      "13745277373a4efca61c046a01735a18\n"
     ]
    },
    {
     "name": "stderr",
     "output_type": "stream",
     "text": [
      "Registered model 'Dagannoth Supreme  + extra features' already exists. Creating a new version of this model...\n",
      "2024/05/22 11:22:23 INFO mlflow.store.model_registry.abstract_store: Waiting up to 300 seconds for model version to finish creation. Model name: Dagannoth Supreme  + extra features, version 3\n",
      "Created version '3' of model 'Dagannoth Supreme  + extra features'.\n",
      "/tmp/ipykernel_10868/1537320839.py:20: FutureWarning: ``mlflow.tracking.client.MlflowClient.transition_model_version_stage`` is deprecated since 2.9.0. Model registry stages will be removed in a future major release. To learn more about the deprecation of model registry stages, see our migration guide here: https://mlflow.org/docs/2.12.2/model-registry.html#migrating-from-stages\n",
      "  client.transition_model_version_stage(\n"
     ]
    },
    {
     "name": "stdout",
     "output_type": "stream",
     "text": [
      "Model registered and transitioned to Production; version: 3\n",
      "aa8796202cb8498ba31ea63e411e677d\n"
     ]
    },
    {
     "name": "stderr",
     "output_type": "stream",
     "text": [
      "Registered model 'Dagannoth Rex  + extra features' already exists. Creating a new version of this model...\n",
      "2024/05/22 11:22:24 INFO mlflow.store.model_registry.abstract_store: Waiting up to 300 seconds for model version to finish creation. Model name: Dagannoth Rex  + extra features, version 3\n",
      "Created version '3' of model 'Dagannoth Rex  + extra features'.\n",
      "/tmp/ipykernel_10868/1537320839.py:20: FutureWarning: ``mlflow.tracking.client.MlflowClient.transition_model_version_stage`` is deprecated since 2.9.0. Model registry stages will be removed in a future major release. To learn more about the deprecation of model registry stages, see our migration guide here: https://mlflow.org/docs/2.12.2/model-registry.html#migrating-from-stages\n",
      "  client.transition_model_version_stage(\n"
     ]
    },
    {
     "name": "stdout",
     "output_type": "stream",
     "text": [
      "Model registered and transitioned to Production; version: 3\n",
      "dd9eb7bd2b554e39a34d2e5c024fa76e\n"
     ]
    },
    {
     "name": "stderr",
     "output_type": "stream",
     "text": [
      "Registered model 'Dagannoth Prime  + extra features' already exists. Creating a new version of this model...\n",
      "2024/05/22 11:22:24 INFO mlflow.store.model_registry.abstract_store: Waiting up to 300 seconds for model version to finish creation. Model name: Dagannoth Prime  + extra features, version 3\n",
      "Created version '3' of model 'Dagannoth Prime  + extra features'.\n",
      "/tmp/ipykernel_10868/1537320839.py:20: FutureWarning: ``mlflow.tracking.client.MlflowClient.transition_model_version_stage`` is deprecated since 2.9.0. Model registry stages will be removed in a future major release. To learn more about the deprecation of model registry stages, see our migration guide here: https://mlflow.org/docs/2.12.2/model-registry.html#migrating-from-stages\n",
      "  client.transition_model_version_stage(\n"
     ]
    },
    {
     "name": "stdout",
     "output_type": "stream",
     "text": [
      "Model registered and transitioned to Production; version: 3\n",
      "b4df24ca07ed4c6eb5da9b8e38861e58\n"
     ]
    },
    {
     "name": "stderr",
     "output_type": "stream",
     "text": [
      "Registered model 'Crazy Archaeologist  + extra features' already exists. Creating a new version of this model...\n",
      "2024/05/22 11:22:25 INFO mlflow.store.model_registry.abstract_store: Waiting up to 300 seconds for model version to finish creation. Model name: Crazy Archaeologist  + extra features, version 3\n",
      "Created version '3' of model 'Crazy Archaeologist  + extra features'.\n",
      "/tmp/ipykernel_10868/1537320839.py:20: FutureWarning: ``mlflow.tracking.client.MlflowClient.transition_model_version_stage`` is deprecated since 2.9.0. Model registry stages will be removed in a future major release. To learn more about the deprecation of model registry stages, see our migration guide here: https://mlflow.org/docs/2.12.2/model-registry.html#migrating-from-stages\n",
      "  client.transition_model_version_stage(\n"
     ]
    },
    {
     "name": "stdout",
     "output_type": "stream",
     "text": [
      "Model registered and transitioned to Production; version: 3\n",
      "15be28d818e34e6ea58d888e2c5fc9bc\n"
     ]
    },
    {
     "name": "stderr",
     "output_type": "stream",
     "text": [
      "Registered model 'Corporeal Beast  + extra features' already exists. Creating a new version of this model...\n",
      "2024/05/22 11:22:25 INFO mlflow.store.model_registry.abstract_store: Waiting up to 300 seconds for model version to finish creation. Model name: Corporeal Beast  + extra features, version 3\n",
      "Created version '3' of model 'Corporeal Beast  + extra features'.\n",
      "/tmp/ipykernel_10868/1537320839.py:20: FutureWarning: ``mlflow.tracking.client.MlflowClient.transition_model_version_stage`` is deprecated since 2.9.0. Model registry stages will be removed in a future major release. To learn more about the deprecation of model registry stages, see our migration guide here: https://mlflow.org/docs/2.12.2/model-registry.html#migrating-from-stages\n",
      "  client.transition_model_version_stage(\n"
     ]
    },
    {
     "name": "stdout",
     "output_type": "stream",
     "text": [
      "Model registered and transitioned to Production; version: 3\n",
      "748bcf6416ee4575b7b91b58a37cd103\n"
     ]
    },
    {
     "name": "stderr",
     "output_type": "stream",
     "text": [
      "Registered model 'Commander Zilyana  + extra features' already exists. Creating a new version of this model...\n",
      "2024/05/22 11:22:26 INFO mlflow.store.model_registry.abstract_store: Waiting up to 300 seconds for model version to finish creation. Model name: Commander Zilyana  + extra features, version 3\n",
      "Created version '3' of model 'Commander Zilyana  + extra features'.\n",
      "/tmp/ipykernel_10868/1537320839.py:20: FutureWarning: ``mlflow.tracking.client.MlflowClient.transition_model_version_stage`` is deprecated since 2.9.0. Model registry stages will be removed in a future major release. To learn more about the deprecation of model registry stages, see our migration guide here: https://mlflow.org/docs/2.12.2/model-registry.html#migrating-from-stages\n",
      "  client.transition_model_version_stage(\n"
     ]
    },
    {
     "name": "stdout",
     "output_type": "stream",
     "text": [
      "Model registered and transitioned to Production; version: 3\n",
      "f5ea96c0efce4317ba2ad00ed63c55e9\n"
     ]
    },
    {
     "name": "stderr",
     "output_type": "stream",
     "text": [
      "Registered model 'Chaos Fanatic  + extra features' already exists. Creating a new version of this model...\n",
      "2024/05/22 11:22:26 INFO mlflow.store.model_registry.abstract_store: Waiting up to 300 seconds for model version to finish creation. Model name: Chaos Fanatic  + extra features, version 3\n",
      "Created version '3' of model 'Chaos Fanatic  + extra features'.\n",
      "/tmp/ipykernel_10868/1537320839.py:20: FutureWarning: ``mlflow.tracking.client.MlflowClient.transition_model_version_stage`` is deprecated since 2.9.0. Model registry stages will be removed in a future major release. To learn more about the deprecation of model registry stages, see our migration guide here: https://mlflow.org/docs/2.12.2/model-registry.html#migrating-from-stages\n",
      "  client.transition_model_version_stage(\n"
     ]
    },
    {
     "name": "stdout",
     "output_type": "stream",
     "text": [
      "Model registered and transitioned to Production; version: 3\n",
      "5b44db8d46d94d2ba7f4ccd232de6858\n"
     ]
    },
    {
     "name": "stderr",
     "output_type": "stream",
     "text": [
      "Registered model 'Chaos Elemental  + extra features' already exists. Creating a new version of this model...\n",
      "2024/05/22 11:22:27 INFO mlflow.store.model_registry.abstract_store: Waiting up to 300 seconds for model version to finish creation. Model name: Chaos Elemental  + extra features, version 3\n",
      "Created version '3' of model 'Chaos Elemental  + extra features'.\n",
      "/tmp/ipykernel_10868/1537320839.py:20: FutureWarning: ``mlflow.tracking.client.MlflowClient.transition_model_version_stage`` is deprecated since 2.9.0. Model registry stages will be removed in a future major release. To learn more about the deprecation of model registry stages, see our migration guide here: https://mlflow.org/docs/2.12.2/model-registry.html#migrating-from-stages\n",
      "  client.transition_model_version_stage(\n"
     ]
    },
    {
     "name": "stdout",
     "output_type": "stream",
     "text": [
      "Model registered and transitioned to Production; version: 3\n",
      "c4f0c0a595744ad2a6cf2a4cd29d5bc5\n"
     ]
    },
    {
     "name": "stderr",
     "output_type": "stream",
     "text": [
      "Registered model 'Chambers of Xeric: Challenge Mode  + extra features' already exists. Creating a new version of this model...\n",
      "2024/05/22 11:22:27 INFO mlflow.store.model_registry.abstract_store: Waiting up to 300 seconds for model version to finish creation. Model name: Chambers of Xeric: Challenge Mode  + extra features, version 3\n",
      "Created version '3' of model 'Chambers of Xeric: Challenge Mode  + extra features'.\n",
      "/tmp/ipykernel_10868/1537320839.py:20: FutureWarning: ``mlflow.tracking.client.MlflowClient.transition_model_version_stage`` is deprecated since 2.9.0. Model registry stages will be removed in a future major release. To learn more about the deprecation of model registry stages, see our migration guide here: https://mlflow.org/docs/2.12.2/model-registry.html#migrating-from-stages\n",
      "  client.transition_model_version_stage(\n"
     ]
    },
    {
     "name": "stdout",
     "output_type": "stream",
     "text": [
      "Model registered and transitioned to Production; version: 3\n",
      "f7528e88c4a54e2cb8df038cdb882ece\n"
     ]
    },
    {
     "name": "stderr",
     "output_type": "stream",
     "text": [
      "Registered model 'Chambers of Xeric  + extra features' already exists. Creating a new version of this model...\n",
      "2024/05/22 11:22:28 INFO mlflow.store.model_registry.abstract_store: Waiting up to 300 seconds for model version to finish creation. Model name: Chambers of Xeric  + extra features, version 3\n",
      "Created version '3' of model 'Chambers of Xeric  + extra features'.\n",
      "/tmp/ipykernel_10868/1537320839.py:20: FutureWarning: ``mlflow.tracking.client.MlflowClient.transition_model_version_stage`` is deprecated since 2.9.0. Model registry stages will be removed in a future major release. To learn more about the deprecation of model registry stages, see our migration guide here: https://mlflow.org/docs/2.12.2/model-registry.html#migrating-from-stages\n",
      "  client.transition_model_version_stage(\n"
     ]
    },
    {
     "name": "stdout",
     "output_type": "stream",
     "text": [
      "Model registered and transitioned to Production; version: 3\n",
      "No data found for experiment ID: 73\n",
      "ec4de67aedb04bbc9a0b348d90687a49\n"
     ]
    },
    {
     "name": "stderr",
     "output_type": "stream",
     "text": [
      "Registered model 'Calvar'ion  + extra features' already exists. Creating a new version of this model...\n",
      "2024/05/22 11:22:28 INFO mlflow.store.model_registry.abstract_store: Waiting up to 300 seconds for model version to finish creation. Model name: Calvar'ion  + extra features, version 3\n",
      "Created version '3' of model 'Calvar'ion  + extra features'.\n",
      "/tmp/ipykernel_10868/1537320839.py:20: FutureWarning: ``mlflow.tracking.client.MlflowClient.transition_model_version_stage`` is deprecated since 2.9.0. Model registry stages will be removed in a future major release. To learn more about the deprecation of model registry stages, see our migration guide here: https://mlflow.org/docs/2.12.2/model-registry.html#migrating-from-stages\n",
      "  client.transition_model_version_stage(\n"
     ]
    },
    {
     "name": "stdout",
     "output_type": "stream",
     "text": [
      "Model registered and transitioned to Production; version: 3\n",
      "8f3c1fa0a62c4ace88eb9868d0017f36\n"
     ]
    },
    {
     "name": "stderr",
     "output_type": "stream",
     "text": [
      "Registered model 'Callisto  + extra features' already exists. Creating a new version of this model...\n",
      "2024/05/22 11:22:29 INFO mlflow.store.model_registry.abstract_store: Waiting up to 300 seconds for model version to finish creation. Model name: Callisto  + extra features, version 3\n",
      "Created version '3' of model 'Callisto  + extra features'.\n",
      "/tmp/ipykernel_10868/1537320839.py:20: FutureWarning: ``mlflow.tracking.client.MlflowClient.transition_model_version_stage`` is deprecated since 2.9.0. Model registry stages will be removed in a future major release. To learn more about the deprecation of model registry stages, see our migration guide here: https://mlflow.org/docs/2.12.2/model-registry.html#migrating-from-stages\n",
      "  client.transition_model_version_stage(\n"
     ]
    },
    {
     "name": "stdout",
     "output_type": "stream",
     "text": [
      "Model registered and transitioned to Production; version: 3\n",
      "No data found for experiment ID: 70\n",
      "b20be16e4e4249229dd6b56b26fbe4f2\n"
     ]
    },
    {
     "name": "stderr",
     "output_type": "stream",
     "text": [
      "Registered model 'Barrows Chests  + extra features' already exists. Creating a new version of this model...\n",
      "2024/05/22 11:22:29 INFO mlflow.store.model_registry.abstract_store: Waiting up to 300 seconds for model version to finish creation. Model name: Barrows Chests  + extra features, version 3\n",
      "Created version '3' of model 'Barrows Chests  + extra features'.\n",
      "/tmp/ipykernel_10868/1537320839.py:20: FutureWarning: ``mlflow.tracking.client.MlflowClient.transition_model_version_stage`` is deprecated since 2.9.0. Model registry stages will be removed in a future major release. To learn more about the deprecation of model registry stages, see our migration guide here: https://mlflow.org/docs/2.12.2/model-registry.html#migrating-from-stages\n",
      "  client.transition_model_version_stage(\n"
     ]
    },
    {
     "name": "stdout",
     "output_type": "stream",
     "text": [
      "Model registered and transitioned to Production; version: 3\n",
      "2ecb8a0db4524552aafb9b4e233fb516\n"
     ]
    },
    {
     "name": "stderr",
     "output_type": "stream",
     "text": [
      "Registered model 'Artio  + extra features' already exists. Creating a new version of this model...\n",
      "2024/05/22 11:22:30 INFO mlflow.store.model_registry.abstract_store: Waiting up to 300 seconds for model version to finish creation. Model name: Artio  + extra features, version 3\n",
      "Created version '3' of model 'Artio  + extra features'.\n",
      "/tmp/ipykernel_10868/1537320839.py:20: FutureWarning: ``mlflow.tracking.client.MlflowClient.transition_model_version_stage`` is deprecated since 2.9.0. Model registry stages will be removed in a future major release. To learn more about the deprecation of model registry stages, see our migration guide here: https://mlflow.org/docs/2.12.2/model-registry.html#migrating-from-stages\n",
      "  client.transition_model_version_stage(\n"
     ]
    },
    {
     "name": "stdout",
     "output_type": "stream",
     "text": [
      "Model registered and transitioned to Production; version: 3\n",
      "No data found for experiment ID: 67\n",
      "No data found for experiment ID: 66\n",
      "59e0e454703f4b65bbce488b2fbb99bf\n"
     ]
    },
    {
     "name": "stderr",
     "output_type": "stream",
     "text": [
      "Registered model 'Rifts closed  + extra features' already exists. Creating a new version of this model...\n",
      "2024/05/22 11:22:30 INFO mlflow.store.model_registry.abstract_store: Waiting up to 300 seconds for model version to finish creation. Model name: Rifts closed  + extra features, version 3\n",
      "Created version '3' of model 'Rifts closed  + extra features'.\n",
      "/tmp/ipykernel_10868/1537320839.py:20: FutureWarning: ``mlflow.tracking.client.MlflowClient.transition_model_version_stage`` is deprecated since 2.9.0. Model registry stages will be removed in a future major release. To learn more about the deprecation of model registry stages, see our migration guide here: https://mlflow.org/docs/2.12.2/model-registry.html#migrating-from-stages\n",
      "  client.transition_model_version_stage(\n"
     ]
    },
    {
     "name": "stdout",
     "output_type": "stream",
     "text": [
      "Model registered and transitioned to Production; version: 3\n",
      "dd9ecc0ff16a4764a64aa3d351cf5bed\n"
     ]
    },
    {
     "name": "stderr",
     "output_type": "stream",
     "text": [
      "Registered model 'Soul Wars Zeal  + extra features' already exists. Creating a new version of this model...\n",
      "2024/05/22 11:22:31 INFO mlflow.store.model_registry.abstract_store: Waiting up to 300 seconds for model version to finish creation. Model name: Soul Wars Zeal  + extra features, version 3\n",
      "Created version '3' of model 'Soul Wars Zeal  + extra features'.\n",
      "/tmp/ipykernel_10868/1537320839.py:20: FutureWarning: ``mlflow.tracking.client.MlflowClient.transition_model_version_stage`` is deprecated since 2.9.0. Model registry stages will be removed in a future major release. To learn more about the deprecation of model registry stages, see our migration guide here: https://mlflow.org/docs/2.12.2/model-registry.html#migrating-from-stages\n",
      "  client.transition_model_version_stage(\n"
     ]
    },
    {
     "name": "stdout",
     "output_type": "stream",
     "text": [
      "Model registered and transitioned to Production; version: 3\n",
      "No data found for experiment ID: 63\n",
      "No data found for experiment ID: 62\n",
      "No data found for experiment ID: 61\n",
      "b4eaa7bef65b4ffd9ab2e869efe9b5c6\n"
     ]
    },
    {
     "name": "stderr",
     "output_type": "stream",
     "text": [
      "Registered model 'Clue Scrolls (elite)  + extra features' already exists. Creating a new version of this model...\n",
      "2024/05/22 11:22:31 INFO mlflow.store.model_registry.abstract_store: Waiting up to 300 seconds for model version to finish creation. Model name: Clue Scrolls (elite)  + extra features, version 3\n",
      "Created version '3' of model 'Clue Scrolls (elite)  + extra features'.\n",
      "/tmp/ipykernel_10868/1537320839.py:20: FutureWarning: ``mlflow.tracking.client.MlflowClient.transition_model_version_stage`` is deprecated since 2.9.0. Model registry stages will be removed in a future major release. To learn more about the deprecation of model registry stages, see our migration guide here: https://mlflow.org/docs/2.12.2/model-registry.html#migrating-from-stages\n",
      "  client.transition_model_version_stage(\n"
     ]
    },
    {
     "name": "stdout",
     "output_type": "stream",
     "text": [
      "Model registered and transitioned to Production; version: 3\n",
      "7b6d308ed05249eba1e3610f6ef4fa5f\n"
     ]
    },
    {
     "name": "stderr",
     "output_type": "stream",
     "text": [
      "Registered model 'Clue Scrolls (hard)  + extra features' already exists. Creating a new version of this model...\n",
      "2024/05/22 11:22:32 INFO mlflow.store.model_registry.abstract_store: Waiting up to 300 seconds for model version to finish creation. Model name: Clue Scrolls (hard)  + extra features, version 3\n",
      "Created version '3' of model 'Clue Scrolls (hard)  + extra features'.\n",
      "/tmp/ipykernel_10868/1537320839.py:20: FutureWarning: ``mlflow.tracking.client.MlflowClient.transition_model_version_stage`` is deprecated since 2.9.0. Model registry stages will be removed in a future major release. To learn more about the deprecation of model registry stages, see our migration guide here: https://mlflow.org/docs/2.12.2/model-registry.html#migrating-from-stages\n",
      "  client.transition_model_version_stage(\n"
     ]
    },
    {
     "name": "stdout",
     "output_type": "stream",
     "text": [
      "Model registered and transitioned to Production; version: 3\n",
      "d54ef88e89f54a2ab2e48296ecef9cb0\n"
     ]
    },
    {
     "name": "stderr",
     "output_type": "stream",
     "text": [
      "Registered model 'Clue Scrolls (medium)  + extra features' already exists. Creating a new version of this model...\n",
      "2024/05/22 11:22:32 INFO mlflow.store.model_registry.abstract_store: Waiting up to 300 seconds for model version to finish creation. Model name: Clue Scrolls (medium)  + extra features, version 3\n",
      "Created version '3' of model 'Clue Scrolls (medium)  + extra features'.\n",
      "/tmp/ipykernel_10868/1537320839.py:20: FutureWarning: ``mlflow.tracking.client.MlflowClient.transition_model_version_stage`` is deprecated since 2.9.0. Model registry stages will be removed in a future major release. To learn more about the deprecation of model registry stages, see our migration guide here: https://mlflow.org/docs/2.12.2/model-registry.html#migrating-from-stages\n",
      "  client.transition_model_version_stage(\n"
     ]
    },
    {
     "name": "stdout",
     "output_type": "stream",
     "text": [
      "Model registered and transitioned to Production; version: 3\n",
      "1627d970ef8e4d968e95d25700d26729\n"
     ]
    },
    {
     "name": "stderr",
     "output_type": "stream",
     "text": [
      "Registered model 'Clue Scrolls (easy)  + extra features' already exists. Creating a new version of this model...\n",
      "2024/05/22 11:22:33 INFO mlflow.store.model_registry.abstract_store: Waiting up to 300 seconds for model version to finish creation. Model name: Clue Scrolls (easy)  + extra features, version 3\n",
      "Created version '3' of model 'Clue Scrolls (easy)  + extra features'.\n",
      "/tmp/ipykernel_10868/1537320839.py:20: FutureWarning: ``mlflow.tracking.client.MlflowClient.transition_model_version_stage`` is deprecated since 2.9.0. Model registry stages will be removed in a future major release. To learn more about the deprecation of model registry stages, see our migration guide here: https://mlflow.org/docs/2.12.2/model-registry.html#migrating-from-stages\n",
      "  client.transition_model_version_stage(\n"
     ]
    },
    {
     "name": "stdout",
     "output_type": "stream",
     "text": [
      "Model registered and transitioned to Production; version: 3\n",
      "7cc5a96e4392499780708ddfe9f6ae90\n"
     ]
    },
    {
     "name": "stderr",
     "output_type": "stream",
     "text": [
      "Registered model 'Clue Scrolls (beginner)  + extra features' already exists. Creating a new version of this model...\n",
      "2024/05/22 11:22:33 INFO mlflow.store.model_registry.abstract_store: Waiting up to 300 seconds for model version to finish creation. Model name: Clue Scrolls (beginner)  + extra features, version 3\n",
      "Created version '3' of model 'Clue Scrolls (beginner)  + extra features'.\n",
      "/tmp/ipykernel_10868/1537320839.py:20: FutureWarning: ``mlflow.tracking.client.MlflowClient.transition_model_version_stage`` is deprecated since 2.9.0. Model registry stages will be removed in a future major release. To learn more about the deprecation of model registry stages, see our migration guide here: https://mlflow.org/docs/2.12.2/model-registry.html#migrating-from-stages\n",
      "  client.transition_model_version_stage(\n"
     ]
    },
    {
     "name": "stdout",
     "output_type": "stream",
     "text": [
      "Model registered and transitioned to Production; version: 3\n",
      "c66a4c238bbb4fae91af8b7704d0f66e\n"
     ]
    },
    {
     "name": "stderr",
     "output_type": "stream",
     "text": [
      "Registered model 'Clue Scrolls (all)  + extra features' already exists. Creating a new version of this model...\n",
      "2024/05/22 11:22:34 INFO mlflow.store.model_registry.abstract_store: Waiting up to 300 seconds for model version to finish creation. Model name: Clue Scrolls (all)  + extra features, version 3\n",
      "Created version '3' of model 'Clue Scrolls (all)  + extra features'.\n",
      "/tmp/ipykernel_10868/1537320839.py:20: FutureWarning: ``mlflow.tracking.client.MlflowClient.transition_model_version_stage`` is deprecated since 2.9.0. Model registry stages will be removed in a future major release. To learn more about the deprecation of model registry stages, see our migration guide here: https://mlflow.org/docs/2.12.2/model-registry.html#migrating-from-stages\n",
      "  client.transition_model_version_stage(\n"
     ]
    },
    {
     "name": "stdout",
     "output_type": "stream",
     "text": [
      "Model registered and transitioned to Production; version: 3\n",
      "No data found for experiment ID: 54\n",
      "62d9014aadca4ed6adb9072037d29f1c\n"
     ]
    },
    {
     "name": "stderr",
     "output_type": "stream",
     "text": [
      "Registered model 'Bounty Hunter - Rogue  + extra features' already exists. Creating a new version of this model...\n",
      "2024/05/22 11:22:35 INFO mlflow.store.model_registry.abstract_store: Waiting up to 300 seconds for model version to finish creation. Model name: Bounty Hunter - Rogue  + extra features, version 3\n",
      "Created version '3' of model 'Bounty Hunter - Rogue  + extra features'.\n",
      "/tmp/ipykernel_10868/1537320839.py:20: FutureWarning: ``mlflow.tracking.client.MlflowClient.transition_model_version_stage`` is deprecated since 2.9.0. Model registry stages will be removed in a future major release. To learn more about the deprecation of model registry stages, see our migration guide here: https://mlflow.org/docs/2.12.2/model-registry.html#migrating-from-stages\n",
      "  client.transition_model_version_stage(\n"
     ]
    },
    {
     "name": "stdout",
     "output_type": "stream",
     "text": [
      "Model registered and transitioned to Production; version: 3\n",
      "00130a61f33b4f9881c02c741db98452\n"
     ]
    },
    {
     "name": "stderr",
     "output_type": "stream",
     "text": [
      "Registered model 'Bounty Hunter - Hunter  + extra features' already exists. Creating a new version of this model...\n",
      "2024/05/22 11:22:35 INFO mlflow.store.model_registry.abstract_store: Waiting up to 300 seconds for model version to finish creation. Model name: Bounty Hunter - Hunter  + extra features, version 3\n"
     ]
    },
    {
     "name": "stdout",
     "output_type": "stream",
     "text": [
      "Model registered and transitioned to Production; version: 3\n"
     ]
    },
    {
     "name": "stderr",
     "output_type": "stream",
     "text": [
      "Created version '3' of model 'Bounty Hunter - Hunter  + extra features'.\n",
      "/tmp/ipykernel_10868/1537320839.py:20: FutureWarning: ``mlflow.tracking.client.MlflowClient.transition_model_version_stage`` is deprecated since 2.9.0. Model registry stages will be removed in a future major release. To learn more about the deprecation of model registry stages, see our migration guide here: https://mlflow.org/docs/2.12.2/model-registry.html#migrating-from-stages\n",
      "  client.transition_model_version_stage(\n"
     ]
    }
   ],
   "source": [
    "columns = []\n",
    "rows = []\n",
    "for skill , experiment_id in experiment_skill_map.items():\n",
    "    max_roc_auc_row = get_best_experiment(experiment_id)\n",
    "    if max_roc_auc_row is None:\n",
    "        continue\n",
    "    finalize_experiement(run_id=max_roc_auc_row['run_id'].tolist()[0], skill_name=skill)\n",
    "    max_roc_auc_row['skill'] = skill\n",
    "    rows.append(max_roc_auc_row)\n"
   ],
   "metadata": {
    "collapsed": false,
    "ExecuteTime": {
     "end_time": "2024-05-22T10:22:35.568265700Z",
     "start_time": "2024-05-22T10:22:04.714412500Z"
    }
   },
   "id": "bc0f637b0815875d",
   "execution_count": 4
  },
  {
   "cell_type": "code",
   "outputs": [
    {
     "data": {
      "text/plain": "     params.Classifier                               skill  \\\n1       LGBMClassifier                             Zulrah    \n3                  SVM                            Zalcano    \n3                  SVM                         Wintertodt    \n2   LogisticRegression                            Vorkath    \n3                  SVM                            Vet'ion    \n3                  SVM                          Venenatis    \n3                  SVM        Theatre of Blood: Hard Mode    \n10                 SVM                   Theatre of Blood    \n22  LogisticRegression                          Tempoross    \n37  LogisticRegression                            Spindel    \n73                 SVM                            Skotizo    \n46    GradientBoosting                            Scorpia    \n37  LogisticRegression                     Phantom Muspah    \n29      LGBMClassifier                Phosani's Nightmare    \n2   LogisticRegression                          Nightmare    \n23  LogisticRegression                                Nex    \n76        RandomForest                              Mimic    \n23  LogisticRegression                   K'ril Tsutsaroth    \n58  LogisticRegression                          Kree'Arra    \n59                 SVM                  King Black Dragon    \n30  LogisticRegression                     Kalphite Queen    \n45                 SVM                            Hespori    \n52                 SVM                            Hespori    \n73                 SVM                            Hespori    \n52                 SVM                         Giant Mole    \n31                 SVM                   General Graardor    \n58  LogisticRegression                      Duke Sucellus    \n30  LogisticRegression             Deranged Archaeologist    \n58  LogisticRegression                  Dagannoth Supreme    \n73                 SVM                      Dagannoth Rex    \n58  LogisticRegression                    Dagannoth Prime    \n31                 SVM                Crazy Archaeologist    \n30  LogisticRegression                    Corporeal Beast    \n51  LogisticRegression                  Commander Zilyana    \n51  LogisticRegression                      Chaos Fanatic    \n46    GradientBoosting                    Chaos Elemental    \n73                 SVM  Chambers of Xeric: Challenge Mode    \n38                 SVM                  Chambers of Xeric    \n58  LogisticRegression                         Calvar'ion    \n59                 SVM                           Callisto    \n25    GradientBoosting                     Barrows Chests    \n37  LogisticRegression                              Artio    \n16  LogisticRegression                       Rifts closed    \n12          ExtraTrees                     Soul Wars Zeal    \n24  LogisticRegression               Clue Scrolls (elite)    \n72  LogisticRegression                Clue Scrolls (hard)    \n58  LogisticRegression              Clue Scrolls (medium)    \n65  LogisticRegression                Clue Scrolls (easy)    \n73                 SVM            Clue Scrolls (beginner)    \n58  LogisticRegression                 Clue Scrolls (all)    \n3                  SVM              Bounty Hunter - Rogue    \n10                 SVM              Bounty Hunter - Rogue    \n19                 SVM             Bounty Hunter - Hunter    \n\n    params.PCA_n_components  metrics.Mean Accuracy  metrics.ROC-AUC  \\\n1                       150                  0.912         0.911517   \n3                       150                  0.873         0.833367   \n3                       150                  0.739         0.728103   \n2                       150                  0.870         0.870128   \n3                       150                  0.899         0.857078   \n3                       150                  0.889         0.821001   \n3                       150                  0.942         0.823596   \n10                        6                  0.877         0.858279   \n22                       50                  0.840         0.798926   \n37                       40                  0.917         0.884370   \n73                        6                  0.865         0.804794   \n46                       30                  0.936         0.810922   \n37                       40                  0.929         0.921394   \n29                       50                  0.886         0.883250   \n2                       125                  0.866         0.736020   \n23                       60                  0.903         0.862121   \n76                        6                  0.969         0.754484   \n23                       60                  0.929         0.818229   \n58                       10                  0.890         0.790890   \n59                       10                  0.913         0.838288   \n30                       50                  0.918         0.787214   \n45                       30                  0.954         0.757092   \n52                       20                  0.955         0.757092   \n73                        6                  0.955         0.757092   \n52                       20                  0.878         0.763225   \n31                       50                  0.891         0.814416   \n58                       10                  0.837         0.784545   \n30                       50                  0.879         0.769962   \n58                       10                  0.871         0.794900   \n73                        6                  0.839         0.755498   \n58                       10                  0.858         0.753527   \n31                       50                  0.919         0.790054   \n30                       50                  0.924         0.915344   \n51                       20                  0.891         0.830344   \n51                       20                  0.880         0.787943   \n46                       30                  0.922         0.784682   \n73                        6                  0.874         0.800904   \n38                       40                  0.910         0.845483   \n58                       10                  0.935         0.897222   \n59                       10                  0.890         0.849118   \n25                       60                  0.942         0.840251   \n37                       40                  0.928         0.918723   \n16                       80                  0.863         0.839342   \n12                      100                  0.853         0.841667   \n24                       20                  0.929         0.791327   \n72                        6                  0.833         0.738974   \n58                       20                  0.910         0.888896   \n65                       10                  0.884         0.738166   \n73                        6                  0.867         0.762116   \n58                       20                  0.906         0.894737   \n3                       150                  0.804         0.796186   \n10                      125                  0.804         0.796186   \n19                      100                  0.793         0.787880   \n\n    metrics.Recall Class 1  metrics.Recall Class 0  metrics.Accuracy Class 1  \\\n1                 0.864253                0.958781                     0.917   \n3                 0.774390                0.892344                     0.873   \n3                 0.710526                0.745679                     0.739   \n2                 0.862609                0.877647                     0.869   \n3                 0.790323                0.923833                     0.899   \n3                 0.715084                0.926918                     0.889   \n3                 0.689655                0.957537                     0.942   \n10                0.835052                0.881506                     0.877   \n22                0.737805                0.860048                     0.840   \n37                0.836735                0.932005                     0.918   \n73                0.736842                0.872747                     0.865   \n46                0.661290                0.960554                     0.942   \n37                0.895349                0.947439                     0.934   \n29                0.847875                0.918626                     0.887   \n2                 0.587302                0.884739                     0.866   \n23                0.804054                0.920188                     0.903   \n76                0.533333                0.975635                     0.969   \n23                0.700000                0.936458                     0.927   \n58                0.682927                0.898853                     0.890   \n59                0.754717                0.921859                     0.913   \n30                0.641026                0.933403                     0.922   \n45                0.555556                0.958628                     0.955   \n52                0.555556                0.958628                     0.955   \n73                0.555556                0.958628                     0.955   \n52                0.632653                0.893796                     0.881   \n31                0.713115                0.915718                     0.891   \n58                0.725806                0.843284                     0.836   \n30                0.644068                0.895855                     0.881   \n58                0.714286                0.875514                     0.871   \n73                0.666667                0.844330                     0.839   \n58                0.642857                0.864198                     0.858   \n31                0.651163                0.928945                     0.917   \n30                0.900990                0.929699                     0.921   \n51                0.759494                0.901194                     0.890   \n51                0.683333                0.892553                     0.880   \n46                0.617647                0.951717                     0.929   \n73                0.720930                0.880878                     0.874   \n38                0.761905                0.929062                     0.908   \n58                0.850000                0.944444                     0.935   \n59                0.788820                0.909416                     0.890   \n25                0.714286                0.966216                     0.938   \n37                0.903509                0.933938                     0.927   \n16                0.794872                0.883812                     0.863   \n12                0.790000                0.893333                     0.852   \n24                0.650000                0.932653                     0.927   \n72                0.640000                0.837949                     0.833   \n58                0.863014                0.914779                     0.911   \n65                0.588235                0.888098                     0.883   \n73                0.652174                0.872057                     0.867   \n58                0.880000                0.909474                     0.908   \n3                 0.783784                0.808589                     0.804   \n10                0.783784                0.808589                     0.804   \n19                0.779487                0.796273                     0.793   \n\n    metrics.Accuracy Class 0  \n1                      0.917  \n3                      0.873  \n3                      0.739  \n2                      0.869  \n3                      0.899  \n3                      0.889  \n3                      0.942  \n10                     0.877  \n22                     0.840  \n37                     0.918  \n73                     0.865  \n46                     0.942  \n37                     0.934  \n29                     0.887  \n2                      0.866  \n23                     0.903  \n76                     0.969  \n23                     0.927  \n58                     0.890  \n59                     0.913  \n30                     0.922  \n45                     0.955  \n52                     0.955  \n73                     0.955  \n52                     0.881  \n31                     0.891  \n58                     0.836  \n30                     0.881  \n58                     0.871  \n73                     0.839  \n58                     0.858  \n31                     0.917  \n30                     0.921  \n51                     0.890  \n51                     0.880  \n46                     0.929  \n73                     0.874  \n38                     0.908  \n58                     0.935  \n59                     0.890  \n25                     0.938  \n37                     0.927  \n16                     0.863  \n12                     0.852  \n24                     0.927  \n72                     0.833  \n58                     0.911  \n65                     0.883  \n73                     0.867  \n58                     0.908  \n3                      0.804  \n10                     0.804  \n19                     0.793  ",
      "text/html": "<div>\n<style scoped>\n    .dataframe tbody tr th:only-of-type {\n        vertical-align: middle;\n    }\n\n    .dataframe tbody tr th {\n        vertical-align: top;\n    }\n\n    .dataframe thead th {\n        text-align: right;\n    }\n</style>\n<table border=\"1\" class=\"dataframe\">\n  <thead>\n    <tr style=\"text-align: right;\">\n      <th></th>\n      <th>params.Classifier</th>\n      <th>skill</th>\n      <th>params.PCA_n_components</th>\n      <th>metrics.Mean Accuracy</th>\n      <th>metrics.ROC-AUC</th>\n      <th>metrics.Recall Class 1</th>\n      <th>metrics.Recall Class 0</th>\n      <th>metrics.Accuracy Class 1</th>\n      <th>metrics.Accuracy Class 0</th>\n    </tr>\n  </thead>\n  <tbody>\n    <tr>\n      <th>1</th>\n      <td>LGBMClassifier</td>\n      <td>Zulrah</td>\n      <td>150</td>\n      <td>0.912</td>\n      <td>0.911517</td>\n      <td>0.864253</td>\n      <td>0.958781</td>\n      <td>0.917</td>\n      <td>0.917</td>\n    </tr>\n    <tr>\n      <th>3</th>\n      <td>SVM</td>\n      <td>Zalcano</td>\n      <td>150</td>\n      <td>0.873</td>\n      <td>0.833367</td>\n      <td>0.774390</td>\n      <td>0.892344</td>\n      <td>0.873</td>\n      <td>0.873</td>\n    </tr>\n    <tr>\n      <th>3</th>\n      <td>SVM</td>\n      <td>Wintertodt</td>\n      <td>150</td>\n      <td>0.739</td>\n      <td>0.728103</td>\n      <td>0.710526</td>\n      <td>0.745679</td>\n      <td>0.739</td>\n      <td>0.739</td>\n    </tr>\n    <tr>\n      <th>2</th>\n      <td>LogisticRegression</td>\n      <td>Vorkath</td>\n      <td>150</td>\n      <td>0.870</td>\n      <td>0.870128</td>\n      <td>0.862609</td>\n      <td>0.877647</td>\n      <td>0.869</td>\n      <td>0.869</td>\n    </tr>\n    <tr>\n      <th>3</th>\n      <td>SVM</td>\n      <td>Vet'ion</td>\n      <td>150</td>\n      <td>0.899</td>\n      <td>0.857078</td>\n      <td>0.790323</td>\n      <td>0.923833</td>\n      <td>0.899</td>\n      <td>0.899</td>\n    </tr>\n    <tr>\n      <th>3</th>\n      <td>SVM</td>\n      <td>Venenatis</td>\n      <td>150</td>\n      <td>0.889</td>\n      <td>0.821001</td>\n      <td>0.715084</td>\n      <td>0.926918</td>\n      <td>0.889</td>\n      <td>0.889</td>\n    </tr>\n    <tr>\n      <th>3</th>\n      <td>SVM</td>\n      <td>Theatre of Blood: Hard Mode</td>\n      <td>150</td>\n      <td>0.942</td>\n      <td>0.823596</td>\n      <td>0.689655</td>\n      <td>0.957537</td>\n      <td>0.942</td>\n      <td>0.942</td>\n    </tr>\n    <tr>\n      <th>10</th>\n      <td>SVM</td>\n      <td>Theatre of Blood</td>\n      <td>6</td>\n      <td>0.877</td>\n      <td>0.858279</td>\n      <td>0.835052</td>\n      <td>0.881506</td>\n      <td>0.877</td>\n      <td>0.877</td>\n    </tr>\n    <tr>\n      <th>22</th>\n      <td>LogisticRegression</td>\n      <td>Tempoross</td>\n      <td>50</td>\n      <td>0.840</td>\n      <td>0.798926</td>\n      <td>0.737805</td>\n      <td>0.860048</td>\n      <td>0.840</td>\n      <td>0.840</td>\n    </tr>\n    <tr>\n      <th>37</th>\n      <td>LogisticRegression</td>\n      <td>Spindel</td>\n      <td>40</td>\n      <td>0.917</td>\n      <td>0.884370</td>\n      <td>0.836735</td>\n      <td>0.932005</td>\n      <td>0.918</td>\n      <td>0.918</td>\n    </tr>\n    <tr>\n      <th>73</th>\n      <td>SVM</td>\n      <td>Skotizo</td>\n      <td>6</td>\n      <td>0.865</td>\n      <td>0.804794</td>\n      <td>0.736842</td>\n      <td>0.872747</td>\n      <td>0.865</td>\n      <td>0.865</td>\n    </tr>\n    <tr>\n      <th>46</th>\n      <td>GradientBoosting</td>\n      <td>Scorpia</td>\n      <td>30</td>\n      <td>0.936</td>\n      <td>0.810922</td>\n      <td>0.661290</td>\n      <td>0.960554</td>\n      <td>0.942</td>\n      <td>0.942</td>\n    </tr>\n    <tr>\n      <th>37</th>\n      <td>LogisticRegression</td>\n      <td>Phantom Muspah</td>\n      <td>40</td>\n      <td>0.929</td>\n      <td>0.921394</td>\n      <td>0.895349</td>\n      <td>0.947439</td>\n      <td>0.934</td>\n      <td>0.934</td>\n    </tr>\n    <tr>\n      <th>29</th>\n      <td>LGBMClassifier</td>\n      <td>Phosani's Nightmare</td>\n      <td>50</td>\n      <td>0.886</td>\n      <td>0.883250</td>\n      <td>0.847875</td>\n      <td>0.918626</td>\n      <td>0.887</td>\n      <td>0.887</td>\n    </tr>\n    <tr>\n      <th>2</th>\n      <td>LogisticRegression</td>\n      <td>Nightmare</td>\n      <td>125</td>\n      <td>0.866</td>\n      <td>0.736020</td>\n      <td>0.587302</td>\n      <td>0.884739</td>\n      <td>0.866</td>\n      <td>0.866</td>\n    </tr>\n    <tr>\n      <th>23</th>\n      <td>LogisticRegression</td>\n      <td>Nex</td>\n      <td>60</td>\n      <td>0.903</td>\n      <td>0.862121</td>\n      <td>0.804054</td>\n      <td>0.920188</td>\n      <td>0.903</td>\n      <td>0.903</td>\n    </tr>\n    <tr>\n      <th>76</th>\n      <td>RandomForest</td>\n      <td>Mimic</td>\n      <td>6</td>\n      <td>0.969</td>\n      <td>0.754484</td>\n      <td>0.533333</td>\n      <td>0.975635</td>\n      <td>0.969</td>\n      <td>0.969</td>\n    </tr>\n    <tr>\n      <th>23</th>\n      <td>LogisticRegression</td>\n      <td>K'ril Tsutsaroth</td>\n      <td>60</td>\n      <td>0.929</td>\n      <td>0.818229</td>\n      <td>0.700000</td>\n      <td>0.936458</td>\n      <td>0.927</td>\n      <td>0.927</td>\n    </tr>\n    <tr>\n      <th>58</th>\n      <td>LogisticRegression</td>\n      <td>Kree'Arra</td>\n      <td>10</td>\n      <td>0.890</td>\n      <td>0.790890</td>\n      <td>0.682927</td>\n      <td>0.898853</td>\n      <td>0.890</td>\n      <td>0.890</td>\n    </tr>\n    <tr>\n      <th>59</th>\n      <td>SVM</td>\n      <td>King Black Dragon</td>\n      <td>10</td>\n      <td>0.913</td>\n      <td>0.838288</td>\n      <td>0.754717</td>\n      <td>0.921859</td>\n      <td>0.913</td>\n      <td>0.913</td>\n    </tr>\n    <tr>\n      <th>30</th>\n      <td>LogisticRegression</td>\n      <td>Kalphite Queen</td>\n      <td>50</td>\n      <td>0.918</td>\n      <td>0.787214</td>\n      <td>0.641026</td>\n      <td>0.933403</td>\n      <td>0.922</td>\n      <td>0.922</td>\n    </tr>\n    <tr>\n      <th>45</th>\n      <td>SVM</td>\n      <td>Hespori</td>\n      <td>30</td>\n      <td>0.954</td>\n      <td>0.757092</td>\n      <td>0.555556</td>\n      <td>0.958628</td>\n      <td>0.955</td>\n      <td>0.955</td>\n    </tr>\n    <tr>\n      <th>52</th>\n      <td>SVM</td>\n      <td>Hespori</td>\n      <td>20</td>\n      <td>0.955</td>\n      <td>0.757092</td>\n      <td>0.555556</td>\n      <td>0.958628</td>\n      <td>0.955</td>\n      <td>0.955</td>\n    </tr>\n    <tr>\n      <th>73</th>\n      <td>SVM</td>\n      <td>Hespori</td>\n      <td>6</td>\n      <td>0.955</td>\n      <td>0.757092</td>\n      <td>0.555556</td>\n      <td>0.958628</td>\n      <td>0.955</td>\n      <td>0.955</td>\n    </tr>\n    <tr>\n      <th>52</th>\n      <td>SVM</td>\n      <td>Giant Mole</td>\n      <td>20</td>\n      <td>0.878</td>\n      <td>0.763225</td>\n      <td>0.632653</td>\n      <td>0.893796</td>\n      <td>0.881</td>\n      <td>0.881</td>\n    </tr>\n    <tr>\n      <th>31</th>\n      <td>SVM</td>\n      <td>General Graardor</td>\n      <td>50</td>\n      <td>0.891</td>\n      <td>0.814416</td>\n      <td>0.713115</td>\n      <td>0.915718</td>\n      <td>0.891</td>\n      <td>0.891</td>\n    </tr>\n    <tr>\n      <th>58</th>\n      <td>LogisticRegression</td>\n      <td>Duke Sucellus</td>\n      <td>10</td>\n      <td>0.837</td>\n      <td>0.784545</td>\n      <td>0.725806</td>\n      <td>0.843284</td>\n      <td>0.836</td>\n      <td>0.836</td>\n    </tr>\n    <tr>\n      <th>30</th>\n      <td>LogisticRegression</td>\n      <td>Deranged Archaeologist</td>\n      <td>50</td>\n      <td>0.879</td>\n      <td>0.769962</td>\n      <td>0.644068</td>\n      <td>0.895855</td>\n      <td>0.881</td>\n      <td>0.881</td>\n    </tr>\n    <tr>\n      <th>58</th>\n      <td>LogisticRegression</td>\n      <td>Dagannoth Supreme</td>\n      <td>10</td>\n      <td>0.871</td>\n      <td>0.794900</td>\n      <td>0.714286</td>\n      <td>0.875514</td>\n      <td>0.871</td>\n      <td>0.871</td>\n    </tr>\n    <tr>\n      <th>73</th>\n      <td>SVM</td>\n      <td>Dagannoth Rex</td>\n      <td>6</td>\n      <td>0.839</td>\n      <td>0.755498</td>\n      <td>0.666667</td>\n      <td>0.844330</td>\n      <td>0.839</td>\n      <td>0.839</td>\n    </tr>\n    <tr>\n      <th>58</th>\n      <td>LogisticRegression</td>\n      <td>Dagannoth Prime</td>\n      <td>10</td>\n      <td>0.858</td>\n      <td>0.753527</td>\n      <td>0.642857</td>\n      <td>0.864198</td>\n      <td>0.858</td>\n      <td>0.858</td>\n    </tr>\n    <tr>\n      <th>31</th>\n      <td>SVM</td>\n      <td>Crazy Archaeologist</td>\n      <td>50</td>\n      <td>0.919</td>\n      <td>0.790054</td>\n      <td>0.651163</td>\n      <td>0.928945</td>\n      <td>0.917</td>\n      <td>0.917</td>\n    </tr>\n    <tr>\n      <th>30</th>\n      <td>LogisticRegression</td>\n      <td>Corporeal Beast</td>\n      <td>50</td>\n      <td>0.924</td>\n      <td>0.915344</td>\n      <td>0.900990</td>\n      <td>0.929699</td>\n      <td>0.921</td>\n      <td>0.921</td>\n    </tr>\n    <tr>\n      <th>51</th>\n      <td>LogisticRegression</td>\n      <td>Commander Zilyana</td>\n      <td>20</td>\n      <td>0.891</td>\n      <td>0.830344</td>\n      <td>0.759494</td>\n      <td>0.901194</td>\n      <td>0.890</td>\n      <td>0.890</td>\n    </tr>\n    <tr>\n      <th>51</th>\n      <td>LogisticRegression</td>\n      <td>Chaos Fanatic</td>\n      <td>20</td>\n      <td>0.880</td>\n      <td>0.787943</td>\n      <td>0.683333</td>\n      <td>0.892553</td>\n      <td>0.880</td>\n      <td>0.880</td>\n    </tr>\n    <tr>\n      <th>46</th>\n      <td>GradientBoosting</td>\n      <td>Chaos Elemental</td>\n      <td>30</td>\n      <td>0.922</td>\n      <td>0.784682</td>\n      <td>0.617647</td>\n      <td>0.951717</td>\n      <td>0.929</td>\n      <td>0.929</td>\n    </tr>\n    <tr>\n      <th>73</th>\n      <td>SVM</td>\n      <td>Chambers of Xeric: Challenge Mode</td>\n      <td>6</td>\n      <td>0.874</td>\n      <td>0.800904</td>\n      <td>0.720930</td>\n      <td>0.880878</td>\n      <td>0.874</td>\n      <td>0.874</td>\n    </tr>\n    <tr>\n      <th>38</th>\n      <td>SVM</td>\n      <td>Chambers of Xeric</td>\n      <td>40</td>\n      <td>0.910</td>\n      <td>0.845483</td>\n      <td>0.761905</td>\n      <td>0.929062</td>\n      <td>0.908</td>\n      <td>0.908</td>\n    </tr>\n    <tr>\n      <th>58</th>\n      <td>LogisticRegression</td>\n      <td>Calvar'ion</td>\n      <td>10</td>\n      <td>0.935</td>\n      <td>0.897222</td>\n      <td>0.850000</td>\n      <td>0.944444</td>\n      <td>0.935</td>\n      <td>0.935</td>\n    </tr>\n    <tr>\n      <th>59</th>\n      <td>SVM</td>\n      <td>Callisto</td>\n      <td>10</td>\n      <td>0.890</td>\n      <td>0.849118</td>\n      <td>0.788820</td>\n      <td>0.909416</td>\n      <td>0.890</td>\n      <td>0.890</td>\n    </tr>\n    <tr>\n      <th>25</th>\n      <td>GradientBoosting</td>\n      <td>Barrows Chests</td>\n      <td>60</td>\n      <td>0.942</td>\n      <td>0.840251</td>\n      <td>0.714286</td>\n      <td>0.966216</td>\n      <td>0.938</td>\n      <td>0.938</td>\n    </tr>\n    <tr>\n      <th>37</th>\n      <td>LogisticRegression</td>\n      <td>Artio</td>\n      <td>40</td>\n      <td>0.928</td>\n      <td>0.918723</td>\n      <td>0.903509</td>\n      <td>0.933938</td>\n      <td>0.927</td>\n      <td>0.927</td>\n    </tr>\n    <tr>\n      <th>16</th>\n      <td>LogisticRegression</td>\n      <td>Rifts closed</td>\n      <td>80</td>\n      <td>0.863</td>\n      <td>0.839342</td>\n      <td>0.794872</td>\n      <td>0.883812</td>\n      <td>0.863</td>\n      <td>0.863</td>\n    </tr>\n    <tr>\n      <th>12</th>\n      <td>ExtraTrees</td>\n      <td>Soul Wars Zeal</td>\n      <td>100</td>\n      <td>0.853</td>\n      <td>0.841667</td>\n      <td>0.790000</td>\n      <td>0.893333</td>\n      <td>0.852</td>\n      <td>0.852</td>\n    </tr>\n    <tr>\n      <th>24</th>\n      <td>LogisticRegression</td>\n      <td>Clue Scrolls (elite)</td>\n      <td>20</td>\n      <td>0.929</td>\n      <td>0.791327</td>\n      <td>0.650000</td>\n      <td>0.932653</td>\n      <td>0.927</td>\n      <td>0.927</td>\n    </tr>\n    <tr>\n      <th>72</th>\n      <td>LogisticRegression</td>\n      <td>Clue Scrolls (hard)</td>\n      <td>6</td>\n      <td>0.833</td>\n      <td>0.738974</td>\n      <td>0.640000</td>\n      <td>0.837949</td>\n      <td>0.833</td>\n      <td>0.833</td>\n    </tr>\n    <tr>\n      <th>58</th>\n      <td>LogisticRegression</td>\n      <td>Clue Scrolls (medium)</td>\n      <td>20</td>\n      <td>0.910</td>\n      <td>0.888896</td>\n      <td>0.863014</td>\n      <td>0.914779</td>\n      <td>0.911</td>\n      <td>0.911</td>\n    </tr>\n    <tr>\n      <th>65</th>\n      <td>LogisticRegression</td>\n      <td>Clue Scrolls (easy)</td>\n      <td>10</td>\n      <td>0.884</td>\n      <td>0.738166</td>\n      <td>0.588235</td>\n      <td>0.888098</td>\n      <td>0.883</td>\n      <td>0.883</td>\n    </tr>\n    <tr>\n      <th>73</th>\n      <td>SVM</td>\n      <td>Clue Scrolls (beginner)</td>\n      <td>6</td>\n      <td>0.867</td>\n      <td>0.762116</td>\n      <td>0.652174</td>\n      <td>0.872057</td>\n      <td>0.867</td>\n      <td>0.867</td>\n    </tr>\n    <tr>\n      <th>58</th>\n      <td>LogisticRegression</td>\n      <td>Clue Scrolls (all)</td>\n      <td>20</td>\n      <td>0.906</td>\n      <td>0.894737</td>\n      <td>0.880000</td>\n      <td>0.909474</td>\n      <td>0.908</td>\n      <td>0.908</td>\n    </tr>\n    <tr>\n      <th>3</th>\n      <td>SVM</td>\n      <td>Bounty Hunter - Rogue</td>\n      <td>150</td>\n      <td>0.804</td>\n      <td>0.796186</td>\n      <td>0.783784</td>\n      <td>0.808589</td>\n      <td>0.804</td>\n      <td>0.804</td>\n    </tr>\n    <tr>\n      <th>10</th>\n      <td>SVM</td>\n      <td>Bounty Hunter - Rogue</td>\n      <td>125</td>\n      <td>0.804</td>\n      <td>0.796186</td>\n      <td>0.783784</td>\n      <td>0.808589</td>\n      <td>0.804</td>\n      <td>0.804</td>\n    </tr>\n    <tr>\n      <th>19</th>\n      <td>SVM</td>\n      <td>Bounty Hunter - Hunter</td>\n      <td>100</td>\n      <td>0.793</td>\n      <td>0.787880</td>\n      <td>0.779487</td>\n      <td>0.796273</td>\n      <td>0.793</td>\n      <td>0.793</td>\n    </tr>\n  </tbody>\n</table>\n</div>"
     },
     "execution_count": 5,
     "metadata": {},
     "output_type": "execute_result"
    }
   ],
   "source": [
    "df = pd.concat(rows)\n",
    "\n",
    "columns = ['params.Classifier','skill','params.PCA_n_components','metrics.Mean Accuracy','metrics.ROC-AUC', 'metrics.Recall Class 1','metrics.Recall Class 0','metrics.Accuracy Class 1','metrics.Accuracy Class 0']\n",
    "\n",
    "df = df[columns]\n",
    "\n",
    "int_columns = ['params.PCA_n_components']\n",
    "float_columns = ['metrics.Mean Accuracy','metrics.ROC-AUC','metrics.Recall Class 1','metrics.Recall Class 0','metrics.Accuracy Class 1','metrics.Accuracy Class 0']\n",
    "\n",
    "float_columns = [col for col in float_columns if col in columns]\n",
    "int_columns = [col for col in int_columns if col in columns]\n",
    "\n",
    "\n",
    "df[int_columns] = df[int_columns].astype(int)\n",
    "df[float_columns] = df[float_columns].astype(float)\n",
    "df"
   ],
   "metadata": {
    "collapsed": false,
    "ExecuteTime": {
     "end_time": "2024-05-22T10:22:35.604921600Z",
     "start_time": "2024-05-22T10:22:35.567290800Z"
    }
   },
   "id": "d156135fa9c501fa",
   "execution_count": 5
  },
  {
   "cell_type": "code",
   "outputs": [
    {
     "data": {
      "text/plain": "                                 skill  metrics.Mean Accuracy  \\\n1                              Zulrah                   0.912   \n3                             Zalcano                   0.873   \n3                          Wintertodt                   0.739   \n2                             Vorkath                   0.870   \n3                             Vet'ion                   0.899   \n3                           Venenatis                   0.889   \n3         Theatre of Blood: Hard Mode                   0.942   \n10                   Theatre of Blood                   0.877   \n22                          Tempoross                   0.840   \n37                            Spindel                   0.917   \n73                            Skotizo                   0.865   \n46                            Scorpia                   0.936   \n37                     Phantom Muspah                   0.929   \n29                Phosani's Nightmare                   0.886   \n2                           Nightmare                   0.866   \n23                                Nex                   0.903   \n76                              Mimic                   0.969   \n23                   K'ril Tsutsaroth                   0.929   \n58                          Kree'Arra                   0.890   \n59                  King Black Dragon                   0.913   \n30                     Kalphite Queen                   0.918   \n45                            Hespori                   0.954   \n52                            Hespori                   0.955   \n73                            Hespori                   0.955   \n52                         Giant Mole                   0.878   \n31                   General Graardor                   0.891   \n58                      Duke Sucellus                   0.837   \n30             Deranged Archaeologist                   0.879   \n58                  Dagannoth Supreme                   0.871   \n73                      Dagannoth Rex                   0.839   \n58                    Dagannoth Prime                   0.858   \n31                Crazy Archaeologist                   0.919   \n30                    Corporeal Beast                   0.924   \n51                  Commander Zilyana                   0.891   \n51                      Chaos Fanatic                   0.880   \n46                    Chaos Elemental                   0.922   \n73  Chambers of Xeric: Challenge Mode                   0.874   \n38                  Chambers of Xeric                   0.910   \n58                         Calvar'ion                   0.935   \n59                           Callisto                   0.890   \n25                     Barrows Chests                   0.942   \n37                              Artio                   0.928   \n16                       Rifts closed                   0.863   \n12                     Soul Wars Zeal                   0.853   \n24               Clue Scrolls (elite)                   0.929   \n72                Clue Scrolls (hard)                   0.833   \n58              Clue Scrolls (medium)                   0.910   \n65                Clue Scrolls (easy)                   0.884   \n73            Clue Scrolls (beginner)                   0.867   \n58                 Clue Scrolls (all)                   0.906   \n3               Bounty Hunter - Rogue                   0.804   \n10              Bounty Hunter - Rogue                   0.804   \n19             Bounty Hunter - Hunter                   0.793   \n\n    metrics.Accuracy Class 1  metrics.Accuracy Class 0  \n1                      0.917                     0.917  \n3                      0.873                     0.873  \n3                      0.739                     0.739  \n2                      0.869                     0.869  \n3                      0.899                     0.899  \n3                      0.889                     0.889  \n3                      0.942                     0.942  \n10                     0.877                     0.877  \n22                     0.840                     0.840  \n37                     0.918                     0.918  \n73                     0.865                     0.865  \n46                     0.942                     0.942  \n37                     0.934                     0.934  \n29                     0.887                     0.887  \n2                      0.866                     0.866  \n23                     0.903                     0.903  \n76                     0.969                     0.969  \n23                     0.927                     0.927  \n58                     0.890                     0.890  \n59                     0.913                     0.913  \n30                     0.922                     0.922  \n45                     0.955                     0.955  \n52                     0.955                     0.955  \n73                     0.955                     0.955  \n52                     0.881                     0.881  \n31                     0.891                     0.891  \n58                     0.836                     0.836  \n30                     0.881                     0.881  \n58                     0.871                     0.871  \n73                     0.839                     0.839  \n58                     0.858                     0.858  \n31                     0.917                     0.917  \n30                     0.921                     0.921  \n51                     0.890                     0.890  \n51                     0.880                     0.880  \n46                     0.929                     0.929  \n73                     0.874                     0.874  \n38                     0.908                     0.908  \n58                     0.935                     0.935  \n59                     0.890                     0.890  \n25                     0.938                     0.938  \n37                     0.927                     0.927  \n16                     0.863                     0.863  \n12                     0.852                     0.852  \n24                     0.927                     0.927  \n72                     0.833                     0.833  \n58                     0.911                     0.911  \n65                     0.883                     0.883  \n73                     0.867                     0.867  \n58                     0.908                     0.908  \n3                      0.804                     0.804  \n10                     0.804                     0.804  \n19                     0.793                     0.793  ",
      "text/html": "<div>\n<style scoped>\n    .dataframe tbody tr th:only-of-type {\n        vertical-align: middle;\n    }\n\n    .dataframe tbody tr th {\n        vertical-align: top;\n    }\n\n    .dataframe thead th {\n        text-align: right;\n    }\n</style>\n<table border=\"1\" class=\"dataframe\">\n  <thead>\n    <tr style=\"text-align: right;\">\n      <th></th>\n      <th>skill</th>\n      <th>metrics.Mean Accuracy</th>\n      <th>metrics.Accuracy Class 1</th>\n      <th>metrics.Accuracy Class 0</th>\n    </tr>\n  </thead>\n  <tbody>\n    <tr>\n      <th>1</th>\n      <td>Zulrah</td>\n      <td>0.912</td>\n      <td>0.917</td>\n      <td>0.917</td>\n    </tr>\n    <tr>\n      <th>3</th>\n      <td>Zalcano</td>\n      <td>0.873</td>\n      <td>0.873</td>\n      <td>0.873</td>\n    </tr>\n    <tr>\n      <th>3</th>\n      <td>Wintertodt</td>\n      <td>0.739</td>\n      <td>0.739</td>\n      <td>0.739</td>\n    </tr>\n    <tr>\n      <th>2</th>\n      <td>Vorkath</td>\n      <td>0.870</td>\n      <td>0.869</td>\n      <td>0.869</td>\n    </tr>\n    <tr>\n      <th>3</th>\n      <td>Vet'ion</td>\n      <td>0.899</td>\n      <td>0.899</td>\n      <td>0.899</td>\n    </tr>\n    <tr>\n      <th>3</th>\n      <td>Venenatis</td>\n      <td>0.889</td>\n      <td>0.889</td>\n      <td>0.889</td>\n    </tr>\n    <tr>\n      <th>3</th>\n      <td>Theatre of Blood: Hard Mode</td>\n      <td>0.942</td>\n      <td>0.942</td>\n      <td>0.942</td>\n    </tr>\n    <tr>\n      <th>10</th>\n      <td>Theatre of Blood</td>\n      <td>0.877</td>\n      <td>0.877</td>\n      <td>0.877</td>\n    </tr>\n    <tr>\n      <th>22</th>\n      <td>Tempoross</td>\n      <td>0.840</td>\n      <td>0.840</td>\n      <td>0.840</td>\n    </tr>\n    <tr>\n      <th>37</th>\n      <td>Spindel</td>\n      <td>0.917</td>\n      <td>0.918</td>\n      <td>0.918</td>\n    </tr>\n    <tr>\n      <th>73</th>\n      <td>Skotizo</td>\n      <td>0.865</td>\n      <td>0.865</td>\n      <td>0.865</td>\n    </tr>\n    <tr>\n      <th>46</th>\n      <td>Scorpia</td>\n      <td>0.936</td>\n      <td>0.942</td>\n      <td>0.942</td>\n    </tr>\n    <tr>\n      <th>37</th>\n      <td>Phantom Muspah</td>\n      <td>0.929</td>\n      <td>0.934</td>\n      <td>0.934</td>\n    </tr>\n    <tr>\n      <th>29</th>\n      <td>Phosani's Nightmare</td>\n      <td>0.886</td>\n      <td>0.887</td>\n      <td>0.887</td>\n    </tr>\n    <tr>\n      <th>2</th>\n      <td>Nightmare</td>\n      <td>0.866</td>\n      <td>0.866</td>\n      <td>0.866</td>\n    </tr>\n    <tr>\n      <th>23</th>\n      <td>Nex</td>\n      <td>0.903</td>\n      <td>0.903</td>\n      <td>0.903</td>\n    </tr>\n    <tr>\n      <th>76</th>\n      <td>Mimic</td>\n      <td>0.969</td>\n      <td>0.969</td>\n      <td>0.969</td>\n    </tr>\n    <tr>\n      <th>23</th>\n      <td>K'ril Tsutsaroth</td>\n      <td>0.929</td>\n      <td>0.927</td>\n      <td>0.927</td>\n    </tr>\n    <tr>\n      <th>58</th>\n      <td>Kree'Arra</td>\n      <td>0.890</td>\n      <td>0.890</td>\n      <td>0.890</td>\n    </tr>\n    <tr>\n      <th>59</th>\n      <td>King Black Dragon</td>\n      <td>0.913</td>\n      <td>0.913</td>\n      <td>0.913</td>\n    </tr>\n    <tr>\n      <th>30</th>\n      <td>Kalphite Queen</td>\n      <td>0.918</td>\n      <td>0.922</td>\n      <td>0.922</td>\n    </tr>\n    <tr>\n      <th>45</th>\n      <td>Hespori</td>\n      <td>0.954</td>\n      <td>0.955</td>\n      <td>0.955</td>\n    </tr>\n    <tr>\n      <th>52</th>\n      <td>Hespori</td>\n      <td>0.955</td>\n      <td>0.955</td>\n      <td>0.955</td>\n    </tr>\n    <tr>\n      <th>73</th>\n      <td>Hespori</td>\n      <td>0.955</td>\n      <td>0.955</td>\n      <td>0.955</td>\n    </tr>\n    <tr>\n      <th>52</th>\n      <td>Giant Mole</td>\n      <td>0.878</td>\n      <td>0.881</td>\n      <td>0.881</td>\n    </tr>\n    <tr>\n      <th>31</th>\n      <td>General Graardor</td>\n      <td>0.891</td>\n      <td>0.891</td>\n      <td>0.891</td>\n    </tr>\n    <tr>\n      <th>58</th>\n      <td>Duke Sucellus</td>\n      <td>0.837</td>\n      <td>0.836</td>\n      <td>0.836</td>\n    </tr>\n    <tr>\n      <th>30</th>\n      <td>Deranged Archaeologist</td>\n      <td>0.879</td>\n      <td>0.881</td>\n      <td>0.881</td>\n    </tr>\n    <tr>\n      <th>58</th>\n      <td>Dagannoth Supreme</td>\n      <td>0.871</td>\n      <td>0.871</td>\n      <td>0.871</td>\n    </tr>\n    <tr>\n      <th>73</th>\n      <td>Dagannoth Rex</td>\n      <td>0.839</td>\n      <td>0.839</td>\n      <td>0.839</td>\n    </tr>\n    <tr>\n      <th>58</th>\n      <td>Dagannoth Prime</td>\n      <td>0.858</td>\n      <td>0.858</td>\n      <td>0.858</td>\n    </tr>\n    <tr>\n      <th>31</th>\n      <td>Crazy Archaeologist</td>\n      <td>0.919</td>\n      <td>0.917</td>\n      <td>0.917</td>\n    </tr>\n    <tr>\n      <th>30</th>\n      <td>Corporeal Beast</td>\n      <td>0.924</td>\n      <td>0.921</td>\n      <td>0.921</td>\n    </tr>\n    <tr>\n      <th>51</th>\n      <td>Commander Zilyana</td>\n      <td>0.891</td>\n      <td>0.890</td>\n      <td>0.890</td>\n    </tr>\n    <tr>\n      <th>51</th>\n      <td>Chaos Fanatic</td>\n      <td>0.880</td>\n      <td>0.880</td>\n      <td>0.880</td>\n    </tr>\n    <tr>\n      <th>46</th>\n      <td>Chaos Elemental</td>\n      <td>0.922</td>\n      <td>0.929</td>\n      <td>0.929</td>\n    </tr>\n    <tr>\n      <th>73</th>\n      <td>Chambers of Xeric: Challenge Mode</td>\n      <td>0.874</td>\n      <td>0.874</td>\n      <td>0.874</td>\n    </tr>\n    <tr>\n      <th>38</th>\n      <td>Chambers of Xeric</td>\n      <td>0.910</td>\n      <td>0.908</td>\n      <td>0.908</td>\n    </tr>\n    <tr>\n      <th>58</th>\n      <td>Calvar'ion</td>\n      <td>0.935</td>\n      <td>0.935</td>\n      <td>0.935</td>\n    </tr>\n    <tr>\n      <th>59</th>\n      <td>Callisto</td>\n      <td>0.890</td>\n      <td>0.890</td>\n      <td>0.890</td>\n    </tr>\n    <tr>\n      <th>25</th>\n      <td>Barrows Chests</td>\n      <td>0.942</td>\n      <td>0.938</td>\n      <td>0.938</td>\n    </tr>\n    <tr>\n      <th>37</th>\n      <td>Artio</td>\n      <td>0.928</td>\n      <td>0.927</td>\n      <td>0.927</td>\n    </tr>\n    <tr>\n      <th>16</th>\n      <td>Rifts closed</td>\n      <td>0.863</td>\n      <td>0.863</td>\n      <td>0.863</td>\n    </tr>\n    <tr>\n      <th>12</th>\n      <td>Soul Wars Zeal</td>\n      <td>0.853</td>\n      <td>0.852</td>\n      <td>0.852</td>\n    </tr>\n    <tr>\n      <th>24</th>\n      <td>Clue Scrolls (elite)</td>\n      <td>0.929</td>\n      <td>0.927</td>\n      <td>0.927</td>\n    </tr>\n    <tr>\n      <th>72</th>\n      <td>Clue Scrolls (hard)</td>\n      <td>0.833</td>\n      <td>0.833</td>\n      <td>0.833</td>\n    </tr>\n    <tr>\n      <th>58</th>\n      <td>Clue Scrolls (medium)</td>\n      <td>0.910</td>\n      <td>0.911</td>\n      <td>0.911</td>\n    </tr>\n    <tr>\n      <th>65</th>\n      <td>Clue Scrolls (easy)</td>\n      <td>0.884</td>\n      <td>0.883</td>\n      <td>0.883</td>\n    </tr>\n    <tr>\n      <th>73</th>\n      <td>Clue Scrolls (beginner)</td>\n      <td>0.867</td>\n      <td>0.867</td>\n      <td>0.867</td>\n    </tr>\n    <tr>\n      <th>58</th>\n      <td>Clue Scrolls (all)</td>\n      <td>0.906</td>\n      <td>0.908</td>\n      <td>0.908</td>\n    </tr>\n    <tr>\n      <th>3</th>\n      <td>Bounty Hunter - Rogue</td>\n      <td>0.804</td>\n      <td>0.804</td>\n      <td>0.804</td>\n    </tr>\n    <tr>\n      <th>10</th>\n      <td>Bounty Hunter - Rogue</td>\n      <td>0.804</td>\n      <td>0.804</td>\n      <td>0.804</td>\n    </tr>\n    <tr>\n      <th>19</th>\n      <td>Bounty Hunter - Hunter</td>\n      <td>0.793</td>\n      <td>0.793</td>\n      <td>0.793</td>\n    </tr>\n  </tbody>\n</table>\n</div>"
     },
     "execution_count": 6,
     "metadata": {},
     "output_type": "execute_result"
    }
   ],
   "source": [
    "df[['skill', 'metrics.Mean Accuracy', 'metrics.Accuracy Class 1','metrics.Accuracy Class 0']]"
   ],
   "metadata": {
    "collapsed": false,
    "ExecuteTime": {
     "end_time": "2024-05-22T10:22:35.616638800Z",
     "start_time": "2024-05-22T10:22:35.607849900Z"
    }
   },
   "id": "a804f80f1c2d21c6",
   "execution_count": 6
  }
 ],
 "metadata": {
  "kernelspec": {
   "display_name": "Python 3",
   "language": "python",
   "name": "python3"
  },
  "language_info": {
   "codemirror_mode": {
    "name": "ipython",
    "version": 2
   },
   "file_extension": ".py",
   "mimetype": "text/x-python",
   "name": "python",
   "nbconvert_exporter": "python",
   "pygments_lexer": "ipython2",
   "version": "2.7.6"
  }
 },
 "nbformat": 4,
 "nbformat_minor": 5
}
