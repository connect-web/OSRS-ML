{
 "cells": [
  {
   "cell_type": "code",
   "outputs": [
    {
     "data": {
      "text/plain": "          pid  Banned  updates  activescrapes  inactivescrapes  \\\n0      170698   False       37             28                9   \n1       80833   False       71             67                4   \n2     3804178    True       19              4               15   \n3      682311    True       45             40                5   \n4     1096481   False       71             70                1   \n...       ...     ...      ...            ...              ...   \n2495   339693   False       57             21               36   \n2496   105584   False       72             67                5   \n2497   182610   False       72             65                7   \n2498    75002   False       72             71                1   \n2499   106360   False       31             19               12   \n\n      shortestinactivity  shortestactivity  longestinactivity  \\\n0                      1                 1                  6   \n1                      1                 3                  2   \n2                      7                 1                  8   \n3                      5                 0                  5   \n4                      1                 0                  1   \n...                  ...               ...                ...   \n2495                   1                 1                 11   \n2496                   2                 1                  3   \n2497                   1                 1                  1   \n2498                   1                 0                  1   \n2499                   1                 2                  7   \n\n      longestactivity  Overall_live  ...  Vardorvis_aggregate  \\\n0                   9    2236452139  ...                  0.0   \n1                  53     601621625  ...                  0.0   \n2                   1     171624284  ...                  0.0   \n3                   0     252826786  ...                  0.0   \n4                   0     687382853  ...                  0.0   \n...               ...           ...  ...                  ...   \n2495               11     177086291  ...                  0.0   \n2496                1     319339186  ...                  0.0   \n2497               23     216491210  ...                  0.0   \n2498                0     427903760  ...                  0.0   \n2499                5     215829383  ...                  0.0   \n\n      Venenatis_aggregate  Vet'ion_aggregate  Vorkath_aggregate  \\\n0                     8.0                0.0             4115.0   \n1                     0.0                0.0                0.0   \n2                     0.0                0.0                0.0   \n3                     0.0                0.0                0.0   \n4                     0.0                0.0                0.0   \n...                   ...                ...                ...   \n2495                  0.0                0.0                0.0   \n2496                  2.0                0.0                0.0   \n2497                  0.0                0.0               84.0   \n2498                  0.0                0.0                0.0   \n2499                  0.0                0.0                7.0   \n\n      Wintertodt_aggregate  Zalcano_aggregate  Zulrah_aggregate  \\\n0                   6342.0              251.0            3117.0   \n1                   5752.0                0.0               0.0   \n2                    577.0                0.0               0.0   \n3                   6254.0                0.0               0.0   \n4                   3588.0                0.0               0.0   \n...                    ...                ...               ...   \n2495                  83.0                0.0               0.0   \n2496                 101.0                0.0               0.0   \n2497                 287.0               50.0               0.0   \n2498                  53.0                0.0               0.0   \n2499                 183.0                0.0               0.0   \n\n      Colosseum Glory_aggregate  Deadman Points_aggregate  \\\n0                             0                         0   \n1                             0                         0   \n2                             0                         0   \n3                             0                         0   \n4                             0                         0   \n...                         ...                       ...   \n2495                          0                         0   \n2496                          0                         0   \n2497                          0                         0   \n2498                          0                         0   \n2499                          0                         0   \n\n      League Points_aggregate  \n0                           0  \n1                           0  \n2                           0  \n3                           0  \n4                           0  \n...                       ...  \n2495                        0  \n2496                        0  \n2497                        0  \n2498                        0  \n2499                        0  \n\n[2500 rows x 209 columns]",
      "text/html": "<div>\n<style scoped>\n    .dataframe tbody tr th:only-of-type {\n        vertical-align: middle;\n    }\n\n    .dataframe tbody tr th {\n        vertical-align: top;\n    }\n\n    .dataframe thead th {\n        text-align: right;\n    }\n</style>\n<table border=\"1\" class=\"dataframe\">\n  <thead>\n    <tr style=\"text-align: right;\">\n      <th></th>\n      <th>pid</th>\n      <th>Banned</th>\n      <th>updates</th>\n      <th>activescrapes</th>\n      <th>inactivescrapes</th>\n      <th>shortestinactivity</th>\n      <th>shortestactivity</th>\n      <th>longestinactivity</th>\n      <th>longestactivity</th>\n      <th>Overall_live</th>\n      <th>...</th>\n      <th>Vardorvis_aggregate</th>\n      <th>Venenatis_aggregate</th>\n      <th>Vet'ion_aggregate</th>\n      <th>Vorkath_aggregate</th>\n      <th>Wintertodt_aggregate</th>\n      <th>Zalcano_aggregate</th>\n      <th>Zulrah_aggregate</th>\n      <th>Colosseum Glory_aggregate</th>\n      <th>Deadman Points_aggregate</th>\n      <th>League Points_aggregate</th>\n    </tr>\n  </thead>\n  <tbody>\n    <tr>\n      <th>0</th>\n      <td>170698</td>\n      <td>False</td>\n      <td>37</td>\n      <td>28</td>\n      <td>9</td>\n      <td>1</td>\n      <td>1</td>\n      <td>6</td>\n      <td>9</td>\n      <td>2236452139</td>\n      <td>...</td>\n      <td>0.0</td>\n      <td>8.0</td>\n      <td>0.0</td>\n      <td>4115.0</td>\n      <td>6342.0</td>\n      <td>251.0</td>\n      <td>3117.0</td>\n      <td>0</td>\n      <td>0</td>\n      <td>0</td>\n    </tr>\n    <tr>\n      <th>1</th>\n      <td>80833</td>\n      <td>False</td>\n      <td>71</td>\n      <td>67</td>\n      <td>4</td>\n      <td>1</td>\n      <td>3</td>\n      <td>2</td>\n      <td>53</td>\n      <td>601621625</td>\n      <td>...</td>\n      <td>0.0</td>\n      <td>0.0</td>\n      <td>0.0</td>\n      <td>0.0</td>\n      <td>5752.0</td>\n      <td>0.0</td>\n      <td>0.0</td>\n      <td>0</td>\n      <td>0</td>\n      <td>0</td>\n    </tr>\n    <tr>\n      <th>2</th>\n      <td>3804178</td>\n      <td>True</td>\n      <td>19</td>\n      <td>4</td>\n      <td>15</td>\n      <td>7</td>\n      <td>1</td>\n      <td>8</td>\n      <td>1</td>\n      <td>171624284</td>\n      <td>...</td>\n      <td>0.0</td>\n      <td>0.0</td>\n      <td>0.0</td>\n      <td>0.0</td>\n      <td>577.0</td>\n      <td>0.0</td>\n      <td>0.0</td>\n      <td>0</td>\n      <td>0</td>\n      <td>0</td>\n    </tr>\n    <tr>\n      <th>3</th>\n      <td>682311</td>\n      <td>True</td>\n      <td>45</td>\n      <td>40</td>\n      <td>5</td>\n      <td>5</td>\n      <td>0</td>\n      <td>5</td>\n      <td>0</td>\n      <td>252826786</td>\n      <td>...</td>\n      <td>0.0</td>\n      <td>0.0</td>\n      <td>0.0</td>\n      <td>0.0</td>\n      <td>6254.0</td>\n      <td>0.0</td>\n      <td>0.0</td>\n      <td>0</td>\n      <td>0</td>\n      <td>0</td>\n    </tr>\n    <tr>\n      <th>4</th>\n      <td>1096481</td>\n      <td>False</td>\n      <td>71</td>\n      <td>70</td>\n      <td>1</td>\n      <td>1</td>\n      <td>0</td>\n      <td>1</td>\n      <td>0</td>\n      <td>687382853</td>\n      <td>...</td>\n      <td>0.0</td>\n      <td>0.0</td>\n      <td>0.0</td>\n      <td>0.0</td>\n      <td>3588.0</td>\n      <td>0.0</td>\n      <td>0.0</td>\n      <td>0</td>\n      <td>0</td>\n      <td>0</td>\n    </tr>\n    <tr>\n      <th>...</th>\n      <td>...</td>\n      <td>...</td>\n      <td>...</td>\n      <td>...</td>\n      <td>...</td>\n      <td>...</td>\n      <td>...</td>\n      <td>...</td>\n      <td>...</td>\n      <td>...</td>\n      <td>...</td>\n      <td>...</td>\n      <td>...</td>\n      <td>...</td>\n      <td>...</td>\n      <td>...</td>\n      <td>...</td>\n      <td>...</td>\n      <td>...</td>\n      <td>...</td>\n      <td>...</td>\n    </tr>\n    <tr>\n      <th>2495</th>\n      <td>339693</td>\n      <td>False</td>\n      <td>57</td>\n      <td>21</td>\n      <td>36</td>\n      <td>1</td>\n      <td>1</td>\n      <td>11</td>\n      <td>11</td>\n      <td>177086291</td>\n      <td>...</td>\n      <td>0.0</td>\n      <td>0.0</td>\n      <td>0.0</td>\n      <td>0.0</td>\n      <td>83.0</td>\n      <td>0.0</td>\n      <td>0.0</td>\n      <td>0</td>\n      <td>0</td>\n      <td>0</td>\n    </tr>\n    <tr>\n      <th>2496</th>\n      <td>105584</td>\n      <td>False</td>\n      <td>72</td>\n      <td>67</td>\n      <td>5</td>\n      <td>2</td>\n      <td>1</td>\n      <td>3</td>\n      <td>1</td>\n      <td>319339186</td>\n      <td>...</td>\n      <td>0.0</td>\n      <td>2.0</td>\n      <td>0.0</td>\n      <td>0.0</td>\n      <td>101.0</td>\n      <td>0.0</td>\n      <td>0.0</td>\n      <td>0</td>\n      <td>0</td>\n      <td>0</td>\n    </tr>\n    <tr>\n      <th>2497</th>\n      <td>182610</td>\n      <td>False</td>\n      <td>72</td>\n      <td>65</td>\n      <td>7</td>\n      <td>1</td>\n      <td>1</td>\n      <td>1</td>\n      <td>23</td>\n      <td>216491210</td>\n      <td>...</td>\n      <td>0.0</td>\n      <td>0.0</td>\n      <td>0.0</td>\n      <td>84.0</td>\n      <td>287.0</td>\n      <td>50.0</td>\n      <td>0.0</td>\n      <td>0</td>\n      <td>0</td>\n      <td>0</td>\n    </tr>\n    <tr>\n      <th>2498</th>\n      <td>75002</td>\n      <td>False</td>\n      <td>72</td>\n      <td>71</td>\n      <td>1</td>\n      <td>1</td>\n      <td>0</td>\n      <td>1</td>\n      <td>0</td>\n      <td>427903760</td>\n      <td>...</td>\n      <td>0.0</td>\n      <td>0.0</td>\n      <td>0.0</td>\n      <td>0.0</td>\n      <td>53.0</td>\n      <td>0.0</td>\n      <td>0.0</td>\n      <td>0</td>\n      <td>0</td>\n      <td>0</td>\n    </tr>\n    <tr>\n      <th>2499</th>\n      <td>106360</td>\n      <td>False</td>\n      <td>31</td>\n      <td>19</td>\n      <td>12</td>\n      <td>1</td>\n      <td>2</td>\n      <td>7</td>\n      <td>5</td>\n      <td>215829383</td>\n      <td>...</td>\n      <td>0.0</td>\n      <td>0.0</td>\n      <td>0.0</td>\n      <td>7.0</td>\n      <td>183.0</td>\n      <td>0.0</td>\n      <td>0.0</td>\n      <td>0</td>\n      <td>0</td>\n      <td>0</td>\n    </tr>\n  </tbody>\n</table>\n<p>2500 rows × 209 columns</p>\n</div>"
     },
     "execution_count": 6,
     "metadata": {},
     "output_type": "execute_result"
    }
   ],
   "source": [
    "from rs_data import get_dataframe, SkillType, evaluate_model\n",
    "\n",
    "activity = 'Firemaking'\n",
    "df, formatter = get_dataframe(activity, limit=2500, aggregate=True, skill_type=SkillType.LEVELS)\n",
    "\n",
    "X = df.drop(columns=['Banned', 'pid'])\n",
    "y = df['Banned']\n",
    "df"
   ],
   "metadata": {
    "collapsed": false,
    "ExecuteTime": {
     "end_time": "2024-05-17T13:04:54.022930700Z",
     "start_time": "2024-05-17T13:04:53.318664400Z"
    }
   },
   "id": "e135f0541884ce08",
   "execution_count": 6
  },
  {
   "cell_type": "code",
   "outputs": [],
   "source": [
    "# Preprocessing\n",
    "from sklearn.preprocessing import StandardScaler, MinMaxScaler, RobustScaler\n",
    "\n",
    "# Sampling \n",
    "from imblearn.over_sampling import SMOTE\n",
    "\n",
    "# Models\n",
    "from sklearn.ensemble import RandomForestClassifier, ExtraTreesClassifier, GradientBoostingClassifier\n",
    "from imblearn.over_sampling import SMOTE, BorderlineSMOTE, SVMSMOTE, KMeansSMOTE\n",
    "from sklearn.svm import SVC\n",
    "from sklearn.linear_model import LogisticRegression\n",
    "from lightgbm import LGBMClassifier\n",
    "from xgboost import XGBClassifier"
   ],
   "metadata": {
    "collapsed": false,
    "ExecuteTime": {
     "end_time": "2024-05-17T13:04:54.027970Z",
     "start_time": "2024-05-17T13:04:54.020930800Z"
    }
   },
   "id": "339e29ed650b1bef",
   "execution_count": 7
  },
  {
   "cell_type": "code",
   "execution_count": 8,
   "id": "initial_id",
   "metadata": {
    "collapsed": true,
    "ExecuteTime": {
     "end_time": "2024-05-17T13:04:54.050972Z",
     "start_time": "2024-05-17T13:04:54.028970200Z"
    }
   },
   "outputs": [],
   "source": [
    "from sklearn.compose import ColumnTransformer\n",
    "\n",
    "from sklearn.model_selection import train_test_split\n",
    "from imblearn.pipeline import Pipeline as ImblearnPipeline\n",
    "\n",
    "from rs_data import (PCA, TSNE, UMAP)\n",
    "\n",
    "standard_features = formatter.agg_skills + formatter.agg_minigames\n",
    "robust_features = formatter.extra_features #[]    # Assume these have outliers\n",
    "minmax_features = formatter.live_skills  #[]  # Assume these need scaling between 0 and 1\n",
    "minmax_features_2 = formatter.live_minigames #[] \n",
    "\n",
    "all_features = [formatter.agg_skills, formatter.agg_minigames, formatter.extra_features, formatter.live_minigames, formatter.live_skills]\n",
    "\n",
    "# Creating the ColumnTransformer\n",
    "preprocessor = ColumnTransformer(\n",
    "    transformers=[\n",
    "        ('std', StandardScaler(), standard_features),\n",
    "        #('std_2', StandardScaler(), standard_features_2),\n",
    "        \n",
    "        ('robust', RobustScaler(), robust_features),\n",
    "        ('minmax', MinMaxScaler(), minmax_features),\n",
    "        ('minmax_2', MinMaxScaler(), minmax_features_2),\n",
    "        \n",
    "    ])\n",
    "\n",
    "\n",
    "preprocessor = ColumnTransformer(\n",
    "    transformers=[\n",
    "    (f'std_{i}', StandardScaler(), feature_col)\n",
    "    for i, feature_col in enumerate(all_features)\n",
    "]\n",
    ")\n",
    "\n",
    "\n",
    "\n",
    "# Create an imblearn pipeline with SMOTE\n",
    "pipeline = ImblearnPipeline([\n",
    "    ('preprocessor', preprocessor),\n",
    "    #('smote', SMOTE(random_state=42)),  # SMOTE applied only during training\n",
    "    ('PCA', TSNE(n_components=3)),\n",
    "    ('classifier', ExtraTreesClassifier())\n",
    "])\n",
    "\n",
    "# Applying the pipeline\n",
    "X_train, X_test, y_train, y_test = train_test_split(X, y, test_size=0.2, random_state=42)\n",
    "pipeline.fit(X_train, y_train)"
   ]
  },
  {
   "cell_type": "code",
   "outputs": [
    {
     "ename": "ValueError",
     "evalue": "The plot method requires fitted model and labels.",
     "output_type": "error",
     "traceback": [
      "\u001B[0;31m---------------------------------------------------------------------------\u001B[0m",
      "\u001B[0;31mValueError\u001B[0m                                Traceback (most recent call last)",
      "Cell \u001B[0;32mIn[10], line 2\u001B[0m\n\u001B[1;32m      1\u001B[0m pca_processor \u001B[38;5;241m=\u001B[39m pipeline\u001B[38;5;241m.\u001B[39mnamed_steps[\u001B[38;5;124m'\u001B[39m\u001B[38;5;124mPCA\u001B[39m\u001B[38;5;124m'\u001B[39m]\n\u001B[0;32m----> 2\u001B[0m \u001B[43mpca_processor\u001B[49m\u001B[38;5;241;43m.\u001B[39;49m\u001B[43mplot\u001B[49m\u001B[43m(\u001B[49m\u001B[43m)\u001B[49m\n",
      "File \u001B[0;32m/mnt/c/Users/Lounge/PyCharmProjects/osrs/pca Analysis/rs_data/pipelines/transformers/base_transformer.py:79\u001B[0m, in \u001B[0;36mBaseTransformation.plot\u001B[0;34m(self, player_ids, x_range, y_range)\u001B[0m\n\u001B[1;32m     70\u001B[0m \u001B[38;5;28;01mdef\u001B[39;00m \u001B[38;5;21mplot\u001B[39m(\u001B[38;5;28mself\u001B[39m, player_ids: \u001B[38;5;28mlist\u001B[39m[\u001B[38;5;28mint\u001B[39m] \u001B[38;5;241m=\u001B[39m \u001B[38;5;28;01mNone\u001B[39;00m, x_range: \u001B[38;5;28mtuple\u001B[39m \u001B[38;5;241m=\u001B[39m \u001B[38;5;28;01mNone\u001B[39;00m, y_range: \u001B[38;5;28mtuple\u001B[39m \u001B[38;5;241m=\u001B[39m \u001B[38;5;28;01mNone\u001B[39;00m) \u001B[38;5;241m-\u001B[39m\u001B[38;5;241m>\u001B[39m \u001B[38;5;28;01mNone\u001B[39;00m:\n\u001B[1;32m     71\u001B[0m \u001B[38;5;250m    \u001B[39m\u001B[38;5;124;03m\"\"\"\u001B[39;00m\n\u001B[1;32m     72\u001B[0m \u001B[38;5;124;03m    Plot the results of the transformation using Plotly. This method assumes self.components_\u001B[39;00m\n\u001B[1;32m     73\u001B[0m \u001B[38;5;124;03m    has been set during transform and that labels and necessary metadata are stored.\u001B[39;00m\n\u001B[0;32m   (...)\u001B[0m\n\u001B[1;32m     77\u001B[0m \u001B[38;5;124;03m    :param y_range: Range of y-axis.\u001B[39;00m\n\u001B[1;32m     78\u001B[0m \u001B[38;5;124;03m    \"\"\"\u001B[39;00m\n\u001B[0;32m---> 79\u001B[0m     plot_df \u001B[38;5;241m=\u001B[39m \u001B[38;5;28;43mself\u001B[39;49m\u001B[38;5;241;43m.\u001B[39;49m\u001B[43mbuild_plot_df\u001B[49m\u001B[43m(\u001B[49m\u001B[43mplayer_ids\u001B[49m\u001B[43m)\u001B[49m\n\u001B[1;32m     81\u001B[0m     \u001B[38;5;66;03m# Using Plotly to create the scatter plot\u001B[39;00m\n\u001B[1;32m     82\u001B[0m     fig \u001B[38;5;241m=\u001B[39m px\u001B[38;5;241m.\u001B[39mscatter(plot_df, x\u001B[38;5;241m=\u001B[39m\u001B[38;5;124mf\u001B[39m\u001B[38;5;124m'\u001B[39m\u001B[38;5;132;01m{\u001B[39;00m\u001B[38;5;28mself\u001B[39m\u001B[38;5;241m.\u001B[39mmodel_name\u001B[38;5;132;01m}\u001B[39;00m\u001B[38;5;124m Component 1\u001B[39m\u001B[38;5;124m'\u001B[39m, y\u001B[38;5;241m=\u001B[39m\u001B[38;5;124mf\u001B[39m\u001B[38;5;124m'\u001B[39m\u001B[38;5;132;01m{\u001B[39;00m\u001B[38;5;28mself\u001B[39m\u001B[38;5;241m.\u001B[39mmodel_name\u001B[38;5;132;01m}\u001B[39;00m\u001B[38;5;124m Component 2\u001B[39m\u001B[38;5;124m'\u001B[39m, color\u001B[38;5;241m=\u001B[39m\u001B[38;5;124m'\u001B[39m\u001B[38;5;124mBanned\u001B[39m\u001B[38;5;124m'\u001B[39m,\n\u001B[1;32m     83\u001B[0m                      hover_data\u001B[38;5;241m=\u001B[39m[\u001B[38;5;124m'\u001B[39m\u001B[38;5;124mpid\u001B[39m\u001B[38;5;124m'\u001B[39m])\n",
      "File \u001B[0;32m/mnt/c/Users/Lounge/PyCharmProjects/osrs/pca Analysis/rs_data/pipelines/transformers/base_transformer.py:59\u001B[0m, in \u001B[0;36mBaseTransformation.build_plot_df\u001B[0;34m(self, player_ids)\u001B[0m\n\u001B[1;32m     57\u001B[0m \u001B[38;5;28;01mdef\u001B[39;00m \u001B[38;5;21mbuild_plot_df\u001B[39m(\u001B[38;5;28mself\u001B[39m, player_ids: \u001B[38;5;28mlist\u001B[39m[\u001B[38;5;28mint\u001B[39m]) \u001B[38;5;241m-\u001B[39m\u001B[38;5;241m>\u001B[39m pd\u001B[38;5;241m.\u001B[39mDataFrame:\n\u001B[1;32m     58\u001B[0m     \u001B[38;5;28;01mif\u001B[39;00m \u001B[38;5;28mself\u001B[39m\u001B[38;5;241m.\u001B[39mcomponents_ \u001B[38;5;129;01mis\u001B[39;00m \u001B[38;5;28;01mNone\u001B[39;00m \u001B[38;5;129;01mor\u001B[39;00m \u001B[38;5;28mself\u001B[39m\u001B[38;5;241m.\u001B[39mlabels_ \u001B[38;5;129;01mis\u001B[39;00m \u001B[38;5;28;01mNone\u001B[39;00m:\n\u001B[0;32m---> 59\u001B[0m         \u001B[38;5;28;01mraise\u001B[39;00m \u001B[38;5;167;01mValueError\u001B[39;00m(\u001B[38;5;124m\"\u001B[39m\u001B[38;5;124mThe plot method requires fitted model and labels.\u001B[39m\u001B[38;5;124m\"\u001B[39m)\n\u001B[1;32m     61\u001B[0m     plot_df \u001B[38;5;241m=\u001B[39m pd\u001B[38;5;241m.\u001B[39mDataFrame(data\u001B[38;5;241m=\u001B[39m\u001B[38;5;28mself\u001B[39m\u001B[38;5;241m.\u001B[39mcomponents_, columns\u001B[38;5;241m=\u001B[39m[\u001B[38;5;124mf\u001B[39m\u001B[38;5;124m'\u001B[39m\u001B[38;5;132;01m{\u001B[39;00m\u001B[38;5;28mself\u001B[39m\u001B[38;5;241m.\u001B[39mmodel_name\u001B[38;5;132;01m}\u001B[39;00m\u001B[38;5;124m Component \u001B[39m\u001B[38;5;132;01m{\u001B[39;00mi\u001B[38;5;250m \u001B[39m\u001B[38;5;241m+\u001B[39m\u001B[38;5;250m \u001B[39m\u001B[38;5;241m1\u001B[39m\u001B[38;5;132;01m}\u001B[39;00m\u001B[38;5;124m'\u001B[39m \u001B[38;5;28;01mfor\u001B[39;00m i \u001B[38;5;129;01min\u001B[39;00m \u001B[38;5;28mrange\u001B[39m(\u001B[38;5;28mself\u001B[39m\u001B[38;5;241m.\u001B[39mcomponents_\u001B[38;5;241m.\u001B[39mshape[\u001B[38;5;241m1\u001B[39m])])\n\u001B[1;32m     62\u001B[0m     plot_df[\u001B[38;5;124m'\u001B[39m\u001B[38;5;124mBanned\u001B[39m\u001B[38;5;124m'\u001B[39m] \u001B[38;5;241m=\u001B[39m \u001B[38;5;28mself\u001B[39m\u001B[38;5;241m.\u001B[39mlabels_\n",
      "\u001B[0;31mValueError\u001B[0m: The plot method requires fitted model and labels."
     ]
    }
   ],
   "source": [
    "pca_processor = pipeline.named_steps['PCA']\n",
    "pca_processor.plot()"
   ],
   "metadata": {
    "collapsed": false,
    "ExecuteTime": {
     "end_time": "2024-05-17T13:05:46.622932700Z",
     "start_time": "2024-05-17T13:05:46.577932600Z"
    }
   },
   "id": "111daeb5caa691e4",
   "execution_count": 10
  }
 ],
 "metadata": {
  "kernelspec": {
   "display_name": "Python 3",
   "language": "python",
   "name": "python3"
  },
  "language_info": {
   "codemirror_mode": {
    "name": "ipython",
    "version": 2
   },
   "file_extension": ".py",
   "mimetype": "text/x-python",
   "name": "python",
   "nbconvert_exporter": "python",
   "pygments_lexer": "ipython2",
   "version": "2.7.6"
  }
 },
 "nbformat": 4,
 "nbformat_minor": 5
}
