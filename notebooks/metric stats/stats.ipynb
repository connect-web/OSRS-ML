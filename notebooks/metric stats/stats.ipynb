{
 "cells": [
  {
   "cell_type": "code",
   "execution_count": 1,
   "id": "initial_id",
   "metadata": {
    "collapsed": true,
    "ExecuteTime": {
     "end_time": "2024-06-17T16:03:22.349662400Z",
     "start_time": "2024-06-17T16:03:21.654859800Z"
    }
   },
   "outputs": [
    {
     "data": {
      "text/plain": "    Unnamed: 0                      name  version  \\\n0           50       prod.Phantom Muspah        1   \n1           55            prod.Runecraft        1   \n2            1                prod.Artio        1   \n3           21      prod.Corporeal Beast        1   \n4           73               prod.Zulrah        1   \n..         ...                       ...      ...   \n69          24      prod.Dagannoth Prime        1   \n70          16  prod.Clue Scrolls (hard)        1   \n71          14  prod.Clue Scrolls (easy)        1   \n72          48            prod.Nightmare        1   \n73          70           prod.Wintertodt        1   \n\n                              run_id  Mean Accuracy   ROC-AUC  Recall Class 0  \\\n0   f157ce698a6144abafba4bf542650957          0.929  0.921394        0.947439   \n1   c019ee5eb9ee497abaebaa2959edcdd8          0.934  0.919547        0.945026   \n2   2ecb8a0db4524552aafb9b4e233fb516          0.928  0.918723        0.933938   \n3   15be28d818e34e6ea58d888e2c5fc9bc          0.924  0.915344        0.929699   \n4   7d143c283d5249d38db2839572a90cf7          0.912  0.911517        0.958781   \n..                               ...            ...       ...             ...   \n69  dd9eb7bd2b554e39a34d2e5c024fa76e          0.858  0.753527        0.864198   \n70  7b6d308ed05249eba1e3610f6ef4fa5f          0.833  0.738974        0.837949   \n71  1627d970ef8e4d968e95d25700d26729          0.884  0.738166        0.888098   \n72  3c5d2c158db440d39f3e9850ca3ca8e9          0.866  0.736020        0.884739   \n73  677324049381435db577fbd2398e2360          0.739  0.728103        0.745679   \n\n    Recall Class 1  Accuracy Class 0  Accuracy Class 1  \n0         0.895349             0.934             0.934  \n1         0.894068             0.933             0.933  \n2         0.903509             0.927             0.927  \n3         0.900990             0.921             0.921  \n4         0.864253             0.917             0.917  \n..             ...               ...               ...  \n69        0.642857             0.858             0.858  \n70        0.640000             0.833             0.833  \n71        0.588235             0.883             0.883  \n72        0.587302             0.866             0.866  \n73        0.710526             0.739             0.739  \n\n[74 rows x 10 columns]",
      "text/html": "<div>\n<style scoped>\n    .dataframe tbody tr th:only-of-type {\n        vertical-align: middle;\n    }\n\n    .dataframe tbody tr th {\n        vertical-align: top;\n    }\n\n    .dataframe thead th {\n        text-align: right;\n    }\n</style>\n<table border=\"1\" class=\"dataframe\">\n  <thead>\n    <tr style=\"text-align: right;\">\n      <th></th>\n      <th>Unnamed: 0</th>\n      <th>name</th>\n      <th>version</th>\n      <th>run_id</th>\n      <th>Mean Accuracy</th>\n      <th>ROC-AUC</th>\n      <th>Recall Class 0</th>\n      <th>Recall Class 1</th>\n      <th>Accuracy Class 0</th>\n      <th>Accuracy Class 1</th>\n    </tr>\n  </thead>\n  <tbody>\n    <tr>\n      <th>0</th>\n      <td>50</td>\n      <td>prod.Phantom Muspah</td>\n      <td>1</td>\n      <td>f157ce698a6144abafba4bf542650957</td>\n      <td>0.929</td>\n      <td>0.921394</td>\n      <td>0.947439</td>\n      <td>0.895349</td>\n      <td>0.934</td>\n      <td>0.934</td>\n    </tr>\n    <tr>\n      <th>1</th>\n      <td>55</td>\n      <td>prod.Runecraft</td>\n      <td>1</td>\n      <td>c019ee5eb9ee497abaebaa2959edcdd8</td>\n      <td>0.934</td>\n      <td>0.919547</td>\n      <td>0.945026</td>\n      <td>0.894068</td>\n      <td>0.933</td>\n      <td>0.933</td>\n    </tr>\n    <tr>\n      <th>2</th>\n      <td>1</td>\n      <td>prod.Artio</td>\n      <td>1</td>\n      <td>2ecb8a0db4524552aafb9b4e233fb516</td>\n      <td>0.928</td>\n      <td>0.918723</td>\n      <td>0.933938</td>\n      <td>0.903509</td>\n      <td>0.927</td>\n      <td>0.927</td>\n    </tr>\n    <tr>\n      <th>3</th>\n      <td>21</td>\n      <td>prod.Corporeal Beast</td>\n      <td>1</td>\n      <td>15be28d818e34e6ea58d888e2c5fc9bc</td>\n      <td>0.924</td>\n      <td>0.915344</td>\n      <td>0.929699</td>\n      <td>0.900990</td>\n      <td>0.921</td>\n      <td>0.921</td>\n    </tr>\n    <tr>\n      <th>4</th>\n      <td>73</td>\n      <td>prod.Zulrah</td>\n      <td>1</td>\n      <td>7d143c283d5249d38db2839572a90cf7</td>\n      <td>0.912</td>\n      <td>0.911517</td>\n      <td>0.958781</td>\n      <td>0.864253</td>\n      <td>0.917</td>\n      <td>0.917</td>\n    </tr>\n    <tr>\n      <th>...</th>\n      <td>...</td>\n      <td>...</td>\n      <td>...</td>\n      <td>...</td>\n      <td>...</td>\n      <td>...</td>\n      <td>...</td>\n      <td>...</td>\n      <td>...</td>\n      <td>...</td>\n    </tr>\n    <tr>\n      <th>69</th>\n      <td>24</td>\n      <td>prod.Dagannoth Prime</td>\n      <td>1</td>\n      <td>dd9eb7bd2b554e39a34d2e5c024fa76e</td>\n      <td>0.858</td>\n      <td>0.753527</td>\n      <td>0.864198</td>\n      <td>0.642857</td>\n      <td>0.858</td>\n      <td>0.858</td>\n    </tr>\n    <tr>\n      <th>70</th>\n      <td>16</td>\n      <td>prod.Clue Scrolls (hard)</td>\n      <td>1</td>\n      <td>7b6d308ed05249eba1e3610f6ef4fa5f</td>\n      <td>0.833</td>\n      <td>0.738974</td>\n      <td>0.837949</td>\n      <td>0.640000</td>\n      <td>0.833</td>\n      <td>0.833</td>\n    </tr>\n    <tr>\n      <th>71</th>\n      <td>14</td>\n      <td>prod.Clue Scrolls (easy)</td>\n      <td>1</td>\n      <td>1627d970ef8e4d968e95d25700d26729</td>\n      <td>0.884</td>\n      <td>0.738166</td>\n      <td>0.888098</td>\n      <td>0.588235</td>\n      <td>0.883</td>\n      <td>0.883</td>\n    </tr>\n    <tr>\n      <th>72</th>\n      <td>48</td>\n      <td>prod.Nightmare</td>\n      <td>1</td>\n      <td>3c5d2c158db440d39f3e9850ca3ca8e9</td>\n      <td>0.866</td>\n      <td>0.736020</td>\n      <td>0.884739</td>\n      <td>0.587302</td>\n      <td>0.866</td>\n      <td>0.866</td>\n    </tr>\n    <tr>\n      <th>73</th>\n      <td>70</td>\n      <td>prod.Wintertodt</td>\n      <td>1</td>\n      <td>677324049381435db577fbd2398e2360</td>\n      <td>0.739</td>\n      <td>0.728103</td>\n      <td>0.745679</td>\n      <td>0.710526</td>\n      <td>0.739</td>\n      <td>0.739</td>\n    </tr>\n  </tbody>\n</table>\n<p>74 rows × 10 columns</p>\n</div>"
     },
     "execution_count": 1,
     "metadata": {},
     "output_type": "execute_result"
    }
   ],
   "source": [
    "import pandas as pd\n",
    "\n",
    "\n",
    "df = pd.read_csv('../../data/model_metrics/v1/model_metrics.csv')\n",
    "\n",
    "df"
   ]
  },
  {
   "cell_type": "code",
   "outputs": [
    {
     "data": {
      "text/plain": "(0.8879864864864865, 0.8244935577246449)"
     },
     "execution_count": 5,
     "metadata": {},
     "output_type": "execute_result"
    }
   ],
   "source": [
    "import statistics\n",
    "\n",
    "statistics.mean(df['Mean Accuracy'].tolist()), statistics.mean(df['ROC-AUC'].tolist())"
   ],
   "metadata": {
    "collapsed": false,
    "ExecuteTime": {
     "end_time": "2024-06-17T16:03:52.889137800Z",
     "start_time": "2024-06-17T16:03:52.878138100Z"
    }
   },
   "id": "8734937f0105cd36",
   "execution_count": 5
  }
 ],
 "metadata": {
  "kernelspec": {
   "display_name": "Python 3",
   "language": "python",
   "name": "python3"
  },
  "language_info": {
   "codemirror_mode": {
    "name": "ipython",
    "version": 2
   },
   "file_extension": ".py",
   "mimetype": "text/x-python",
   "name": "python",
   "nbconvert_exporter": "python",
   "pygments_lexer": "ipython2",
   "version": "2.7.6"
  }
 },
 "nbformat": 4,
 "nbformat_minor": 5
}
